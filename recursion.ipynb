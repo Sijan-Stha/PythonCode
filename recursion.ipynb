{
 "cells": [
  {
   "cell_type": "code",
   "execution_count": 1,
   "id": "41bc18aa",
   "metadata": {},
   "outputs": [],
   "source": [
    "def test():\n",
    "    pass"
   ]
  },
  {
   "cell_type": "code",
   "execution_count": 2,
   "id": "056a05ca",
   "metadata": {},
   "outputs": [],
   "source": [
    "test()"
   ]
  },
  {
   "cell_type": "code",
   "execution_count": 4,
   "id": "fa25289a",
   "metadata": {},
   "outputs": [],
   "source": [
    "def test():\n",
    "    test() # if function calls itself it is called recursion\n",
    "    print('something')"
   ]
  },
  {
   "cell_type": "markdown",
   "id": "817b9e9f",
   "metadata": {},
   "source": [
    "# factorial using recursion"
   ]
  },
  {
   "cell_type": "code",
   "execution_count": 1,
   "id": "e0536ec8",
   "metadata": {},
   "outputs": [
    {
     "name": "stdout",
     "output_type": "stream",
     "text": [
      "Enter a Number: 0\n"
     ]
    },
    {
     "data": {
      "text/plain": [
       "1"
      ]
     },
     "execution_count": 1,
     "metadata": {},
     "output_type": "execute_result"
    }
   ],
   "source": [
    "def calc_factorial(num):\n",
    "    if num > 1:\n",
    "        factorial = num * calc_factorial(num - 1)\n",
    "    else:\n",
    "        factorial = 1\n",
    "    return factorial\n",
    "\n",
    "num = int(input(\"Enter a Number: \"))\n",
    "\n",
    "calc_factorial(num)"
   ]
  },
  {
   "cell_type": "code",
   "execution_count": null,
   "id": "94a047f9",
   "metadata": {},
   "outputs": [],
   "source": []
  }
 ],
 "metadata": {
  "kernelspec": {
   "display_name": "Python 3 (ipykernel)",
   "language": "python",
   "name": "python3"
  },
  "language_info": {
   "codemirror_mode": {
    "name": "ipython",
    "version": 3
   },
   "file_extension": ".py",
   "mimetype": "text/x-python",
   "name": "python",
   "nbconvert_exporter": "python",
   "pygments_lexer": "ipython3",
   "version": "3.10.9"
  }
 },
 "nbformat": 4,
 "nbformat_minor": 5
}
