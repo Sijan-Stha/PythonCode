{
 "cells": [
  {
   "cell_type": "markdown",
   "id": "5ec3f2cb",
   "metadata": {},
   "source": [
    "# Armstrong Number check."
   ]
  },
  {
   "cell_type": "code",
   "execution_count": 16,
   "id": "b2f481ac",
   "metadata": {},
   "outputs": [
    {
     "name": "stdout",
     "output_type": "stream",
     "text": [
      "please give a number : 153\n",
      "15\n",
      "i is 1\n",
      "1\n",
      "i is 2\n",
      "0\n",
      "i is 3\n",
      "3\n",
      "5\n",
      "1\n",
      "number is armstrong\n"
     ]
    }
   ],
   "source": [
    "i = 0\n",
    "result = 0\n",
    "n = int(input(\"please give a number : \"))\n",
    "number1 = n\n",
    "temp = n\n",
    "while n != 0:\n",
    "    n = (n//10)\n",
    "    print(n)\n",
    "    i = i+1;\n",
    "    print(f\"i is {i}\")\n",
    "while number1 != 0:\n",
    "    n = number1 % 10\n",
    "    print(n)\n",
    "    result = result + n ** i\n",
    "    number1 = number1 // 10\n",
    "if temp == result:\n",
    "    print(\"number is armstrong\")\n",
    "else:\n",
    "    print(\"number is not armstrong\") "
   ]
  },
  {
   "cell_type": "markdown",
   "id": "eaa5bba8",
   "metadata": {},
   "source": [
    "# Check if the given number is prime number or not."
   ]
  },
  {
   "cell_type": "code",
   "execution_count": 18,
   "id": "99786b64",
   "metadata": {},
   "outputs": [
    {
     "name": "stdout",
     "output_type": "stream",
     "text": [
      "Enter a number:25\n",
      "The number is Prime Number.\n"
     ]
    }
   ],
   "source": [
    "num = int(input(\"Enter a number:\"))\n",
    "\n",
    "if num % 1 == 0 and num % num == 0:\n",
    "    print(\"The number is Prime Number.\")\n",
    "else:\n",
    "    print(\"The number is not Prime Number\")"
   ]
  },
  {
   "cell_type": "code",
   "execution_count": null,
   "id": "e9ff383c",
   "metadata": {},
   "outputs": [],
   "source": []
  }
 ],
 "metadata": {
  "kernelspec": {
   "display_name": "Python 3 (ipykernel)",
   "language": "python",
   "name": "python3"
  },
  "language_info": {
   "codemirror_mode": {
    "name": "ipython",
    "version": 3
   },
   "file_extension": ".py",
   "mimetype": "text/x-python",
   "name": "python",
   "nbconvert_exporter": "python",
   "pygments_lexer": "ipython3",
   "version": "3.10.9"
  }
 },
 "nbformat": 4,
 "nbformat_minor": 5
}
