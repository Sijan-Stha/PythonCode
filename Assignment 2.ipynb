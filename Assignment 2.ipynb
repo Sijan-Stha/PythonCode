{
 "cells": [
  {
   "cell_type": "markdown",
   "id": "868059b2",
   "metadata": {},
   "source": [
    "# The volume of a sphere with radius r is 4/3 pi r**3. What is the volume of a sphere with radius 5."
   ]
  },
  {
   "cell_type": "code",
   "execution_count": 7,
   "id": "4d8ed804",
   "metadata": {},
   "outputs": [],
   "source": [
    "import math"
   ]
  },
  {
   "cell_type": "code",
   "execution_count": 8,
   "id": "8461e377",
   "metadata": {},
   "outputs": [
    {
     "data": {
      "text/plain": [
       "4.1887902047863905"
      ]
     },
     "execution_count": 8,
     "metadata": {},
     "output_type": "execute_result"
    }
   ],
   "source": [
    "r = 1\n",
    "volume_with_radius_1 = 4/3 * math.pi * r**2\n",
    "\n",
    "volume_with_radius_1"
   ]
  },
  {
   "cell_type": "code",
   "execution_count": 1,
   "id": "51f423ee",
   "metadata": {},
   "outputs": [
    {
     "name": "stdout",
     "output_type": "stream",
     "text": [
      "Enter the radius:\n"
     ]
    },
    {
     "ename": "ValueError",
     "evalue": "could not convert string to float: ''",
     "output_type": "error",
     "traceback": [
      "\u001b[1;31m---------------------------------------------------------------------------\u001b[0m",
      "\u001b[1;31mValueError\u001b[0m                                Traceback (most recent call last)",
      "Cell \u001b[1;32mIn[1], line 1\u001b[0m\n\u001b[1;32m----> 1\u001b[0m radius \u001b[38;5;241m=\u001b[39m \u001b[38;5;28;43mfloat\u001b[39;49m\u001b[43m(\u001b[49m\u001b[38;5;28;43minput\u001b[39;49m\u001b[43m(\u001b[49m\u001b[38;5;124;43m\"\u001b[39;49m\u001b[38;5;124;43mEnter the radius:\u001b[39;49m\u001b[38;5;124;43m\"\u001b[39;49m\u001b[43m)\u001b[49m\u001b[43m)\u001b[49m\n\u001b[0;32m      2\u001b[0m volume \u001b[38;5;241m=\u001b[39m radius \u001b[38;5;241m*\u001b[39m volume_with_radius_1\n\u001b[0;32m      4\u001b[0m \u001b[38;5;28mprint\u001b[39m(\u001b[38;5;124mf\u001b[39m\u001b[38;5;124m\"\u001b[39m\u001b[38;5;124mThe volume of sphere is: \u001b[39m\u001b[38;5;132;01m{\u001b[39;00mvolume\u001b[38;5;132;01m}\u001b[39;00m\u001b[38;5;124m\"\u001b[39m)\n",
      "\u001b[1;31mValueError\u001b[0m: could not convert string to float: ''"
     ]
    }
   ],
   "source": [
    "radius = float(input(\"Enter the radius:\"))\n",
    "volume = radius * volume_with_radius_1\n",
    "\n",
    "print(f\"The volume of sphere is: {volume}\")"
   ]
  },
  {
   "cell_type": "code",
   "execution_count": 3,
   "id": "ee93f8f6",
   "metadata": {},
   "outputs": [
    {
     "name": "stdout",
     "output_type": "stream",
     "text": [
      "Enter radius: 5\n",
      "Volume of Sphere is: 523.3333333333334\n"
     ]
    }
   ],
   "source": [
    "r = float(input(\"Enter radius: \"))\n",
    "PI = 3.14\n",
    "volume = 4/3 * PI * r**3\n",
    "print(f\"Volume of Sphere is: {volume}\")"
   ]
  },
  {
   "cell_type": "markdown",
   "id": "d09a5b8c",
   "metadata": {},
   "source": [
    "\n",
    "# Write a program to check if the given input is 10 or not. If it is 10 print the number."
   ]
  },
  {
   "cell_type": "code",
   "execution_count": 16,
   "id": "dcad88f6",
   "metadata": {},
   "outputs": [
    {
     "name": "stdout",
     "output_type": "stream",
     "text": [
      "Enter a Number: 10\n",
      "The entered Number is 10.\n"
     ]
    }
   ],
   "source": [
    "num = int(input(\"Enter a Number: \"))\n",
    "\n",
    "if num == 10:\n",
    "    print(f\"The entered Number is {num}.\")\n",
    "else:\n",
    "    print(\"The entered Number is not 10.\")"
   ]
  },
  {
   "cell_type": "markdown",
   "id": "c43e6798",
   "metadata": {},
   "source": [
    "# Write a program to display \"Hello\" if a number entered by the user is a multiple of five , otherwise print \"Bye\"."
   ]
  },
  {
   "cell_type": "code",
   "execution_count": 20,
   "id": "d77d061f",
   "metadata": {},
   "outputs": [
    {
     "name": "stdout",
     "output_type": "stream",
     "text": [
      "Enter a number:10\n",
      "Hello!!\n"
     ]
    }
   ],
   "source": [
    "num = int(input(\"Enter a number:\"))\n",
    "\n",
    "if num % 5 == 0:\n",
    "    print(\"Hello!!\")\n",
    "else:\n",
    "    print(\"Bye!!\")"
   ]
  },
  {
   "cell_type": "markdown",
   "id": "14d47697",
   "metadata": {},
   "source": [
    "# Write a program to check whether a person is eligible for voting or not. (Accept age from user)"
   ]
  },
  {
   "cell_type": "code",
   "execution_count": 3,
   "id": "5712457d",
   "metadata": {},
   "outputs": [
    {
     "name": "stdout",
     "output_type": "stream",
     "text": [
      "Enter your age:98\n",
      "You are eligible for voting.\n"
     ]
    }
   ],
   "source": [
    "age = int(input(\"Enter your age:\"))\n",
    "\n",
    "if age >= 18:\n",
    "    print(\"You are eligible for voting.\") \n",
    "else:\n",
    "    print(\"You are not eligible for voting.\")"
   ]
  },
  {
   "cell_type": "code",
   "execution_count": null,
   "id": "e9851d5a",
   "metadata": {},
   "outputs": [],
   "source": []
  }
 ],
 "metadata": {
  "kernelspec": {
   "display_name": "Python 3 (ipykernel)",
   "language": "python",
   "name": "python3"
  },
  "language_info": {
   "codemirror_mode": {
    "name": "ipython",
    "version": 3
   },
   "file_extension": ".py",
   "mimetype": "text/x-python",
   "name": "python",
   "nbconvert_exporter": "python",
   "pygments_lexer": "ipython3",
   "version": "3.10.8"
  }
 },
 "nbformat": 4,
 "nbformat_minor": 5
}
