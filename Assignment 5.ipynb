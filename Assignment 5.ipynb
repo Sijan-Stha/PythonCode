{
 "cells": [
  {
   "cell_type": "markdown",
   "id": "9bb22cfb",
   "metadata": {},
   "source": [
    "# Using string manipulation technique Extract fruits name from txt."
   ]
  },
  {
   "cell_type": "code",
   "execution_count": 10,
   "id": "16ef95e4",
   "metadata": {},
   "outputs": [],
   "source": [
    "txt = \"I Like Orange Apple Banana and Kiwi.\"\n",
    "txt = txt.rstrip(\".\")"
   ]
  },
  {
   "cell_type": "code",
   "execution_count": 11,
   "id": "66f88290",
   "metadata": {},
   "outputs": [
    {
     "name": "stdout",
     "output_type": "stream",
     "text": [
      "['I', 'Like', 'Orange', 'Apple', 'Banana', 'and', 'Kiwi']\n"
     ]
    }
   ],
   "source": [
    "txt = txt.split(\" \")\n",
    "print(txt)"
   ]
  },
  {
   "cell_type": "code",
   "execution_count": 20,
   "id": "03bfd808",
   "metadata": {},
   "outputs": [
    {
     "name": "stdout",
     "output_type": "stream",
     "text": [
      "['orange', 'apple', 'banana', 'kiwi']\n"
     ]
    }
   ],
   "source": [
    "fruits = []\n",
    "for i in range(len(txt)):\n",
    "    words = txt[i].lower() \n",
    "    if words == \"orange\" or words == \"apple\" or words == \"banana\" or words == \"kiwi\":\n",
    "        fruits.append(words)\n",
    "    else:\n",
    "        continue\n",
    "print(fruits)"
   ]
  },
  {
   "cell_type": "code",
   "execution_count": null,
   "id": "69d4355e",
   "metadata": {},
   "outputs": [],
   "source": []
  }
 ],
 "metadata": {
  "kernelspec": {
   "display_name": "Python 3 (ipykernel)",
   "language": "python",
   "name": "python3"
  },
  "language_info": {
   "codemirror_mode": {
    "name": "ipython",
    "version": 3
   },
   "file_extension": ".py",
   "mimetype": "text/x-python",
   "name": "python",
   "nbconvert_exporter": "python",
   "pygments_lexer": "ipython3",
   "version": "3.10.8"
  }
 },
 "nbformat": 4,
 "nbformat_minor": 5
}
