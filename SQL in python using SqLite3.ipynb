{
 "cells": [
  {
   "cell_type": "markdown",
   "id": "dbe1f9bf",
   "metadata": {},
   "source": [
    "# Create and Connect a New Database"
   ]
  },
  {
   "cell_type": "markdown",
   "id": "ef08ea7c",
   "metadata": {},
   "source": [
    "# CRUID operations in Database\n",
    "* create\n",
    "* read\n",
    "* update\n",
    "* insert\n",
    "* delete"
   ]
  },
  {
   "cell_type": "code",
   "execution_count": 1,
   "id": "d1796ee4",
   "metadata": {},
   "outputs": [],
   "source": [
    "import sqlite3"
   ]
  },
  {
   "cell_type": "code",
   "execution_count": 2,
   "id": "2b40a2ba",
   "metadata": {},
   "outputs": [],
   "source": [
    "con = sqlite3.connect('std.db')"
   ]
  },
  {
   "cell_type": "markdown",
   "id": "8edc4ebb",
   "metadata": {},
   "source": [
    "# we need cursor to execute sql query"
   ]
  },
  {
   "cell_type": "code",
   "execution_count": 3,
   "id": "75080cc4",
   "metadata": {},
   "outputs": [],
   "source": [
    "cur = con.cursor()"
   ]
  },
  {
   "cell_type": "markdown",
   "id": "da9a6d4a",
   "metadata": {},
   "source": [
    "# creating table in sql\n",
    "\n",
    "```sql\n",
    "\n",
    "create table table_name (roll_no int, name varchar(20), address varchar(50))\n",
    "\n",
    "```"
   ]
  },
  {
   "cell_type": "code",
   "execution_count": 4,
   "id": "b449bbf8",
   "metadata": {},
   "outputs": [],
   "source": [
    "create_table = \"\"\"\n",
    "Create table student (roll_no int not null, name varchar(20), address varchar(50))\n",
    "\"\"\""
   ]
  },
  {
   "cell_type": "code",
   "execution_count": 5,
   "id": "2e1eb5c7",
   "metadata": {},
   "outputs": [
    {
     "data": {
      "text/plain": [
       "<sqlite3.Cursor at 0x24a0d3ae4c0>"
      ]
     },
     "execution_count": 5,
     "metadata": {},
     "output_type": "execute_result"
    }
   ],
   "source": [
    "cur.execute(create_table)"
   ]
  },
  {
   "cell_type": "markdown",
   "id": "9404bad3",
   "metadata": {},
   "source": [
    "# Insert statement in sql\n",
    "\n",
    "```sql\n",
    "\n",
    "INSERT INTO TABLE(col_1, col_2, ....... col_n)\n",
    "values(val_1, val_2, ........val_n)\n",
    "\n",
    "```"
   ]
  },
  {
   "cell_type": "code",
   "execution_count": 8,
   "id": "7b188cf0",
   "metadata": {},
   "outputs": [],
   "source": [
    "insert_data = '''\n",
    "insert into student(roll_no, name, address)\n",
    "values\n",
    "(1, \"sijan\", \"Gongabu\"),\n",
    "(2, \"ram\", \"baneshwor\"),\n",
    "(3, \"shyam\", \"patan\")\n",
    "'''"
   ]
  },
  {
   "cell_type": "code",
   "execution_count": 9,
   "id": "8602dbc9",
   "metadata": {},
   "outputs": [
    {
     "data": {
      "text/plain": [
       "<sqlite3.Cursor at 0x24a0d3ae4c0>"
      ]
     },
     "execution_count": 9,
     "metadata": {},
     "output_type": "execute_result"
    }
   ],
   "source": [
    "cur.execute(insert_data)"
   ]
  },
  {
   "cell_type": "markdown",
   "id": "508e3238",
   "metadata": {},
   "source": [
    "# Read in SQL/ Select Statement in SQL\n",
    "\n",
    "```sql\n",
    "\n",
    "Select * from table_name\n",
    "\n",
    "```"
   ]
  },
  {
   "cell_type": "code",
   "execution_count": 10,
   "id": "f37ec2e5",
   "metadata": {},
   "outputs": [],
   "source": [
    "read_query = \"\"\"Select * from student\"\"\""
   ]
  },
  {
   "cell_type": "code",
   "execution_count": 13,
   "id": "bb95bc62",
   "metadata": {},
   "outputs": [
    {
     "data": {
      "text/plain": [
       "<sqlite3.Cursor at 0x24a0d3ae4c0>"
      ]
     },
     "execution_count": 13,
     "metadata": {},
     "output_type": "execute_result"
    }
   ],
   "source": [
    "cur.execute(read_query)"
   ]
  },
  {
   "cell_type": "code",
   "execution_count": 14,
   "id": "eb6369d4",
   "metadata": {},
   "outputs": [
    {
     "data": {
      "text/plain": [
       "[(1, 'sijan', 'Gongabu'), (2, 'ram', 'baneshwor'), (3, 'shyam', 'patan')]"
      ]
     },
     "execution_count": 14,
     "metadata": {},
     "output_type": "execute_result"
    }
   ],
   "source": [
    "cur.execute(read_query).fetchall()"
   ]
  },
  {
   "cell_type": "code",
   "execution_count": 15,
   "id": "c7cb1949",
   "metadata": {},
   "outputs": [],
   "source": [
    "query = \"\"\"\n",
    "SELECT name from student where roll_no = 1\n",
    "\"\"\""
   ]
  },
  {
   "cell_type": "code",
   "execution_count": 16,
   "id": "549d555d",
   "metadata": {},
   "outputs": [
    {
     "data": {
      "text/plain": [
       "[('sijan',)]"
      ]
     },
     "execution_count": 16,
     "metadata": {},
     "output_type": "execute_result"
    }
   ],
   "source": [
    "cur.execute(query).fetchall()"
   ]
  },
  {
   "cell_type": "code",
   "execution_count": 17,
   "id": "4fd61529",
   "metadata": {},
   "outputs": [],
   "source": [
    "address = \"\"\"\n",
    "SELECT address from student where roll_no = 3\n",
    "\"\"\""
   ]
  },
  {
   "cell_type": "code",
   "execution_count": 19,
   "id": "0b511474",
   "metadata": {},
   "outputs": [
    {
     "data": {
      "text/plain": [
       "[('patan',)]"
      ]
     },
     "execution_count": 19,
     "metadata": {},
     "output_type": "execute_result"
    }
   ],
   "source": [
    "cur.execute(address).fetchall()"
   ]
  },
  {
   "cell_type": "code",
   "execution_count": 20,
   "id": "af2538b0",
   "metadata": {},
   "outputs": [],
   "source": [
    "data = \"\"\"\n",
    "SELECT * from student where address = \"patan\"\n",
    "\"\"\""
   ]
  },
  {
   "cell_type": "code",
   "execution_count": 21,
   "id": "3b25ae3b",
   "metadata": {},
   "outputs": [
    {
     "data": {
      "text/plain": [
       "[(3, 'shyam', 'patan')]"
      ]
     },
     "execution_count": 21,
     "metadata": {},
     "output_type": "execute_result"
    }
   ],
   "source": [
    "cur.execute(data).fetchall()"
   ]
  },
  {
   "cell_type": "markdown",
   "id": "6951f37f",
   "metadata": {},
   "source": [
    "# find name of people who lives in patan"
   ]
  },
  {
   "cell_type": "code",
   "execution_count": 23,
   "id": "6f47c05d",
   "metadata": {},
   "outputs": [
    {
     "data": {
      "text/plain": [
       "[('shyam',)]"
      ]
     },
     "execution_count": 23,
     "metadata": {},
     "output_type": "execute_result"
    }
   ],
   "source": [
    "cur.execute(\"Select name from student where address = 'patan'\").fetchall()"
   ]
  },
  {
   "cell_type": "markdown",
   "id": "789d6e3c",
   "metadata": {},
   "source": [
    "# UPDATE IN SQL"
   ]
  },
  {
   "cell_type": "markdown",
   "id": "e08e096d",
   "metadata": {},
   "source": [
    "``` sql\n",
    "\n",
    "UPDATE table_name set column_name = val\n",
    "where condition\n",
    "\n",
    "```"
   ]
  },
  {
   "cell_type": "code",
   "execution_count": 27,
   "id": "6d98b75f",
   "metadata": {},
   "outputs": [],
   "source": [
    "update = \"\"\"UPDATE student set name = 'Sijan Shrestha' where roll_no = 1\"\"\""
   ]
  },
  {
   "cell_type": "code",
   "execution_count": 28,
   "id": "47f64af6",
   "metadata": {},
   "outputs": [
    {
     "data": {
      "text/plain": [
       "<sqlite3.Cursor at 0x24a0d3ae4c0>"
      ]
     },
     "execution_count": 28,
     "metadata": {},
     "output_type": "execute_result"
    }
   ],
   "source": [
    "cur.execute(update)"
   ]
  },
  {
   "cell_type": "code",
   "execution_count": 30,
   "id": "77f48405",
   "metadata": {},
   "outputs": [
    {
     "data": {
      "text/plain": [
       "[(1, 'Sijan Shrestha', 'Gongabu')]"
      ]
     },
     "execution_count": 30,
     "metadata": {},
     "output_type": "execute_result"
    }
   ],
   "source": [
    "cur.execute(\"select * from student where roll_no = 1\").fetchall()"
   ]
  },
  {
   "cell_type": "markdown",
   "id": "823b84c4",
   "metadata": {},
   "source": [
    "# DELETE query in SQL"
   ]
  },
  {
   "cell_type": "code",
   "execution_count": 31,
   "id": "aec7802a",
   "metadata": {},
   "outputs": [
    {
     "ename": "SyntaxError",
     "evalue": "invalid syntax (1599315148.py, line 1)",
     "output_type": "error",
     "traceback": [
      "\u001b[1;36m  Cell \u001b[1;32mIn[31], line 1\u001b[1;36m\u001b[0m\n\u001b[1;33m    ```sql\u001b[0m\n\u001b[1;37m    ^\u001b[0m\n\u001b[1;31mSyntaxError\u001b[0m\u001b[1;31m:\u001b[0m invalid syntax\n"
     ]
    }
   ],
   "source": [
    "```sql\n",
    "\n",
    "\n",
    "\n",
    "```"
   ]
  },
  {
   "cell_type": "code",
   "execution_count": 32,
   "id": "4f42feaf",
   "metadata": {},
   "outputs": [
    {
     "data": {
      "text/plain": [
       "<sqlite3.Cursor at 0x24a0d3ae4c0>"
      ]
     },
     "execution_count": 32,
     "metadata": {},
     "output_type": "execute_result"
    }
   ],
   "source": [
    "cur.execute(\"delete from student where roll_no = 1\")"
   ]
  },
  {
   "cell_type": "code",
   "execution_count": 33,
   "id": "710cd9c5",
   "metadata": {},
   "outputs": [
    {
     "data": {
      "text/plain": [
       "[(2, 'ram', 'baneshwor'), (3, 'shyam', 'patan')]"
      ]
     },
     "execution_count": 33,
     "metadata": {},
     "output_type": "execute_result"
    }
   ],
   "source": [
    "cur.execute(\"select * from student\").fetchall()"
   ]
  },
  {
   "cell_type": "code",
   "execution_count": null,
   "id": "c3479183",
   "metadata": {},
   "outputs": [],
   "source": []
  }
 ],
 "metadata": {
  "kernelspec": {
   "display_name": "Python 3 (ipykernel)",
   "language": "python",
   "name": "python3"
  },
  "language_info": {
   "codemirror_mode": {
    "name": "ipython",
    "version": 3
   },
   "file_extension": ".py",
   "mimetype": "text/x-python",
   "name": "python",
   "nbconvert_exporter": "python",
   "pygments_lexer": "ipython3",
   "version": "3.10.9"
  }
 },
 "nbformat": 4,
 "nbformat_minor": 5
}
