{
 "cells": [
  {
   "cell_type": "markdown",
   "id": "93e1a4a4",
   "metadata": {},
   "source": [
    "# Return multiple values from function --- in tuples"
   ]
  },
  {
   "cell_type": "code",
   "execution_count": 12,
   "id": "af1888cf",
   "metadata": {},
   "outputs": [],
   "source": [
    "def arithmatic_operation(x, y):\n",
    "    total = x + y\n",
    "    diff = x - y\n",
    "    rem = x % y\n",
    "    quotient = x / y\n",
    "    \n",
    "    return total, diff, rem, quotient\n",
    "    # d = {'total': total, 'diff': diff, 'rem': rem, 'quotient': quotient}\n",
    "    # return d"
   ]
  },
  {
   "cell_type": "code",
   "execution_count": 13,
   "id": "89f3904b",
   "metadata": {},
   "outputs": [],
   "source": [
    "total, diff, rem, quotient = arithmatic_operation(8, 2)"
   ]
  },
  {
   "cell_type": "code",
   "execution_count": 15,
   "id": "bd14ec2e",
   "metadata": {},
   "outputs": [
    {
     "data": {
      "text/plain": [
       "10"
      ]
     },
     "execution_count": 15,
     "metadata": {},
     "output_type": "execute_result"
    }
   ],
   "source": [
    "total"
   ]
  },
  {
   "cell_type": "code",
   "execution_count": 16,
   "id": "54ea2ab6",
   "metadata": {},
   "outputs": [
    {
     "data": {
      "text/plain": [
       "6"
      ]
     },
     "execution_count": 16,
     "metadata": {},
     "output_type": "execute_result"
    }
   ],
   "source": [
    "diff"
   ]
  },
  {
   "cell_type": "code",
   "execution_count": 17,
   "id": "0b6d04e8",
   "metadata": {},
   "outputs": [
    {
     "data": {
      "text/plain": [
       "0"
      ]
     },
     "execution_count": 17,
     "metadata": {},
     "output_type": "execute_result"
    }
   ],
   "source": [
    "rem"
   ]
  },
  {
   "cell_type": "code",
   "execution_count": 18,
   "id": "df9b7e9c",
   "metadata": {},
   "outputs": [
    {
     "data": {
      "text/plain": [
       "4.0"
      ]
     },
     "execution_count": 18,
     "metadata": {},
     "output_type": "execute_result"
    }
   ],
   "source": [
    "quotient"
   ]
  },
  {
   "cell_type": "code",
   "execution_count": null,
   "id": "3181ffbe",
   "metadata": {},
   "outputs": [],
   "source": []
  }
 ],
 "metadata": {
  "kernelspec": {
   "display_name": "Python 3 (ipykernel)",
   "language": "python",
   "name": "python3"
  },
  "language_info": {
   "codemirror_mode": {
    "name": "ipython",
    "version": 3
   },
   "file_extension": ".py",
   "mimetype": "text/x-python",
   "name": "python",
   "nbconvert_exporter": "python",
   "pygments_lexer": "ipython3",
   "version": "3.10.9"
  }
 },
 "nbformat": 4,
 "nbformat_minor": 5
}
