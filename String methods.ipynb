{
 "cells": [
  {
   "cell_type": "code",
   "execution_count": 1,
   "id": "62ff9ddb",
   "metadata": {},
   "outputs": [
    {
     "data": {
      "text/plain": [
       "'Leonel'"
      ]
     },
     "execution_count": 1,
     "metadata": {},
     "output_type": "execute_result"
    }
   ],
   "source": [
    "txt = \"Leonel Messi is a GOAT.\"\n",
    "txt[0:6]"
   ]
  },
  {
   "cell_type": "code",
   "execution_count": 2,
   "id": "24b392dd",
   "metadata": {},
   "outputs": [
    {
     "data": {
      "text/plain": [
       "'Leonel Messi is a GOAT.'"
      ]
     },
     "execution_count": 2,
     "metadata": {},
     "output_type": "execute_result"
    }
   ],
   "source": [
    "txt[0:]"
   ]
  },
  {
   "cell_type": "code",
   "execution_count": 3,
   "id": "2b6112ed",
   "metadata": {},
   "outputs": [
    {
     "data": {
      "text/plain": [
       "'Leonel '"
      ]
     },
     "execution_count": 3,
     "metadata": {},
     "output_type": "execute_result"
    }
   ],
   "source": [
    "txt[:7]"
   ]
  },
  {
   "cell_type": "code",
   "execution_count": 4,
   "id": "fbf34646",
   "metadata": {},
   "outputs": [
    {
     "data": {
      "text/plain": [
       "'Loe '"
      ]
     },
     "execution_count": 4,
     "metadata": {},
     "output_type": "execute_result"
    }
   ],
   "source": [
    "txt[0:7:2]"
   ]
  },
  {
   "cell_type": "markdown",
   "id": "725b1407",
   "metadata": {},
   "source": [
    "# string methods"
   ]
  },
  {
   "cell_type": "code",
   "execution_count": 21,
   "id": "17de0d3d",
   "metadata": {},
   "outputs": [],
   "source": [
    "name = \"$ijan\""
   ]
  },
  {
   "cell_type": "code",
   "execution_count": 22,
   "id": "6fed0ebb",
   "metadata": {},
   "outputs": [
    {
     "data": {
      "text/plain": [
       "'$ijan'"
      ]
     },
     "execution_count": 22,
     "metadata": {},
     "output_type": "execute_result"
    }
   ],
   "source": [
    "name"
   ]
  },
  {
   "cell_type": "code",
   "execution_count": 23,
   "id": "21b6a7d0",
   "metadata": {},
   "outputs": [
    {
     "ename": "TypeError",
     "evalue": "'str' object does not support item assignment",
     "output_type": "error",
     "traceback": [
      "\u001b[1;31m---------------------------------------------------------------------------\u001b[0m",
      "\u001b[1;31mTypeError\u001b[0m                                 Traceback (most recent call last)",
      "Cell \u001b[1;32mIn[23], line 1\u001b[0m\n\u001b[1;32m----> 1\u001b[0m \u001b[43mname\u001b[49m\u001b[43m[\u001b[49m\u001b[38;5;241;43m0\u001b[39;49m\u001b[43m]\u001b[49m\u001b[38;5;241m=\u001b[39m\u001b[38;5;124m\"\u001b[39m\u001b[38;5;124ms\u001b[39m\u001b[38;5;124m\"\u001b[39m \u001b[38;5;66;03m# strings are immutable...(cannot change value)\u001b[39;00m\n",
      "\u001b[1;31mTypeError\u001b[0m: 'str' object does not support item assignment"
     ]
    }
   ],
   "source": [
    "name[0]=\"s\" # strings are immutable...(cannot change value)"
   ]
  },
  {
   "cell_type": "markdown",
   "id": "b3a642a8",
   "metadata": {},
   "source": [
    "# .replace() method"
   ]
  },
  {
   "cell_type": "code",
   "execution_count": 24,
   "id": "224ecdaf",
   "metadata": {},
   "outputs": [
    {
     "data": {
      "text/plain": [
       "'$ijan'"
      ]
     },
     "execution_count": 24,
     "metadata": {},
     "output_type": "execute_result"
    }
   ],
   "source": [
    "name"
   ]
  },
  {
   "cell_type": "code",
   "execution_count": 26,
   "id": "cd33b693",
   "metadata": {},
   "outputs": [],
   "source": [
    "name = name.replace('$','S') # replaces every occurance."
   ]
  },
  {
   "cell_type": "code",
   "execution_count": 27,
   "id": "473fbd26",
   "metadata": {},
   "outputs": [
    {
     "data": {
      "text/plain": [
       "'Sijan'"
      ]
     },
     "execution_count": 27,
     "metadata": {},
     "output_type": "execute_result"
    }
   ],
   "source": [
    "name"
   ]
  },
  {
   "cell_type": "markdown",
   "id": "f45e3ca9",
   "metadata": {},
   "source": [
    "# .upper() and .lower() method."
   ]
  },
  {
   "cell_type": "code",
   "execution_count": 29,
   "id": "5e755855",
   "metadata": {},
   "outputs": [
    {
     "name": "stdout",
     "output_type": "stream",
     "text": [
      "Enter a Message: HI MY NAME IS SIJAN\n"
     ]
    },
    {
     "data": {
      "text/plain": [
       "'hi my name is sijan'"
      ]
     },
     "execution_count": 29,
     "metadata": {},
     "output_type": "execute_result"
    }
   ],
   "source": [
    "msg = input(\"Enter a Message: \")\n",
    "msg = msg.lower()"
   ]
  },
  {
   "cell_type": "code",
   "execution_count": 30,
   "id": "130524b5",
   "metadata": {},
   "outputs": [
    {
     "data": {
      "text/plain": [
       "'HI MY NAME IS SIJAN'"
      ]
     },
     "execution_count": 30,
     "metadata": {},
     "output_type": "execute_result"
    }
   ],
   "source": [
    "msg"
   ]
  },
  {
   "cell_type": "code",
   "execution_count": 31,
   "id": "f40a1b3c",
   "metadata": {},
   "outputs": [
    {
     "name": "stdout",
     "output_type": "stream",
     "text": [
      "Enter a Message: hi my name is \n"
     ]
    }
   ],
   "source": [
    "msg = input(\"Enter a Message: \")\n",
    "msg = msg.upper()"
   ]
  },
  {
   "cell_type": "code",
   "execution_count": 32,
   "id": "6ddf485c",
   "metadata": {},
   "outputs": [
    {
     "data": {
      "text/plain": [
       "'HI MY NAME IS '"
      ]
     },
     "execution_count": 32,
     "metadata": {},
     "output_type": "execute_result"
    }
   ],
   "source": [
    "msg"
   ]
  },
  {
   "cell_type": "markdown",
   "id": "d18c77cd",
   "metadata": {},
   "source": [
    "# .split() method in string"
   ]
  },
  {
   "cell_type": "code",
   "execution_count": 33,
   "id": "9067d146",
   "metadata": {},
   "outputs": [],
   "source": [
    "txt = \"Mbappe is a legend.\""
   ]
  },
  {
   "cell_type": "code",
   "execution_count": 36,
   "id": "938208b4",
   "metadata": {},
   "outputs": [],
   "source": [
    "words = txt.split(\" \")"
   ]
  },
  {
   "cell_type": "code",
   "execution_count": 37,
   "id": "fdcc27e0",
   "metadata": {},
   "outputs": [
    {
     "name": "stdout",
     "output_type": "stream",
     "text": [
      "['Mbappe', 'is', 'a', 'legend.']\n"
     ]
    }
   ],
   "source": [
    "print(words)"
   ]
  },
  {
   "cell_type": "code",
   "execution_count": 38,
   "id": "fd13fbbc",
   "metadata": {},
   "outputs": [
    {
     "data": {
      "text/plain": [
       "list"
      ]
     },
     "execution_count": 38,
     "metadata": {},
     "output_type": "execute_result"
    }
   ],
   "source": [
    "type(words)"
   ]
  },
  {
   "cell_type": "markdown",
   "id": "af110567",
   "metadata": {},
   "source": [
    "# .strip(), .lstripe(), .rstripe()"
   ]
  },
  {
   "cell_type": "code",
   "execution_count": 39,
   "id": "22576433",
   "metadata": {},
   "outputs": [],
   "source": [
    "text = \" This is fun \""
   ]
  },
  {
   "cell_type": "code",
   "execution_count": 41,
   "id": "23ad78e3",
   "metadata": {},
   "outputs": [
    {
     "data": {
      "text/plain": [
       "'This is fun'"
      ]
     },
     "execution_count": 41,
     "metadata": {},
     "output_type": "execute_result"
    }
   ],
   "source": [
    "text.strip() # removes spaces from left and right."
   ]
  },
  {
   "cell_type": "code",
   "execution_count": 44,
   "id": "8f61044d",
   "metadata": {},
   "outputs": [
    {
     "data": {
      "text/plain": [
       "'This is fun '"
      ]
     },
     "execution_count": 44,
     "metadata": {},
     "output_type": "execute_result"
    }
   ],
   "source": [
    "text.lstrip() # removes spaces in the left."
   ]
  },
  {
   "cell_type": "code",
   "execution_count": 45,
   "id": "d3a6eed6",
   "metadata": {},
   "outputs": [
    {
     "data": {
      "text/plain": [
       "' This is fun'"
      ]
     },
     "execution_count": 45,
     "metadata": {},
     "output_type": "execute_result"
    }
   ],
   "source": [
    "text.rstrip() # removes spaces in the right."
   ]
  },
  {
   "cell_type": "markdown",
   "id": "1f6641e1",
   "metadata": {},
   "source": [
    "# .join() method in string"
   ]
  },
  {
   "cell_type": "code",
   "execution_count": 53,
   "id": "637fb990",
   "metadata": {},
   "outputs": [],
   "source": [
    "txt = \"I love football.\""
   ]
  },
  {
   "cell_type": "code",
   "execution_count": 54,
   "id": "159a4e25",
   "metadata": {},
   "outputs": [
    {
     "data": {
      "text/plain": [
       "'I love football.'"
      ]
     },
     "execution_count": 54,
     "metadata": {},
     "output_type": "execute_result"
    }
   ],
   "source": [
    "txt"
   ]
  },
  {
   "cell_type": "code",
   "execution_count": 55,
   "id": "fad95a6e",
   "metadata": {},
   "outputs": [],
   "source": [
    "txt = txt.split()"
   ]
  },
  {
   "cell_type": "code",
   "execution_count": 56,
   "id": "dc881411",
   "metadata": {},
   "outputs": [
    {
     "data": {
      "text/plain": [
       "['I', 'love', 'football.']"
      ]
     },
     "execution_count": 56,
     "metadata": {},
     "output_type": "execute_result"
    }
   ],
   "source": [
    "txt"
   ]
  },
  {
   "cell_type": "code",
   "execution_count": 57,
   "id": "bebf4bac",
   "metadata": {},
   "outputs": [
    {
     "data": {
      "text/plain": [
       "'I love football.'"
      ]
     },
     "execution_count": 57,
     "metadata": {},
     "output_type": "execute_result"
    }
   ],
   "source": [
    "\" \".join(txt)"
   ]
  },
  {
   "cell_type": "code",
   "execution_count": null,
   "id": "de3a7924",
   "metadata": {},
   "outputs": [],
   "source": []
  }
 ],
 "metadata": {
  "kernelspec": {
   "display_name": "Python 3 (ipykernel)",
   "language": "python",
   "name": "python3"
  },
  "language_info": {
   "codemirror_mode": {
    "name": "ipython",
    "version": 3
   },
   "file_extension": ".py",
   "mimetype": "text/x-python",
   "name": "python",
   "nbconvert_exporter": "python",
   "pygments_lexer": "ipython3",
   "version": "3.10.9"
  }
 },
 "nbformat": 4,
 "nbformat_minor": 5
}
