{
 "cells": [
  {
   "cell_type": "markdown",
   "id": "17962b53",
   "metadata": {},
   "source": [
    "# Write a function that takes a list of numbers and returns the sum of the even numbers in the list. For example, if the input is [1, 2, 3, 4, 5], the output should be 6 (2 + 4)."
   ]
  },
  {
   "cell_type": "code",
   "execution_count": 16,
   "id": "60c0c60e",
   "metadata": {},
   "outputs": [],
   "source": [
    "def sum_of_even(user_input):\n",
    "    num = user_input.split()\n",
    "    even_sum = 0\n",
    "    for items in num:\n",
    "        items = int(items)\n",
    "        if items % 2 == 0:\n",
    "            even_sum = even_sum + items\n",
    "    return even_sum\n",
    "\n",
    "    "
   ]
  },
  {
   "cell_type": "code",
   "execution_count": 18,
   "id": "41af1186",
   "metadata": {},
   "outputs": [
    {
     "name": "stdout",
     "output_type": "stream",
     "text": [
      "enter list of numbers seperated by space: 1 2 3 4 5\n",
      "The sum of even Numbers is: 6\n"
     ]
    }
   ],
   "source": [
    "user_input = input('enter list of numbers seperated by space: ')\n",
    "even_sum = sum_of_even(user_input)\n",
    "print(f\"The sum of even Numbers is: {even_sum}\")"
   ]
  },
  {
   "cell_type": "markdown",
   "id": "0ee5a4e1",
   "metadata": {},
   "source": [
    "# Write a program that prints the numbers from 1 to 100, but for multiples of three print \"Fizz\" instead of the number and for the multiples of five print \"Buzz\". For numbers which are multiples of both three and five print \"FizzBuzz\"."
   ]
  },
  {
   "cell_type": "code",
   "execution_count": 21,
   "id": "a30b3b4a",
   "metadata": {},
   "outputs": [
    {
     "name": "stdout",
     "output_type": "stream",
     "text": [
      "1\n",
      "2\n",
      "Fizz\n",
      "4\n",
      "Buzz\n",
      "Fizz\n",
      "7\n",
      "8\n",
      "Fizz\n",
      "Buzz\n",
      "11\n",
      "Fizz\n",
      "13\n",
      "14\n",
      "FizzBuzz\n",
      "16\n",
      "17\n",
      "Fizz\n",
      "19\n",
      "Buzz\n",
      "Fizz\n",
      "22\n",
      "23\n",
      "Fizz\n",
      "Buzz\n",
      "26\n",
      "Fizz\n",
      "28\n",
      "29\n",
      "FizzBuzz\n",
      "31\n",
      "32\n",
      "Fizz\n",
      "34\n",
      "Buzz\n",
      "Fizz\n",
      "37\n",
      "38\n",
      "Fizz\n",
      "Buzz\n",
      "41\n",
      "Fizz\n",
      "43\n",
      "44\n",
      "FizzBuzz\n",
      "46\n",
      "47\n",
      "Fizz\n",
      "49\n",
      "Buzz\n",
      "Fizz\n",
      "52\n",
      "53\n",
      "Fizz\n",
      "Buzz\n",
      "56\n",
      "Fizz\n",
      "58\n",
      "59\n",
      "FizzBuzz\n",
      "61\n",
      "62\n",
      "Fizz\n",
      "64\n",
      "Buzz\n",
      "Fizz\n",
      "67\n",
      "68\n",
      "Fizz\n",
      "Buzz\n",
      "71\n",
      "Fizz\n",
      "73\n",
      "74\n",
      "FizzBuzz\n",
      "76\n",
      "77\n",
      "Fizz\n",
      "79\n",
      "Buzz\n",
      "Fizz\n",
      "82\n",
      "83\n",
      "Fizz\n",
      "Buzz\n",
      "86\n",
      "Fizz\n",
      "88\n",
      "89\n",
      "FizzBuzz\n",
      "91\n",
      "92\n",
      "Fizz\n",
      "94\n",
      "Buzz\n",
      "Fizz\n",
      "97\n",
      "98\n",
      "Fizz\n",
      "Buzz\n"
     ]
    }
   ],
   "source": [
    "for i in range(1, 101):\n",
    "    if i % 3 == 0 and i % 5 == 0:\n",
    "        print(\"FizzBuzz\")\n",
    "    elif i % 3 == 0:\n",
    "        print(\"Fizz\")\n",
    "        \n",
    "    elif i % 5 == 0:\n",
    "        print(\"Buzz\")\n",
    "        \n",
    "    \n",
    "        \n",
    "    else:\n",
    "        print(i)"
   ]
  },
  {
   "cell_type": "markdown",
   "id": "f259f3ca",
   "metadata": {},
   "source": [
    "# Write a function that takes a string as input and returns a dictionary that contains the count of each character in the string. For example, if the input is \"hello\", the output should be {'h': 1, 'e': 1, 'l': 2, 'o': 1}."
   ]
  },
  {
   "cell_type": "code",
   "execution_count": 8,
   "id": "37e08eb8",
   "metadata": {},
   "outputs": [],
   "source": [
    "def count_string_dict(a_string):\n",
    "    count_string = {}\n",
    "    for i in a_string:\n",
    "        if i in count_string:\n",
    "            count_string[i] = count_string[i] + 1\n",
    "        else:\n",
    "            count_string[i] = 1\n",
    "\n",
    "    return count_string\n"
   ]
  },
  {
   "cell_type": "code",
   "execution_count": 9,
   "id": "149ce284",
   "metadata": {},
   "outputs": [
    {
     "name": "stdout",
     "output_type": "stream",
     "text": [
      "Enter a String: hello\n"
     ]
    },
    {
     "data": {
      "text/plain": [
       "{'h': 1, 'e': 1, 'l': 2, 'o': 1}"
      ]
     },
     "execution_count": 9,
     "metadata": {},
     "output_type": "execute_result"
    }
   ],
   "source": [
    "a_string = input(\"Enter a String: \")\n",
    "count_string_dict(a_string)"
   ]
  },
  {
   "cell_type": "markdown",
   "id": "f1891e94",
   "metadata": {},
   "source": [
    "# Write a program that generates a random integer between 1 and 10 (inclusive) and prompts the user to guess the number. The program should continue to prompt the user until they guess the correct number."
   ]
  },
  {
   "cell_type": "code",
   "execution_count": 1,
   "id": "d457fa58",
   "metadata": {},
   "outputs": [
    {
     "name": "stdout",
     "output_type": "stream",
     "text": [
      "Enter a number: 9\n",
      "Wrong Input. Please Try again\n",
      "Enter a number: 11\n",
      "Wrong Input. Please Try again\n",
      "Enter a number: 4\n",
      "Congratulations you have guessed correctly.\n"
     ]
    }
   ],
   "source": [
    "import random\n",
    "\n",
    "random_num = random.randint(1, 11)\n",
    "\n",
    "user_input = int(input(\"Enter a number: \"))\n",
    "\n",
    "while user_input != random_num:\n",
    "    print(\"Wrong Input. Please Try again\")\n",
    "    user_input = int(input(\"Enter a number: \"))\n",
    "    \n",
    "    if user_input == random_num:\n",
    "        print(\"Congratulations you have guessed correctly.\")\n",
    "        break"
   ]
  },
  {
   "cell_type": "markdown",
   "id": "848f443d",
   "metadata": {},
   "source": [
    "# Write a function that takes a list of strings and returns a new list containing only the strings that have at least three vowels. For example, if the input is [\"apple\", \"banana\", \"orange\", \"pear\"], the output should be [\"banana\", \"orange\"]."
   ]
  },
  {
   "cell_type": "code",
   "execution_count": 1,
   "id": "6c24afbc",
   "metadata": {},
   "outputs": [
    {
     "name": "stdout",
     "output_type": "stream",
     "text": [
      "Enter a string to add in the list: banana\n",
      "press 'y' if you want to add more and 'n' if your are done: y\n",
      "Enter a string to add in the list: apple\n",
      "press 'y' if you want to add more and 'n' if your are done: n\n"
     ]
    }
   ],
   "source": [
    "string_list = []\n",
    "\n",
    "while True:\n",
    "    user_input = input(\"Enter a string to add in the list: \")\n",
    "    string_list.append(user_input)\n",
    "    add_more = input(\"press 'y' if you want to add more and 'n' if your are done: \")\n",
    "    if add_more == \"n\":\n",
    "        break"
   ]
  },
  {
   "cell_type": "code",
   "execution_count": 2,
   "id": "14ebbfff",
   "metadata": {},
   "outputs": [
    {
     "data": {
      "text/plain": [
       "['banana', 'apple']"
      ]
     },
     "execution_count": 2,
     "metadata": {},
     "output_type": "execute_result"
    }
   ],
   "source": [
    "string_list"
   ]
  },
  {
   "cell_type": "code",
   "execution_count": 8,
   "id": "1b909cc7",
   "metadata": {},
   "outputs": [],
   "source": [
    "def vowel_list(string_list):\n",
    "    new_list = []\n",
    "    for items in string_list:\n",
    "        vowel_count = 0\n",
    "        for letters in items:\n",
    "            letter = letters.lower()\n",
    "            if letter == 'a' or letter == 'e' or letter == 'i' or letter == 'e' or letter == 'o' or letter == 'u':\n",
    "                vowel_count = vowel_count + 1\n",
    "        if vowel_count >= 3:\n",
    "            new_list.append(items)\n",
    "    return new_list\n",
    "                "
   ]
  },
  {
   "cell_type": "code",
   "execution_count": 9,
   "id": "48c469cb",
   "metadata": {},
   "outputs": [
    {
     "name": "stdout",
     "output_type": "stream",
     "text": [
      "Enter a string to add in the list: apple\n",
      "press 'y' if you want to add more and 'n' if your are done: y\n",
      "Enter a string to add in the list: banana\n",
      "press 'y' if you want to add more and 'n' if your are done: y\n",
      "Enter a string to add in the list: orange\n",
      "press 'y' if you want to add more and 'n' if your are done: y\n",
      "Enter a string to add in the list: pear\n",
      "press 'y' if you want to add more and 'n' if your are done: n\n"
     ]
    },
    {
     "data": {
      "text/plain": [
       "['banana', 'orange']"
      ]
     },
     "execution_count": 9,
     "metadata": {},
     "output_type": "execute_result"
    }
   ],
   "source": [
    "string_list = []\n",
    "\n",
    "while True:\n",
    "    user_input = input(\"Enter a string to add in the list: \")\n",
    "    string_list.append(user_input)\n",
    "    add_more = input(\"press 'y' if you want to add more and 'n' if your are done: \")\n",
    "    if add_more == \"n\":\n",
    "        break\n",
    "        \n",
    "vowel_list(string_list)"
   ]
  },
  {
   "cell_type": "markdown",
   "id": "c541e877",
   "metadata": {},
   "source": [
    "# Write a program that reads a CSV file and prints the sum of all the values in the second column. For example, if the CSV file looks like this:\n",
    "\n",
    "Copy code\n",
    "1,2,3\n",
    "4,5,6\n",
    "7,8,9\n",
    "The output should be 15 (2 + 5 + 8)."
   ]
  },
  {
   "cell_type": "code",
   "execution_count": 1,
   "id": "a41904a8",
   "metadata": {},
   "outputs": [],
   "source": [
    "import csv\n",
    "\n",
    "def sum_column(filename, column):\n",
    "    total = 0\n",
    "    with open(filename, 'r') as f:\n",
    "        reader = csv.reader(f)\n",
    "        for row in reader:\n",
    "            total = total + float(row[column])\n",
    "    return total"
   ]
  },
  {
   "cell_type": "code",
   "execution_count": 6,
   "id": "9df5a2d4",
   "metadata": {},
   "outputs": [
    {
     "name": "stdout",
     "output_type": "stream",
     "text": [
      "15.0\n"
     ]
    }
   ],
   "source": [
    "print(sum_column(\"data.csv\", 1))"
   ]
  },
  {
   "cell_type": "markdown",
   "id": "bf037820",
   "metadata": {},
   "source": [
    "# Write a function that takes a list of integers and returns a new list containing only the integers that are prime. For example, if the input is [2, 3, 4, 5, 6, 7, 8, 9, 10], the output should be [2, 3, 5, 7]."
   ]
  },
  {
   "cell_type": "code",
   "execution_count": 52,
   "id": "05b796b2",
   "metadata": {},
   "outputs": [],
   "source": [
    "def prime_list(num_list):\n",
    "    def is_prime(n):\n",
    "        if n < 2:\n",
    "            return False\n",
    "        for i in range (2, n):\n",
    "            if n % i == 0:\n",
    "                return False\n",
    "        return True\n",
    "\n",
    "    prime_num = []\n",
    "    for n in num_list:\n",
    "        if is_prime(n):\n",
    "            prime_num.append(n)\n",
    "    return prime_num\n",
    "        \n",
    "            "
   ]
  },
  {
   "cell_type": "code",
   "execution_count": 53,
   "id": "2a481d65",
   "metadata": {},
   "outputs": [
    {
     "name": "stdout",
     "output_type": "stream",
     "text": [
      "[2, 3, 5, 7]\n"
     ]
    }
   ],
   "source": [
    "print(prime_list([1, 2, 3, 4, 5, 6, 7]))"
   ]
  },
  {
   "cell_type": "code",
   "execution_count": null,
   "id": "7fba00e9",
   "metadata": {},
   "outputs": [],
   "source": []
  }
 ],
 "metadata": {
  "kernelspec": {
   "display_name": "Python 3 (ipykernel)",
   "language": "python",
   "name": "python3"
  },
  "language_info": {
   "codemirror_mode": {
    "name": "ipython",
    "version": 3
   },
   "file_extension": ".py",
   "mimetype": "text/x-python",
   "name": "python",
   "nbconvert_exporter": "python",
   "pygments_lexer": "ipython3",
   "version": "3.10.9"
  }
 },
 "nbformat": 4,
 "nbformat_minor": 5
}
