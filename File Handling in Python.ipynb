{
 "cells": [
  {
   "cell_type": "markdown",
   "id": "11196676",
   "metadata": {},
   "source": [
    "# read file"
   ]
  },
  {
   "cell_type": "code",
   "execution_count": 5,
   "id": "f1354817",
   "metadata": {},
   "outputs": [],
   "source": [
    "f = open('read.txt', 'r')"
   ]
  },
  {
   "cell_type": "code",
   "execution_count": 6,
   "id": "0ba8db37",
   "metadata": {},
   "outputs": [
    {
     "data": {
      "text/plain": [
       "<_io.TextIOWrapper name='read.txt' mode='r' encoding='cp1252'>"
      ]
     },
     "execution_count": 6,
     "metadata": {},
     "output_type": "execute_result"
    }
   ],
   "source": [
    "f"
   ]
  },
  {
   "cell_type": "code",
   "execution_count": 7,
   "id": "4b3f0a38",
   "metadata": {},
   "outputs": [],
   "source": [
    "text = f.read()"
   ]
  },
  {
   "cell_type": "code",
   "execution_count": 8,
   "id": "60910ca1",
   "metadata": {},
   "outputs": [
    {
     "data": {
      "text/plain": [
       "'According to the Office of the President, President Bhandari has appointed Pokharel to the post on the recommendation of Prime Minister Pushpa Kamal Dahal in accordance with Article 157 (2) of the Constitution of Nepal.\\n\\nPokharel is a resident of Jhimruk Rural Municipality-4 in Pyuthan. The post of Attorney General is the chief legal advisor to the government.\\n\\n\\n\\nhttps://kathmandupost.com/national/2022/12/28/advocate-dinmani-pokharel-appointed-attorney-general'"
      ]
     },
     "execution_count": 8,
     "metadata": {},
     "output_type": "execute_result"
    }
   ],
   "source": [
    "text"
   ]
  },
  {
   "cell_type": "code",
   "execution_count": 9,
   "id": "29469857",
   "metadata": {},
   "outputs": [],
   "source": [
    "f.close()"
   ]
  },
  {
   "cell_type": "code",
   "execution_count": 10,
   "id": "ddf28c62",
   "metadata": {},
   "outputs": [],
   "source": [
    "with open(\"read.txt\", 'r') as f:\n",
    "    text = f.read()"
   ]
  },
  {
   "cell_type": "code",
   "execution_count": 12,
   "id": "cf7248aa",
   "metadata": {},
   "outputs": [
    {
     "data": {
      "text/plain": [
       "'According to the Office of the President, President Bhandari has appointed Pokharel to the post on the recommendation of Prime Minister Pushpa Kamal Dahal in accordance with Article 157 (2) of the Constitution of Nepal.\\n\\nPokharel is a resident of Jhimruk Rural Municipality-4 in Pyuthan. The post of Attorney General is the chief legal advisor to the government.\\n\\n\\n\\nhttps://kathmandupost.com/national/2022/12/28/advocate-dinmani-pokharel-appointed-attorney-general'"
      ]
     },
     "execution_count": 12,
     "metadata": {},
     "output_type": "execute_result"
    }
   ],
   "source": [
    "text"
   ]
  },
  {
   "cell_type": "code",
   "execution_count": 13,
   "id": "c9030ab1",
   "metadata": {},
   "outputs": [],
   "source": [
    "with open(\"read.txt\", 'r') as f:\n",
    "    text = f.readlines()"
   ]
  },
  {
   "cell_type": "code",
   "execution_count": 14,
   "id": "fa6f2296",
   "metadata": {},
   "outputs": [
    {
     "data": {
      "text/plain": [
       "['According to the Office of the President, President Bhandari has appointed Pokharel to the post on the recommendation of Prime Minister Pushpa Kamal Dahal in accordance with Article 157 (2) of the Constitution of Nepal.\\n',\n",
       " '\\n',\n",
       " 'Pokharel is a resident of Jhimruk Rural Municipality-4 in Pyuthan. The post of Attorney General is the chief legal advisor to the government.\\n',\n",
       " '\\n',\n",
       " '\\n',\n",
       " '\\n',\n",
       " 'https://kathmandupost.com/national/2022/12/28/advocate-dinmani-pokharel-appointed-attorney-general']"
      ]
     },
     "execution_count": 14,
     "metadata": {},
     "output_type": "execute_result"
    }
   ],
   "source": [
    "text"
   ]
  },
  {
   "cell_type": "code",
   "execution_count": 15,
   "id": "05b16cda",
   "metadata": {},
   "outputs": [],
   "source": [
    "with open(\"read.txt\", 'r') as f:\n",
    "    text = f.readline()"
   ]
  },
  {
   "cell_type": "code",
   "execution_count": 16,
   "id": "fe662d36",
   "metadata": {},
   "outputs": [
    {
     "data": {
      "text/plain": [
       "'According to the Office of the President, President Bhandari has appointed Pokharel to the post on the recommendation of Prime Minister Pushpa Kamal Dahal in accordance with Article 157 (2) of the Constitution of Nepal.\\n'"
      ]
     },
     "execution_count": 16,
     "metadata": {},
     "output_type": "execute_result"
    }
   ],
   "source": [
    "text"
   ]
  },
  {
   "cell_type": "markdown",
   "id": "d0036c76",
   "metadata": {},
   "source": [
    "# write mode"
   ]
  },
  {
   "cell_type": "code",
   "execution_count": 17,
   "id": "88fd206a",
   "metadata": {},
   "outputs": [],
   "source": [
    "with open(\"navakokitab.txt\", \"w\") as f: # write file\n",
    "    f.write(\"yo navako kitab lekheko ho hai.\")"
   ]
  },
  {
   "cell_type": "code",
   "execution_count": 18,
   "id": "c91140dd",
   "metadata": {},
   "outputs": [],
   "source": [
    "with open(\"navakokitab.txt\", \"r\") as f: # read file\n",
    "    text = f.read()"
   ]
  },
  {
   "cell_type": "code",
   "execution_count": 19,
   "id": "d23ee3ec",
   "metadata": {},
   "outputs": [
    {
     "data": {
      "text/plain": [
       "'yo navako kitab lekheko ho hai.'"
      ]
     },
     "execution_count": 19,
     "metadata": {},
     "output_type": "execute_result"
    }
   ],
   "source": [
    "text"
   ]
  },
  {
   "cell_type": "code",
   "execution_count": 26,
   "id": "17eab013",
   "metadata": {},
   "outputs": [],
   "source": [
    "with open(\"navakokitab.txt\", \"w\") as f: # write file\n",
    "    f.write(\"\"\"\n",
    "    This removes old file and replace it with a new file with new content.\n",
    "    multi line\n",
    "    \"\"\")"
   ]
  },
  {
   "cell_type": "code",
   "execution_count": 27,
   "id": "e8ef2585",
   "metadata": {},
   "outputs": [],
   "source": [
    "with open(\"navakokitab.txt\", \"r\") as f: # read file\n",
    "    text = f.read()"
   ]
  },
  {
   "cell_type": "code",
   "execution_count": 28,
   "id": "4e0dc43d",
   "metadata": {},
   "outputs": [
    {
     "data": {
      "text/plain": [
       "'\\n    This removes old file and replace it with a new file with new content.\\n    multi line\\n    '"
      ]
     },
     "execution_count": 28,
     "metadata": {},
     "output_type": "execute_result"
    }
   ],
   "source": [
    "text"
   ]
  },
  {
   "cell_type": "markdown",
   "id": "40995665",
   "metadata": {},
   "source": [
    "# Append mode\n",
    "* if file exists appends on EOL in file.\n",
    "* if file doesnot exists it creates a new file and writes."
   ]
  },
  {
   "cell_type": "code",
   "execution_count": 29,
   "id": "7edbc633",
   "metadata": {},
   "outputs": [],
   "source": [
    "with open('newfile.txt', 'a') as f:\n",
    "    f.write(\"This is new file created using append mode.\")"
   ]
  },
  {
   "cell_type": "code",
   "execution_count": 30,
   "id": "633f0e0e",
   "metadata": {},
   "outputs": [
    {
     "data": {
      "text/plain": [
       "'This is new file created using append mode.'"
      ]
     },
     "execution_count": 30,
     "metadata": {},
     "output_type": "execute_result"
    }
   ],
   "source": [
    "with open('newfile.txt', 'r') as f:\n",
    "    text = f.read()\n",
    "text"
   ]
  },
  {
   "cell_type": "code",
   "execution_count": 31,
   "id": "de8d8bd9",
   "metadata": {},
   "outputs": [],
   "source": [
    "with open('newfile.txt', 'a') as f:\n",
    "    f.write(\"This is more text appended to the newfile.txt\")"
   ]
  },
  {
   "cell_type": "code",
   "execution_count": 32,
   "id": "1dc359dd",
   "metadata": {},
   "outputs": [
    {
     "data": {
      "text/plain": [
       "'This is new file created using append mode.This is more text appended to the newfile.txt'"
      ]
     },
     "execution_count": 32,
     "metadata": {},
     "output_type": "execute_result"
    }
   ],
   "source": [
    "with open('newfile.txt', 'r') as f:\n",
    "    text = f.read()\n",
    "text"
   ]
  },
  {
   "cell_type": "markdown",
   "id": "e73e4b85",
   "metadata": {},
   "source": [
    "# file handling and exception handling"
   ]
  },
  {
   "cell_type": "code",
   "execution_count": 38,
   "id": "4ab1bc34",
   "metadata": {},
   "outputs": [],
   "source": [
    "with open(\"python800.txt\", 'r') as f:\n",
    "    text = f.read()"
   ]
  },
  {
   "cell_type": "code",
   "execution_count": 45,
   "id": "0150225d",
   "metadata": {},
   "outputs": [
    {
     "name": "stdout",
     "output_type": "stream",
     "text": [
      "File read successfully.\n",
      "THis statement is executed no matter what\n",
      "This is used to close a file or flush the memory.\n"
     ]
    }
   ],
   "source": [
    "try:\n",
    "    with open(\"python800.txt\", 'r') as f:\n",
    "        text = f.read()\n",
    "    print(\"File read successfully.\")\n",
    "except FileNotFoundError as e:\n",
    "    print(str(e))\n",
    "    print(\"Creating new file\")\n",
    "    with open(\"python800.txt\", 'w') as f:\n",
    "        f.write(\"This file didn't exist we created it because exception occured\")\n",
    "    \n",
    "finally:\n",
    "    print(\"THis statement is executed no matter what\")\n",
    "    print(\"This is used to close a file or flush the memory.\")"
   ]
  },
  {
   "cell_type": "code",
   "execution_count": 46,
   "id": "ab9c28f7",
   "metadata": {},
   "outputs": [],
   "source": [
    "with open(\"python800.txt\", 'r') as f:\n",
    "    text = f.read()"
   ]
  },
  {
   "cell_type": "code",
   "execution_count": 47,
   "id": "cb27b7ef",
   "metadata": {},
   "outputs": [
    {
     "data": {
      "text/plain": [
       "\"This file didn't exist we created it because exception occured\""
      ]
     },
     "execution_count": 47,
     "metadata": {},
     "output_type": "execute_result"
    }
   ],
   "source": [
    "text"
   ]
  },
  {
   "cell_type": "markdown",
   "id": "e955f6a0",
   "metadata": {},
   "source": [
    "# how to delete file in python"
   ]
  },
  {
   "cell_type": "code",
   "execution_count": 48,
   "id": "3f26e5c1",
   "metadata": {},
   "outputs": [
    {
     "data": {
      "text/plain": [
       "True"
      ]
     },
     "execution_count": 48,
     "metadata": {},
     "output_type": "execute_result"
    }
   ],
   "source": [
    "import os\n",
    "os.path.exists('python800.txt')"
   ]
  },
  {
   "cell_type": "code",
   "execution_count": 49,
   "id": "4e691385",
   "metadata": {},
   "outputs": [
    {
     "name": "stdout",
     "output_type": "stream",
     "text": [
      "File Exists.\n",
      "File Removed\n"
     ]
    }
   ],
   "source": [
    "if os.path.exists('python800.txt'):\n",
    "    print(\"File Exists.\")\n",
    "    os.remove('python800.txt')\n",
    "    print(\"File Removed\")"
   ]
  },
  {
   "cell_type": "code",
   "execution_count": null,
   "id": "848dd980",
   "metadata": {},
   "outputs": [],
   "source": []
  }
 ],
 "metadata": {
  "kernelspec": {
   "display_name": "Python 3 (ipykernel)",
   "language": "python",
   "name": "python3"
  },
  "language_info": {
   "codemirror_mode": {
    "name": "ipython",
    "version": 3
   },
   "file_extension": ".py",
   "mimetype": "text/x-python",
   "name": "python",
   "nbconvert_exporter": "python",
   "pygments_lexer": "ipython3",
   "version": "3.10.9"
  }
 },
 "nbformat": 4,
 "nbformat_minor": 5
}
