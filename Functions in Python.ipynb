{
 "cells": [
  {
   "cell_type": "markdown",
   "id": "6b587cfd",
   "metadata": {},
   "source": [
    "# functions\n",
    "\n",
    "**syntax:\n",
    "\n",
    "```python\n",
    "\n",
    "def function_name(argument):\n",
    "    # function body\n",
    "    return expression"
   ]
  },
  {
   "cell_type": "code",
   "execution_count": 10,
   "id": "25968764",
   "metadata": {},
   "outputs": [],
   "source": [
    "def add_num():\n",
    "    a = 5\n",
    "    b = 4\n",
    "    c = a + b\n",
    "    print(c)"
   ]
  },
  {
   "cell_type": "code",
   "execution_count": 11,
   "id": "cd67fdb9",
   "metadata": {},
   "outputs": [
    {
     "name": "stdout",
     "output_type": "stream",
     "text": [
      "9\n"
     ]
    }
   ],
   "source": [
    "add_num()"
   ]
  },
  {
   "cell_type": "code",
   "execution_count": 14,
   "id": "4253aa22",
   "metadata": {},
   "outputs": [],
   "source": [
    "def add_num(a, b): # a and b are arguments or parameters passed by user to a function\n",
    "    c = a + b\n",
    "    print(c)"
   ]
  },
  {
   "cell_type": "code",
   "execution_count": 13,
   "id": "1d47db4b",
   "metadata": {},
   "outputs": [
    {
     "name": "stdout",
     "output_type": "stream",
     "text": [
      "10\n"
     ]
    }
   ],
   "source": [
    "add_num(7, 3)"
   ]
  },
  {
   "cell_type": "code",
   "execution_count": 15,
   "id": "d516f4b8",
   "metadata": {},
   "outputs": [
    {
     "name": "stdout",
     "output_type": "stream",
     "text": [
      "10\n"
     ]
    }
   ],
   "source": [
    "num = add_num(7, 3)"
   ]
  },
  {
   "cell_type": "code",
   "execution_count": 16,
   "id": "2fed8da7",
   "metadata": {},
   "outputs": [],
   "source": [
    "num # not returned anything -- function returned nothing"
   ]
  },
  {
   "cell_type": "markdown",
   "id": "e9cac32b",
   "metadata": {},
   "source": [
    "# return statement"
   ]
  },
  {
   "cell_type": "code",
   "execution_count": 17,
   "id": "4fed2d75",
   "metadata": {},
   "outputs": [],
   "source": [
    "def add_num(a, b): # a and b are arguments or parameters passed by user to a function\n",
    "    c = a + b\n",
    "    return c"
   ]
  },
  {
   "cell_type": "code",
   "execution_count": 18,
   "id": "820b184e",
   "metadata": {},
   "outputs": [],
   "source": [
    "num = add_num(5, 8)"
   ]
  },
  {
   "cell_type": "code",
   "execution_count": 19,
   "id": "542d2abb",
   "metadata": {},
   "outputs": [
    {
     "data": {
      "text/plain": [
       "13"
      ]
     },
     "execution_count": 19,
     "metadata": {},
     "output_type": "execute_result"
    }
   ],
   "source": [
    "num"
   ]
  },
  {
   "cell_type": "code",
   "execution_count": 20,
   "id": "3b8522d6",
   "metadata": {},
   "outputs": [],
   "source": [
    "total = num * 5"
   ]
  },
  {
   "cell_type": "code",
   "execution_count": 21,
   "id": "15235376",
   "metadata": {},
   "outputs": [
    {
     "data": {
      "text/plain": [
       "65"
      ]
     },
     "execution_count": 21,
     "metadata": {},
     "output_type": "execute_result"
    }
   ],
   "source": [
    "total"
   ]
  },
  {
   "cell_type": "markdown",
   "id": "6241c8db",
   "metadata": {},
   "source": [
    "# calculate the volume fo sphere v = 4/3 pi r**3\n",
    "$$ volume = \\frac(4)(3) \\pi r^3 $$"
   ]
  },
  {
   "cell_type": "code",
   "execution_count": 28,
   "id": "3b9fad69",
   "metadata": {},
   "outputs": [],
   "source": [
    "import math\n",
    "def sphere_volume(r):\n",
    "    volume = (4/3) * math.pi * (r ** 3)\n",
    "    return volume"
   ]
  },
  {
   "cell_type": "code",
   "execution_count": 29,
   "id": "1f44a4e8",
   "metadata": {},
   "outputs": [
    {
     "name": "stdout",
     "output_type": "stream",
     "text": [
      "Enter radius:5\n"
     ]
    },
    {
     "data": {
      "text/plain": [
       "523.5987755982989"
      ]
     },
     "execution_count": 29,
     "metadata": {},
     "output_type": "execute_result"
    }
   ],
   "source": [
    "radius = int(input(\"Enter radius:\"))\n",
    "sphere_volume(radius)"
   ]
  },
  {
   "cell_type": "code",
   "execution_count": null,
   "id": "9a418746",
   "metadata": {},
   "outputs": [],
   "source": []
  }
 ],
 "metadata": {
  "kernelspec": {
   "display_name": "Python 3 (ipykernel)",
   "language": "python",
   "name": "python3"
  },
  "language_info": {
   "codemirror_mode": {
    "name": "ipython",
    "version": 3
   },
   "file_extension": ".py",
   "mimetype": "text/x-python",
   "name": "python",
   "nbconvert_exporter": "python",
   "pygments_lexer": "ipython3",
   "version": "3.10.9"
  }
 },
 "nbformat": 4,
 "nbformat_minor": 5
}
