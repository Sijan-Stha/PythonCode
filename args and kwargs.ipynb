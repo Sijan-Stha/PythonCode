{
 "cells": [
  {
   "cell_type": "markdown",
   "id": "5b4e68f7",
   "metadata": {},
   "source": [
    "# args and kwargs"
   ]
  },
  {
   "cell_type": "code",
   "execution_count": 1,
   "id": "9b1ac885",
   "metadata": {},
   "outputs": [],
   "source": [
    "def add(x, y): \n",
    "    return x + y"
   ]
  },
  {
   "cell_type": "code",
   "execution_count": 2,
   "id": "01100ec0",
   "metadata": {},
   "outputs": [
    {
     "data": {
      "text/plain": [
       "9"
      ]
     },
     "execution_count": 2,
     "metadata": {},
     "output_type": "execute_result"
    }
   ],
   "source": [
    "add(3, 6)"
   ]
  },
  {
   "cell_type": "code",
   "execution_count": 3,
   "id": "218c3f76",
   "metadata": {},
   "outputs": [],
   "source": [
    "total = add(8, 6)"
   ]
  },
  {
   "cell_type": "code",
   "execution_count": 4,
   "id": "35de6084",
   "metadata": {},
   "outputs": [
    {
     "data": {
      "text/plain": [
       "14"
      ]
     },
     "execution_count": 4,
     "metadata": {},
     "output_type": "execute_result"
    }
   ],
   "source": [
    "total"
   ]
  },
  {
   "cell_type": "code",
   "execution_count": 10,
   "id": "7800f0db",
   "metadata": {},
   "outputs": [],
   "source": [
    "def add(*args):\n",
    "    print(args)\n",
    "    print(type(args))"
   ]
  },
  {
   "cell_type": "code",
   "execution_count": 11,
   "id": "3ac9574c",
   "metadata": {},
   "outputs": [
    {
     "name": "stdout",
     "output_type": "stream",
     "text": [
      "(1, 2, 4, 3, 5, 6, 7, 8, 9, 10)\n",
      "<class 'tuple'>\n"
     ]
    }
   ],
   "source": [
    "add(1, 2, 4, 3, 5, 6, 7, 8, 9, 10)"
   ]
  },
  {
   "cell_type": "code",
   "execution_count": 12,
   "id": "07f62017",
   "metadata": {},
   "outputs": [],
   "source": [
    "def add(*args):\n",
    "    total = 0\n",
    "    for items in args:\n",
    "        total = total + items\n",
    "    return total"
   ]
  },
  {
   "cell_type": "code",
   "execution_count": 13,
   "id": "d7b56b1e",
   "metadata": {},
   "outputs": [
    {
     "data": {
      "text/plain": [
       "55"
      ]
     },
     "execution_count": 13,
     "metadata": {},
     "output_type": "execute_result"
    }
   ],
   "source": [
    "add(1, 2, 4, 3, 5, 6, 7, 8, 9, 10)"
   ]
  },
  {
   "cell_type": "code",
   "execution_count": 17,
   "id": "2250b175",
   "metadata": {},
   "outputs": [],
   "source": [
    "def even_number_sum(*args):\n",
    "    even_total = 0\n",
    "    \n",
    "    for items in args:\n",
    "        if items % 2 == 0:\n",
    "            even_total = even_total + items\n",
    "    return even_total"
   ]
  },
  {
   "cell_type": "code",
   "execution_count": 18,
   "id": "37f98868",
   "metadata": {},
   "outputs": [
    {
     "data": {
      "text/plain": [
       "30"
      ]
     },
     "execution_count": 18,
     "metadata": {},
     "output_type": "execute_result"
    }
   ],
   "source": [
    "even_number_sum(1, 2, 4, 3, 5, 6, 7, 8, 9, 10)"
   ]
  },
  {
   "cell_type": "markdown",
   "id": "9777217c",
   "metadata": {},
   "source": [
    "# YIELD"
   ]
  },
  {
   "cell_type": "markdown",
   "id": "2b7cfa31",
   "metadata": {},
   "source": [
    "# kwargs"
   ]
  },
  {
   "cell_type": "code",
   "execution_count": 21,
   "id": "3909649a",
   "metadata": {},
   "outputs": [],
   "source": [
    "def display(**kwargs):\n",
    "    print(kwargs)\n",
    "    print(type(kwargs))"
   ]
  },
  {
   "cell_type": "code",
   "execution_count": 23,
   "id": "5fb7fe2c",
   "metadata": {},
   "outputs": [
    {
     "name": "stdout",
     "output_type": "stream",
     "text": [
      "{'name': 'sijan', 'age': 22, 'gender': 'm'}\n",
      "<class 'dict'>\n"
     ]
    }
   ],
   "source": [
    "display(name = 'sijan', age = 22, gender = 'm')"
   ]
  },
  {
   "cell_type": "code",
   "execution_count": 24,
   "id": "dd97c270",
   "metadata": {},
   "outputs": [
    {
     "ename": "TypeError",
     "evalue": "display() takes 0 positional arguments but 3 were given",
     "output_type": "error",
     "traceback": [
      "\u001b[1;31m---------------------------------------------------------------------------\u001b[0m",
      "\u001b[1;31mTypeError\u001b[0m                                 Traceback (most recent call last)",
      "Cell \u001b[1;32mIn[24], line 1\u001b[0m\n\u001b[1;32m----> 1\u001b[0m \u001b[43mdisplay\u001b[49m\u001b[43m(\u001b[49m\u001b[38;5;241;43m1\u001b[39;49m\u001b[43m,\u001b[49m\u001b[43m \u001b[49m\u001b[38;5;241;43m2\u001b[39;49m\u001b[43m,\u001b[49m\u001b[43m \u001b[49m\u001b[38;5;241;43m3\u001b[39;49m\u001b[43m)\u001b[49m\n",
      "\u001b[1;31mTypeError\u001b[0m: display() takes 0 positional arguments but 3 were given"
     ]
    }
   ],
   "source": [
    "display(1, 2, 3)"
   ]
  },
  {
   "cell_type": "code",
   "execution_count": 27,
   "id": "19e2d465",
   "metadata": {},
   "outputs": [],
   "source": [
    "def display(**kwargs):\n",
    "    print(kwargs.get('name'))\n",
    "    print(kwargs['age'])"
   ]
  },
  {
   "cell_type": "code",
   "execution_count": 28,
   "id": "e884632e",
   "metadata": {},
   "outputs": [
    {
     "name": "stdout",
     "output_type": "stream",
     "text": [
      "sijan\n",
      "22\n"
     ]
    }
   ],
   "source": [
    "display(name = 'sijan', age = 22, gender = 'm')"
   ]
  },
  {
   "cell_type": "code",
   "execution_count": null,
   "id": "93efb95e",
   "metadata": {},
   "outputs": [],
   "source": []
  }
 ],
 "metadata": {
  "kernelspec": {
   "display_name": "Python 3 (ipykernel)",
   "language": "python",
   "name": "python3"
  },
  "language_info": {
   "codemirror_mode": {
    "name": "ipython",
    "version": 3
   },
   "file_extension": ".py",
   "mimetype": "text/x-python",
   "name": "python",
   "nbconvert_exporter": "python",
   "pygments_lexer": "ipython3",
   "version": "3.10.9"
  }
 },
 "nbformat": 4,
 "nbformat_minor": 5
}
