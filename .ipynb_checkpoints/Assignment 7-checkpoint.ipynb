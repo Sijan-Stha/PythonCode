{
 "cells": [
  {
   "cell_type": "markdown",
   "id": "1b7b611f",
   "metadata": {},
   "source": [
    "# voter eligibility"
   ]
  },
  {
   "cell_type": "code",
   "execution_count": 2,
   "id": "223f85fd",
   "metadata": {},
   "outputs": [
    {
     "name": "stdout",
     "output_type": "stream",
     "text": [
      "Enter your Age: 55\n",
      "You are eligible to vote.\n"
     ]
    }
   ],
   "source": [
    "def check_eligibility(age):\n",
    "    if age < 18:\n",
    "        print(\"You are underage. You are not eligible to vote.\")\n",
    "    else:\n",
    "        print(\"You are eligible to vote.\")\n",
    "\n",
    "age = int(input(\"Enter your Age: \"))\n",
    "\n",
    "check_eligibility(age)"
   ]
  },
  {
   "cell_type": "markdown",
   "id": "4d0c0939",
   "metadata": {},
   "source": [
    "# WAP to count vowel and consonants on the given string using function."
   ]
  },
  {
   "cell_type": "code",
   "execution_count": 3,
   "id": "1e194f7b",
   "metadata": {},
   "outputs": [
    {
     "name": "stdout",
     "output_type": "stream",
     "text": [
      "Enter any string: sijanshresgtha\n",
      "Total vowel = 4\n",
      "Total consonant = 10\n"
     ]
    }
   ],
   "source": [
    "def count_vowel_consonants(string1):\n",
    "    count_vowel = 0\n",
    "    count_consonant = 0\n",
    "    for item in string1:\n",
    "        if item == 'a' or item == 'e' or item == 'i' or item == 'o' or item == 'u':\n",
    "            count_vowel = count_vowel + 1\n",
    "        else:\n",
    "            count_consonant = count_consonant + 1\n",
    "    print(f\"Total vowel = {count_vowel}\")\n",
    "    print(f\"Total consonant = {count_consonant}\")\n",
    "            \n",
    "        \n",
    "string1 = input('Enter any string: ').lower()\n",
    "\n",
    "count_vowel_consonants(string1)"
   ]
  },
  {
   "cell_type": "code",
   "execution_count": null,
   "id": "cfeaa267",
   "metadata": {},
   "outputs": [],
   "source": []
  }
 ],
 "metadata": {
  "kernelspec": {
   "display_name": "Python 3 (ipykernel)",
   "language": "python",
   "name": "python3"
  },
  "language_info": {
   "codemirror_mode": {
    "name": "ipython",
    "version": 3
   },
   "file_extension": ".py",
   "mimetype": "text/x-python",
   "name": "python",
   "nbconvert_exporter": "python",
   "pygments_lexer": "ipython3",
   "version": "3.10.9"
  }
 },
 "nbformat": 4,
 "nbformat_minor": 5
}
