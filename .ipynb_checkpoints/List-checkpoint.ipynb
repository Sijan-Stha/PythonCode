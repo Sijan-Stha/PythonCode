{
 "cells": [
  {
   "cell_type": "code",
   "execution_count": 1,
   "id": "83ef3f8f",
   "metadata": {},
   "outputs": [
    {
     "data": {
      "text/plain": [
       "[4, 5, 88]"
      ]
     },
     "execution_count": 1,
     "metadata": {},
     "output_type": "execute_result"
    }
   ],
   "source": [
    "num = [4, 5, 88]"
   ]
  },
  {
   "cell_type": "code",
   "execution_count": null,
   "id": "a4fd7628",
   "metadata": {},
   "outputs": [],
   "source": []
  },
  {
   "cell_type": "markdown",
   "id": "5d17bd0e",
   "metadata": {},
   "source": [
    "# List of list"
   ]
  },
  {
   "cell_type": "code",
   "execution_count": 8,
   "id": "d99bf024",
   "metadata": {},
   "outputs": [],
   "source": [
    "num = [6, 66, 77, [23, 23], [3], 33, 34, [64, 6, 56, 65]]"
   ]
  },
  {
   "cell_type": "code",
   "execution_count": 9,
   "id": "42595812",
   "metadata": {},
   "outputs": [
    {
     "data": {
      "text/plain": [
       "[6, 66, 77, [23, 23], [3], 33, 34, [64, 6, 56, 65]]"
      ]
     },
     "execution_count": 9,
     "metadata": {},
     "output_type": "execute_result"
    }
   ],
   "source": [
    "num"
   ]
  },
  {
   "cell_type": "code",
   "execution_count": 10,
   "id": "b3c48828",
   "metadata": {},
   "outputs": [
    {
     "data": {
      "text/plain": [
       "[64, 6, 56, 65]"
      ]
     },
     "execution_count": 10,
     "metadata": {},
     "output_type": "execute_result"
    }
   ],
   "source": [
    "num[-1]"
   ]
  },
  {
   "cell_type": "markdown",
   "id": "cf2af543",
   "metadata": {},
   "source": [
    "# extend() method"
   ]
  },
  {
   "cell_type": "code",
   "execution_count": 12,
   "id": "0540c964",
   "metadata": {},
   "outputs": [
    {
     "data": {
      "text/plain": [
       "[1, 3, 5, 2, 6, 2, 65, 6]"
      ]
     },
     "execution_count": 12,
     "metadata": {},
     "output_type": "execute_result"
    }
   ],
   "source": [
    "x = [ 1, 3, 5, 2]\n",
    "y = [ 6, 2, 65, 6]\n",
    "x+y #concatination of list"
   ]
  },
  {
   "cell_type": "code",
   "execution_count": 16,
   "id": "f11bba7e",
   "metadata": {},
   "outputs": [],
   "source": [
    "x.extend(y)"
   ]
  },
  {
   "cell_type": "code",
   "execution_count": 17,
   "id": "3c707b62",
   "metadata": {},
   "outputs": [
    {
     "data": {
      "text/plain": [
       "[1, 3, 5, 2, 6, 2, 65, 6, 6, 2, 65, 6]"
      ]
     },
     "execution_count": 17,
     "metadata": {},
     "output_type": "execute_result"
    }
   ],
   "source": [
    "x"
   ]
  },
  {
   "cell_type": "markdown",
   "id": "064ee0fe",
   "metadata": {},
   "source": [
    "# remove() method"
   ]
  },
  {
   "cell_type": "code",
   "execution_count": 22,
   "id": "9f0c9a40",
   "metadata": {},
   "outputs": [
    {
     "data": {
      "text/plain": [
       "['Tesla', 'BMW', 'Tesla', 'Mercedies']"
      ]
     },
     "execution_count": 22,
     "metadata": {},
     "output_type": "execute_result"
    }
   ],
   "source": [
    "car = [\"Tesla\", \"BMW\", \"Tesla\", \"Mercedies\" ]\n",
    "car"
   ]
  },
  {
   "cell_type": "code",
   "execution_count": 25,
   "id": "9fe02b65",
   "metadata": {},
   "outputs": [],
   "source": [
    "car.remove(\"Tesla\") # removes first occurance"
   ]
  },
  {
   "cell_type": "code",
   "execution_count": 26,
   "id": "9370a545",
   "metadata": {},
   "outputs": [
    {
     "data": {
      "text/plain": [
       "['BMW', 'Mercedies']"
      ]
     },
     "execution_count": 26,
     "metadata": {},
     "output_type": "execute_result"
    }
   ],
   "source": [
    "car"
   ]
  },
  {
   "cell_type": "markdown",
   "id": "54bec9bb",
   "metadata": {},
   "source": [
    "# .pop() method"
   ]
  },
  {
   "cell_type": "code",
   "execution_count": 27,
   "id": "6ce18d7f",
   "metadata": {},
   "outputs": [
    {
     "data": {
      "text/plain": [
       "['Tesla', 'BMW', 'Tesla', 'Mercedies']"
      ]
     },
     "execution_count": 27,
     "metadata": {},
     "output_type": "execute_result"
    }
   ],
   "source": [
    "car = [\"Tesla\", \"BMW\", \"Tesla\", \"Mercedies\" ]\n",
    "car"
   ]
  },
  {
   "cell_type": "code",
   "execution_count": 29,
   "id": "beeede43",
   "metadata": {},
   "outputs": [
    {
     "data": {
      "text/plain": [
       "'Mercedies'"
      ]
     },
     "execution_count": 29,
     "metadata": {},
     "output_type": "execute_result"
    }
   ],
   "source": [
    "car.pop()"
   ]
  },
  {
   "cell_type": "code",
   "execution_count": 30,
   "id": "88ca5149",
   "metadata": {},
   "outputs": [
    {
     "data": {
      "text/plain": [
       "['Tesla', 'BMW', 'Tesla']"
      ]
     },
     "execution_count": 30,
     "metadata": {},
     "output_type": "execute_result"
    }
   ],
   "source": [
    "car"
   ]
  },
  {
   "cell_type": "code",
   "execution_count": 37,
   "id": "437c57cc",
   "metadata": {},
   "outputs": [
    {
     "data": {
      "text/plain": [
       "['Tesla', 'BMW', 'Tesla', 'Mercedies']"
      ]
     },
     "execution_count": 37,
     "metadata": {},
     "output_type": "execute_result"
    }
   ],
   "source": [
    "car = [\"Tesla\", \"BMW\", \"Tesla\", \"Mercedies\" ]\n",
    "car"
   ]
  },
  {
   "cell_type": "code",
   "execution_count": 38,
   "id": "03e1a881",
   "metadata": {},
   "outputs": [
    {
     "data": {
      "text/plain": [
       "'Tesla'"
      ]
     },
     "execution_count": 38,
     "metadata": {},
     "output_type": "execute_result"
    }
   ],
   "source": [
    "car.pop(2) # pop using index"
   ]
  },
  {
   "cell_type": "markdown",
   "id": "657ede24",
   "metadata": {},
   "source": [
    "# interview ( Python list as stack and queue)\n",
    "\n",
    "* Stack (LIFO)\n",
    "    * operation in stack: push and pop. in python push is done by append() and pop is done by pop() method.\n",
    "    \n",
    "* queue (FIFO)\n",
    "    * operation in queue: inqueue and dequeue. In python inqueue by append() and decuque by pop(0)"
   ]
  },
  {
   "cell_type": "markdown",
   "id": "8c561c6a",
   "metadata": {},
   "source": [
    "# Sorting of list -- sort() method"
   ]
  },
  {
   "cell_type": "code",
   "execution_count": 40,
   "id": "76ca4a15",
   "metadata": {},
   "outputs": [],
   "source": [
    "x = [90, 20, 8, 34, 99, 45]\n",
    "x.sort() # Ascending order"
   ]
  },
  {
   "cell_type": "code",
   "execution_count": 41,
   "id": "2fcedec1",
   "metadata": {},
   "outputs": [
    {
     "data": {
      "text/plain": [
       "[8, 20, 34, 45, 90, 99]"
      ]
     },
     "execution_count": 41,
     "metadata": {},
     "output_type": "execute_result"
    }
   ],
   "source": [
    "x"
   ]
  },
  {
   "cell_type": "code",
   "execution_count": 44,
   "id": "4a36eb5b",
   "metadata": {},
   "outputs": [],
   "source": [
    "x.sort(reverse = True) # descending order"
   ]
  },
  {
   "cell_type": "code",
   "execution_count": 45,
   "id": "f8f798b1",
   "metadata": {},
   "outputs": [
    {
     "data": {
      "text/plain": [
       "[99, 90, 45, 34, 20, 8]"
      ]
     },
     "execution_count": 45,
     "metadata": {},
     "output_type": "execute_result"
    }
   ],
   "source": [
    "x"
   ]
  },
  {
   "cell_type": "code",
   "execution_count": 46,
   "id": "074860d7",
   "metadata": {},
   "outputs": [],
   "source": [
    "# builtin python method"
   ]
  },
  {
   "cell_type": "code",
   "execution_count": 49,
   "id": "7df96dd2",
   "metadata": {},
   "outputs": [
    {
     "data": {
      "text/plain": [
       "[8, 20, 34, 45, 90, 99]"
      ]
     },
     "execution_count": 49,
     "metadata": {},
     "output_type": "execute_result"
    }
   ],
   "source": [
    "x = [90, 20, 8, 34, 99, 45]\n",
    " sorted(x)"
   ]
  },
  {
   "cell_type": "code",
   "execution_count": 50,
   "id": "1f2a55ac",
   "metadata": {},
   "outputs": [
    {
     "data": {
      "text/plain": [
       "[99, 90, 45, 34, 20, 8]"
      ]
     },
     "execution_count": 50,
     "metadata": {},
     "output_type": "execute_result"
    }
   ],
   "source": [
    "sorted(x, reverse = True)"
   ]
  },
  {
   "cell_type": "code",
   "execution_count": null,
   "id": "6231b7eb",
   "metadata": {},
   "outputs": [],
   "source": []
  },
  {
   "cell_type": "code",
   "execution_count": null,
   "id": "c4118968",
   "metadata": {},
   "outputs": [],
   "source": []
  }
 ],
 "metadata": {
  "kernelspec": {
   "display_name": "Python 3 (ipykernel)",
   "language": "python",
   "name": "python3"
  },
  "language_info": {
   "codemirror_mode": {
    "name": "ipython",
    "version": 3
   },
   "file_extension": ".py",
   "mimetype": "text/x-python",
   "name": "python",
   "nbconvert_exporter": "python",
   "pygments_lexer": "ipython3",
   "version": "3.10.9"
  }
 },
 "nbformat": 4,
 "nbformat_minor": 5
}
