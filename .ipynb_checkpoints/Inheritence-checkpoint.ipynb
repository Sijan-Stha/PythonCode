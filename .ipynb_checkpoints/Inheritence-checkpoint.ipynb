{
 "cells": [
  {
   "cell_type": "code",
   "execution_count": 5,
   "id": "c89386d8",
   "metadata": {},
   "outputs": [],
   "source": [
    "class Computer:\n",
    "    def __init__(self, gpu):\n",
    "        self.gpu = gpu\n",
    "\n",
    "class Mobile:\n",
    "    def __init__(self, flash):\n",
    "        self.flash = flash"
   ]
  },
  {
   "cell_type": "code",
   "execution_count": 6,
   "id": "4332afd3",
   "metadata": {},
   "outputs": [],
   "source": [
    "mob = Mobile(True)"
   ]
  },
  {
   "cell_type": "code",
   "execution_count": 7,
   "id": "589be229",
   "metadata": {},
   "outputs": [
    {
     "ename": "AttributeError",
     "evalue": "'Mobile' object has no attribute 'gpu'",
     "output_type": "error",
     "traceback": [
      "\u001b[1;31m---------------------------------------------------------------------------\u001b[0m",
      "\u001b[1;31mAttributeError\u001b[0m                            Traceback (most recent call last)",
      "Cell \u001b[1;32mIn[7], line 1\u001b[0m\n\u001b[1;32m----> 1\u001b[0m \u001b[43mmob\u001b[49m\u001b[38;5;241;43m.\u001b[39;49m\u001b[43mgpu\u001b[49m\n",
      "\u001b[1;31mAttributeError\u001b[0m: 'Mobile' object has no attribute 'gpu'"
     ]
    }
   ],
   "source": [
    "mob.gpu"
   ]
  },
  {
   "cell_type": "markdown",
   "id": "1d3240e2",
   "metadata": {},
   "source": [
    "# Single Inheritence"
   ]
  },
  {
   "cell_type": "code",
   "execution_count": 10,
   "id": "677d9682",
   "metadata": {},
   "outputs": [],
   "source": [
    "class Computer:\n",
    "    def __init__(self, gpu):\n",
    "        self.gpu = gpu\n",
    "\n",
    "class Mobile(Computer):\n",
    "    def __init__(self, flash, gpu):\n",
    "        self.flash = flash\n",
    "        super().__init__(gpu)"
   ]
  },
  {
   "cell_type": "code",
   "execution_count": 11,
   "id": "5b98d40a",
   "metadata": {},
   "outputs": [],
   "source": [
    "mob = Mobile(True, 'adreno')"
   ]
  },
  {
   "cell_type": "code",
   "execution_count": 12,
   "id": "adf5f2f4",
   "metadata": {},
   "outputs": [
    {
     "data": {
      "text/plain": [
       "'adreno'"
      ]
     },
     "execution_count": 12,
     "metadata": {},
     "output_type": "execute_result"
    }
   ],
   "source": [
    "mob.gpu"
   ]
  },
  {
   "cell_type": "markdown",
   "id": "ade37871",
   "metadata": {},
   "source": [
    "# Multiple inheritence"
   ]
  },
  {
   "cell_type": "code",
   "execution_count": 14,
   "id": "fcefe36f",
   "metadata": {},
   "outputs": [],
   "source": [
    "class Father():\n",
    "    f_name = \"Ram\"\n",
    "    def __init__(self):\n",
    "        pass\n",
    "    \n",
    "class Mother():\n",
    "    m_name = \"Sita\"\n",
    "    def __init__(self):\n",
    "        pass\n",
    "    \n",
    "class Child():\n",
    "    def __init__(self, name):\n",
    "        self.name = name\n",
    "    \n",
    "    \n",
    "    "
   ]
  },
  {
   "cell_type": "code",
   "execution_count": 15,
   "id": "d382ded7",
   "metadata": {},
   "outputs": [],
   "source": [
    "child = Child('noone')"
   ]
  },
  {
   "cell_type": "code",
   "execution_count": 16,
   "id": "738a1f5e",
   "metadata": {},
   "outputs": [
    {
     "ename": "AttributeError",
     "evalue": "'Child' object has no attribute 'f_name'",
     "output_type": "error",
     "traceback": [
      "\u001b[1;31m---------------------------------------------------------------------------\u001b[0m",
      "\u001b[1;31mAttributeError\u001b[0m                            Traceback (most recent call last)",
      "Cell \u001b[1;32mIn[16], line 1\u001b[0m\n\u001b[1;32m----> 1\u001b[0m \u001b[43mchild\u001b[49m\u001b[38;5;241;43m.\u001b[39;49m\u001b[43mf_name\u001b[49m\n",
      "\u001b[1;31mAttributeError\u001b[0m: 'Child' object has no attribute 'f_name'"
     ]
    }
   ],
   "source": [
    "child.f_name"
   ]
  },
  {
   "cell_type": "code",
   "execution_count": 26,
   "id": "6f91dc1e",
   "metadata": {},
   "outputs": [],
   "source": [
    "class Father():\n",
    "    f_name = \"Ram\"\n",
    "    def __init__(self):\n",
    "        pass\n",
    "    \n",
    "class Mother():\n",
    "    m_name = \"Sita\"\n",
    "    def __init__(self):\n",
    "        pass\n",
    "    \n",
    "class Child(Father, Mother):\n",
    "    def __init__(self, name):\n",
    "        self.name = name\n",
    "        Father.__init__(self)\n",
    "        Mother.__init__(self)"
   ]
  },
  {
   "cell_type": "code",
   "execution_count": 27,
   "id": "850ffd22",
   "metadata": {},
   "outputs": [],
   "source": [
    "c = Child(\"Someone\")"
   ]
  },
  {
   "cell_type": "code",
   "execution_count": 28,
   "id": "01ad6ec3",
   "metadata": {},
   "outputs": [
    {
     "data": {
      "text/plain": [
       "'Ram'"
      ]
     },
     "execution_count": 28,
     "metadata": {},
     "output_type": "execute_result"
    }
   ],
   "source": [
    "c.f_name"
   ]
  },
  {
   "cell_type": "code",
   "execution_count": 29,
   "id": "64794ecf",
   "metadata": {},
   "outputs": [
    {
     "data": {
      "text/plain": [
       "'Sita'"
      ]
     },
     "execution_count": 29,
     "metadata": {},
     "output_type": "execute_result"
    }
   ],
   "source": [
    "c.m_name"
   ]
  },
  {
   "cell_type": "code",
   "execution_count": 30,
   "id": "7cd6a4d6",
   "metadata": {},
   "outputs": [
    {
     "data": {
      "text/plain": [
       "'Someone'"
      ]
     },
     "execution_count": 30,
     "metadata": {},
     "output_type": "execute_result"
    }
   ],
   "source": [
    "c.name"
   ]
  },
  {
   "cell_type": "markdown",
   "id": "eaebeb31",
   "metadata": {},
   "source": [
    "# Multi Level Inheritence in Python"
   ]
  },
  {
   "cell_type": "code",
   "execution_count": 47,
   "id": "284895a9",
   "metadata": {},
   "outputs": [],
   "source": [
    "class GrandFather():\n",
    "    g_name = \"Hari\"\n",
    "    def __init__(self):\n",
    "        pass\n",
    "    \n",
    "class Father(GrandFather):\n",
    "    f_name = \"Ram\"\n",
    "    def __init__(self):\n",
    "        GrandFather.__init__(self)\n",
    "    \n",
    "class Mother():\n",
    "    m_name = \"Sita\"\n",
    "    def __init__(self):\n",
    "        pass\n",
    "    \n",
    "class Child(Father, Mother):\n",
    "    def __init__(self, name):\n",
    "        self.name = name\n",
    "        Father.__init__(self)\n",
    "        Mother.__init__(self)"
   ]
  },
  {
   "cell_type": "code",
   "execution_count": 48,
   "id": "91ea717b",
   "metadata": {},
   "outputs": [],
   "source": [
    "c = Child(\"LovKush\")"
   ]
  },
  {
   "cell_type": "code",
   "execution_count": 49,
   "id": "606719cf",
   "metadata": {},
   "outputs": [
    {
     "data": {
      "text/plain": [
       "'Hari'"
      ]
     },
     "execution_count": 49,
     "metadata": {},
     "output_type": "execute_result"
    }
   ],
   "source": [
    "c.g_name"
   ]
  },
  {
   "cell_type": "code",
   "execution_count": 50,
   "id": "69e06175",
   "metadata": {},
   "outputs": [
    {
     "data": {
      "text/plain": [
       "'Ram'"
      ]
     },
     "execution_count": 50,
     "metadata": {},
     "output_type": "execute_result"
    }
   ],
   "source": [
    "c.f_name"
   ]
  },
  {
   "cell_type": "code",
   "execution_count": 51,
   "id": "29c67270",
   "metadata": {},
   "outputs": [
    {
     "data": {
      "text/plain": [
       "'Sita'"
      ]
     },
     "execution_count": 51,
     "metadata": {},
     "output_type": "execute_result"
    }
   ],
   "source": [
    "c.m_name"
   ]
  },
  {
   "cell_type": "markdown",
   "id": "e01412c6",
   "metadata": {},
   "source": [
    "# Are access specifiers used in python? -- No but has concept of limiting behaviour of variables: private attribute are not inherited."
   ]
  },
  {
   "cell_type": "code",
   "execution_count": 53,
   "id": "6bd8e572",
   "metadata": {},
   "outputs": [],
   "source": [
    "class Instructor:\n",
    "    name = \"Sijan\" # public variable\n",
    "    _age = 22 # one underscore is protected variable\n",
    "    __salary = 55577 # two underscore is privatre variable\n",
    "    "
   ]
  },
  {
   "cell_type": "code",
   "execution_count": 54,
   "id": "3ab8b7a0",
   "metadata": {},
   "outputs": [],
   "source": [
    "ins = Instructor()"
   ]
  },
  {
   "cell_type": "code",
   "execution_count": 55,
   "id": "636abeab",
   "metadata": {},
   "outputs": [
    {
     "data": {
      "text/plain": [
       "'Sijan'"
      ]
     },
     "execution_count": 55,
     "metadata": {},
     "output_type": "execute_result"
    }
   ],
   "source": [
    "ins.name"
   ]
  },
  {
   "cell_type": "code",
   "execution_count": 57,
   "id": "3bbcb38e",
   "metadata": {},
   "outputs": [
    {
     "data": {
      "text/plain": [
       "22"
      ]
     },
     "execution_count": 57,
     "metadata": {},
     "output_type": "execute_result"
    }
   ],
   "source": [
    "ins._age"
   ]
  },
  {
   "cell_type": "code",
   "execution_count": 58,
   "id": "db4ebcb5",
   "metadata": {},
   "outputs": [
    {
     "ename": "AttributeError",
     "evalue": "'Instructor' object has no attribute '__salary'",
     "output_type": "error",
     "traceback": [
      "\u001b[1;31m---------------------------------------------------------------------------\u001b[0m",
      "\u001b[1;31mAttributeError\u001b[0m                            Traceback (most recent call last)",
      "Cell \u001b[1;32mIn[58], line 1\u001b[0m\n\u001b[1;32m----> 1\u001b[0m \u001b[43mins\u001b[49m\u001b[38;5;241;43m.\u001b[39;49m\u001b[43m__salary\u001b[49m\n",
      "\u001b[1;31mAttributeError\u001b[0m: 'Instructor' object has no attribute '__salary'"
     ]
    }
   ],
   "source": [
    "ins.__salary"
   ]
  },
  {
   "cell_type": "code",
   "execution_count": null,
   "id": "f52d48f5",
   "metadata": {},
   "outputs": [],
   "source": []
  }
 ],
 "metadata": {
  "kernelspec": {
   "display_name": "Python 3 (ipykernel)",
   "language": "python",
   "name": "python3"
  },
  "language_info": {
   "codemirror_mode": {
    "name": "ipython",
    "version": 3
   },
   "file_extension": ".py",
   "mimetype": "text/x-python",
   "name": "python",
   "nbconvert_exporter": "python",
   "pygments_lexer": "ipython3",
   "version": "3.10.9"
  }
 },
 "nbformat": 4,
 "nbformat_minor": 5
}
