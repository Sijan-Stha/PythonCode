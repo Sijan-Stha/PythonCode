{
 "cells": [
  {
   "cell_type": "markdown",
   "id": "d9ebc15b",
   "metadata": {},
   "source": [
    "# Keywords in python\n",
    "\n",
    "* Reserved Word in Python\n",
    "* used to write a syntax in python \n",
    "* you cannot use keywords as variable/object name \n",
    "* case sensative: uppercase and lowercase name are different\n",
    "* example of keywords: global, True, False, for, if, sum, etc."
   ]
  },
  {
   "cell_type": "code",
   "execution_count": 1,
   "id": "86987343",
   "metadata": {},
   "outputs": [
    {
     "ename": "SyntaxError",
     "evalue": "invalid syntax (1404077010.py, line 1)",
     "output_type": "error",
     "traceback": [
      "\u001b[1;36m  Cell \u001b[1;32mIn[1], line 1\u001b[1;36m\u001b[0m\n\u001b[1;33m    global = 5\u001b[0m\n\u001b[1;37m           ^\u001b[0m\n\u001b[1;31mSyntaxError\u001b[0m\u001b[1;31m:\u001b[0m invalid syntax\n"
     ]
    }
   ],
   "source": [
    "global = 5"
   ]
  },
  {
   "cell_type": "code",
   "execution_count": 4,
   "id": "98e366bc",
   "metadata": {},
   "outputs": [
    {
     "ename": "SyntaxError",
     "evalue": "cannot assign to True (3991490913.py, line 1)",
     "output_type": "error",
     "traceback": [
      "\u001b[1;36m  Cell \u001b[1;32mIn[4], line 1\u001b[1;36m\u001b[0m\n\u001b[1;33m    True = \"Yes\"\u001b[0m\n\u001b[1;37m    ^\u001b[0m\n\u001b[1;31mSyntaxError\u001b[0m\u001b[1;31m:\u001b[0m cannot assign to True\n"
     ]
    }
   ],
   "source": [
    "True = \"Yes\""
   ]
  },
  {
   "cell_type": "markdown",
   "id": "a0671bdc",
   "metadata": {},
   "source": [
    "# Python keywords are case sensitive"
   ]
  },
  {
   "cell_type": "code",
   "execution_count": 5,
   "id": "23638e12",
   "metadata": {},
   "outputs": [
    {
     "ename": "SyntaxError",
     "evalue": "cannot assign to False (3875632828.py, line 1)",
     "output_type": "error",
     "traceback": [
      "\u001b[1;36m  Cell \u001b[1;32mIn[5], line 1\u001b[1;36m\u001b[0m\n\u001b[1;33m    False = \"hi\" #is a keyword\u001b[0m\n\u001b[1;37m    ^\u001b[0m\n\u001b[1;31mSyntaxError\u001b[0m\u001b[1;31m:\u001b[0m cannot assign to False\n"
     ]
    }
   ],
   "source": [
    "False = \"hi\" #is a keyword"
   ]
  },
  {
   "cell_type": "code",
   "execution_count": 6,
   "id": "3bbe0027",
   "metadata": {},
   "outputs": [
    {
     "name": "stdout",
     "output_type": "stream",
     "text": [
      "hi\n"
     ]
    }
   ],
   "source": [
    "false = \"hi\" #is not a keyword\n",
    "print(false)"
   ]
  },
  {
   "cell_type": "markdown",
   "id": "86f446ff",
   "metadata": {},
   "source": [
    "We cannot use special symbols like !,@,#,$,%,^,,&,*,-,+.."
   ]
  },
  {
   "cell_type": "code",
   "execution_count": 7,
   "id": "46ea30b0",
   "metadata": {},
   "outputs": [
    {
     "ename": "SyntaxError",
     "evalue": "invalid syntax. Maybe you meant '==' or ':=' instead of '='? (1240658061.py, line 1)",
     "output_type": "error",
     "traceback": [
      "\u001b[1;36m  Cell \u001b[1;32mIn[7], line 1\u001b[1;36m\u001b[0m\n\u001b[1;33m    @name = \"Sijan\"\u001b[0m\n\u001b[1;37m     ^\u001b[0m\n\u001b[1;31mSyntaxError\u001b[0m\u001b[1;31m:\u001b[0m invalid syntax. Maybe you meant '==' or ':=' instead of '='?\n"
     ]
    }
   ],
   "source": [
    "@name = \"Sijan\""
   ]
  },
  {
   "cell_type": "code",
   "execution_count": 8,
   "id": "aa4e18e8",
   "metadata": {},
   "outputs": [
    {
     "ename": "SyntaxError",
     "evalue": "cannot assign to expression here. Maybe you meant '==' instead of '='? (1179529344.py, line 1)",
     "output_type": "error",
     "traceback": [
      "\u001b[1;36m  Cell \u001b[1;32mIn[8], line 1\u001b[1;36m\u001b[0m\n\u001b[1;33m    first-name = \"Sijan\"\u001b[0m\n\u001b[1;37m    ^\u001b[0m\n\u001b[1;31mSyntaxError\u001b[0m\u001b[1;31m:\u001b[0m cannot assign to expression here. Maybe you meant '==' instead of '='?\n"
     ]
    }
   ],
   "source": [
    "first-name = \"Sijan\""
   ]
  },
  {
   "cell_type": "code",
   "execution_count": 9,
   "id": "87b12fff",
   "metadata": {},
   "outputs": [],
   "source": [
    "first_name = \"Sijan\" # unserscores are allowed"
   ]
  },
  {
   "cell_type": "code",
   "execution_count": 10,
   "id": "08232588",
   "metadata": {},
   "outputs": [
    {
     "ename": "SyntaxError",
     "evalue": "invalid decimal literal (3320505507.py, line 1)",
     "output_type": "error",
     "traceback": [
      "\u001b[1;36m  Cell \u001b[1;32mIn[10], line 1\u001b[1;36m\u001b[0m\n\u001b[1;33m    9name = \"Sijan\" # Number dosen't comes first\u001b[0m\n\u001b[1;37m    ^\u001b[0m\n\u001b[1;31mSyntaxError\u001b[0m\u001b[1;31m:\u001b[0m invalid decimal literal\n"
     ]
    }
   ],
   "source": [
    "9name = \"Sijan\" # Number dosen't comes first"
   ]
  },
  {
   "cell_type": "code",
   "execution_count": 11,
   "id": "8a9198c1",
   "metadata": {},
   "outputs": [],
   "source": [
    "name9 = \"Sijan\" # number can come after"
   ]
  },
  {
   "cell_type": "code",
   "execution_count": 12,
   "id": "7dd7f1cb",
   "metadata": {},
   "outputs": [],
   "source": [
    "firstName = \"Sijan\" # uppercase and lowercase combination are allowed"
   ]
  },
  {
   "cell_type": "markdown",
   "id": "3e86eade",
   "metadata": {},
   "source": [
    "# Python is a Case Sensitive Language"
   ]
  },
  {
   "cell_type": "code",
   "execution_count": 20,
   "id": "5924f1b7",
   "metadata": {},
   "outputs": [],
   "source": [
    "a = 554\n",
    "A = 199"
   ]
  },
  {
   "cell_type": "code",
   "execution_count": 21,
   "id": "fac20993",
   "metadata": {},
   "outputs": [
    {
     "name": "stdout",
     "output_type": "stream",
     "text": [
      "The value of a is 554\n"
     ]
    }
   ],
   "source": [
    "print(f\"The value of a is {a}\")"
   ]
  },
  {
   "cell_type": "code",
   "execution_count": 22,
   "id": "8816c98a",
   "metadata": {},
   "outputs": [
    {
     "name": "stdout",
     "output_type": "stream",
     "text": [
      "The value of A is 199\n"
     ]
    }
   ],
   "source": [
    "print(f\"The value of A is {A}\")"
   ]
  },
  {
   "cell_type": "code",
   "execution_count": null,
   "id": "dd5b2366",
   "metadata": {},
   "outputs": [],
   "source": []
  }
 ],
 "metadata": {
  "kernelspec": {
   "display_name": "Python 3 (ipykernel)",
   "language": "python",
   "name": "python3"
  },
  "language_info": {
   "codemirror_mode": {
    "name": "ipython",
    "version": 3
   },
   "file_extension": ".py",
   "mimetype": "text/x-python",
   "name": "python",
   "nbconvert_exporter": "python",
   "pygments_lexer": "ipython3",
   "version": "3.10.8"
  }
 },
 "nbformat": 4,
 "nbformat_minor": 5
}
