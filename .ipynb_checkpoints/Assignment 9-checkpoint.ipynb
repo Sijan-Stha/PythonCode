{
 "cells": [
  {
   "cell_type": "markdown",
   "id": "255da77d",
   "metadata": {},
   "source": [
    "# python program to display 5th Fibonacci Sequence Using Recursion.\n",
    "# A fibonacci sequence is the integer sequence of 1, 1, 2, 3, 5, 8, ......."
   ]
  },
  {
   "cell_type": "code",
   "execution_count": null,
   "id": "81e4768b",
   "metadata": {},
   "outputs": [],
   "source": [
    "def display_fibonacci(position, fibonacci_sequence):\n",
    "    length = len(fibonacci_sequence)\n",
    "    if position == 0:\n",
    "        return 0\n",
    "    if length < position:\n",
    "        next_seq = fibonacci_sequence[-1] + fibonacci_sequence[-2]\n",
    "        fibonacci_sequence.append(next_seq)\n",
    "        display_fibonacci(position, fibonacci_sequence)\n",
    "    num = fibonacci_sequence[-1]   \n",
    "    return num\n",
    "    "
   ]
  },
  {
   "cell_type": "code",
   "execution_count": null,
   "id": "2b1ce58b",
   "metadata": {},
   "outputs": [],
   "source": [
    "position = int(input(\"Enter a Position: \"))\n",
    "fibonacci_sequence = [1, 1]\n",
    "num = display_fibonacci(position, fibonacci_sequence)\n",
    "print(f\"Fibonacci Sequence in Position {position} is {num}\")"
   ]
  },
  {
   "cell_type": "code",
   "execution_count": null,
   "id": "8caffc1a",
   "metadata": {},
   "outputs": [],
   "source": []
  },
  {
   "cell_type": "markdown",
   "id": "9f17e93f",
   "metadata": {},
   "source": [
    "# another way for fabonacci"
   ]
  },
  {
   "cell_type": "markdown",
   "id": "2ffb93be",
   "metadata": {},
   "source": [
    "```python\n",
    "def fibonacci(n):\n",
    "    if n == 0:\n",
    "        return 0\n",
    "    elif n == 1:\n",
    "        return 1\n",
    "    else:\n",
    "        return fibonacci(n-1) + fibonacci(n-2)\n",
    "\n",
    "# Get the input from the user\n",
    "n = int(input(\"Enter the value of n: \"))\n",
    "\n",
    "# Display the nth Fibonacci number\n",
    "print(fibonacci(n))\n"
   ]
  },
  {
   "cell_type": "markdown",
   "id": "b2c07b23",
   "metadata": {},
   "source": [
    "# Assignment Calculator\n",
    "* Any number of input can be added\n",
    "* two number can be substracted\n",
    "* calculates mean of any number of input\n",
    "* squares the given number\n",
    "* identifies if the given number is even or odd"
   ]
  },
  {
   "cell_type": "code",
   "execution_count": null,
   "id": "9eb628fe",
   "metadata": {},
   "outputs": [],
   "source": [
    "def addition(*args):\n",
    "    add_total = 0\n",
    "    for items in args:\n",
    "        add_total = add_total + items\n",
    "    return add_total\n",
    "\n",
    "def sub(num1, num2):\n",
    "    sub_total = num1 - num2\n",
    "    return sub_total\n",
    "\n",
    "def mean(*args):\n",
    "    total = 0\n",
    "    for items in args:\n",
    "        total = total + items\n",
    "        \n",
    "    mean_total = total/len(args)\n",
    "    return mean_total\n",
    "\n",
    "def square(num):\n",
    "    square = num ** 2\n",
    "    \n",
    "    return square\n",
    "\n",
    "def identify_odd_even(num):\n",
    "    if num % 2 == 0:\n",
    "        status = True\n",
    "        return status\n",
    "    else:\n",
    "        status = False\n",
    "        return status\n",
    "    "
   ]
  },
  {
   "cell_type": "code",
   "execution_count": null,
   "id": "6e889853",
   "metadata": {},
   "outputs": [],
   "source": [
    "def calculator():\n",
    "    user_input = input('What do you want to calculate? type \"add\", \"substraction\", \"mean\", \"square\" or \"oddeven\" or \"exit\" to close: ')\n",
    "\n",
    "    if user_input == \"add\":\n",
    "        inputs = input(\"Enter a list of numbers separated by spaces: \")\n",
    "        numbers = [int(x) for x in inputs.split()]\n",
    "\n",
    "        result = addition(*numbers)\n",
    "        print(f\"The total of addition is: {result}\")\n",
    "        calculator()\n",
    "\n",
    "    elif user_input == \"substraction\":\n",
    "        num1 = int(input(\"Enter first number: \"))\n",
    "        num2 = int(input(\"Enter second number: \"))\n",
    "        diff = sub(num1, num2)\n",
    "        print(f\"The difference is: {diff}\")\n",
    "        calculator()\n",
    "    \n",
    "    elif user_input == \"mean\":\n",
    "        inputs = input(\"Enter a list of numbers separated by spaces: \")\n",
    "        numbers = [int(x) for x in inputs.split()]\n",
    "\n",
    "        result = mean(*numbers)\n",
    "        print(f\"The mean is: {result}\")\n",
    "        calculator()\n",
    "\n",
    "    elif user_input == \"square\":\n",
    "        num = int(input(\"Enter a Number: \"))\n",
    "        sq = square(num)\n",
    "        print(f\"The square is: {sq}\")\n",
    "        calculator()\n",
    "\n",
    "    elif user_input == \"oddeven\":\n",
    "        num = int(input(\"Enter a Number: \"))\n",
    "        status = identify_odd_even(num)\n",
    "        if status:\n",
    "            print(\"The given number is Even.\")\n",
    "            calculator()\n",
    "        else:\n",
    "            print(\"The given number is Odd.\")\n",
    "            calculator()\n",
    "    elif user_input == \"exit\":\n",
    "        msg = \"Thank You for using this Calculator\"\n",
    "        return msg\n",
    "    else:\n",
    "        print(\"Enter what you want to do.\")\n",
    "        calculator()\n",
    "    msg = \"Thank You for using this Calculator\"\n",
    "    return msg"
   ]
  },
  {
   "cell_type": "code",
   "execution_count": null,
   "id": "f6b5df33",
   "metadata": {},
   "outputs": [],
   "source": [
    "calculator()"
   ]
  },
  {
   "cell_type": "code",
   "execution_count": null,
   "id": "d843b979",
   "metadata": {},
   "outputs": [],
   "source": []
  }
 ],
 "metadata": {
  "kernelspec": {
   "display_name": "Python 3 (ipykernel)",
   "language": "python",
   "name": "python3"
  },
  "language_info": {
   "codemirror_mode": {
    "name": "ipython",
    "version": 3
   },
   "file_extension": ".py",
   "mimetype": "text/x-python",
   "name": "python",
   "nbconvert_exporter": "python",
   "pygments_lexer": "ipython3",
   "version": "3.10.9"
  }
 },
 "nbformat": 4,
 "nbformat_minor": 5
}
