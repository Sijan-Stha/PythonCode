{
 "cells": [
  {
   "cell_type": "markdown",
   "id": "f5d293ea",
   "metadata": {},
   "source": [
    "# Class"
   ]
  },
  {
   "cell_type": "code",
   "execution_count": 1,
   "id": "253ce9af",
   "metadata": {},
   "outputs": [],
   "source": [
    "# creating empty class\n",
    "class Mammal:\n",
    "    pass"
   ]
  },
  {
   "cell_type": "code",
   "execution_count": 2,
   "id": "425194fb",
   "metadata": {},
   "outputs": [],
   "source": [
    "# create object form class / instance of class\n",
    "human = Mammal()"
   ]
  },
  {
   "cell_type": "code",
   "execution_count": 3,
   "id": "ca22c94b",
   "metadata": {},
   "outputs": [
    {
     "data": {
      "text/plain": [
       "__main__.Mammal"
      ]
     },
     "execution_count": 3,
     "metadata": {},
     "output_type": "execute_result"
    }
   ],
   "source": [
    "type(human)"
   ]
  },
  {
   "cell_type": "code",
   "execution_count": 5,
   "id": "5e9b679b",
   "metadata": {},
   "outputs": [
    {
     "name": "stdout",
     "output_type": "stream",
     "text": [
      "<class '__main__.Mammal'>\n"
     ]
    }
   ],
   "source": [
    "if __name__ == \"__main__\": # main is the entry point of python program\n",
    "    human = Mammal()\n",
    "    print(type(human))"
   ]
  },
  {
   "cell_type": "code",
   "execution_count": 6,
   "id": "2942e234",
   "metadata": {},
   "outputs": [
    {
     "data": {
      "text/plain": [
       "'__main__'"
      ]
     },
     "execution_count": 6,
     "metadata": {},
     "output_type": "execute_result"
    }
   ],
   "source": [
    "__name__ # __name__ is a dundurs in python"
   ]
  },
  {
   "cell_type": "markdown",
   "id": "d11c9b6c",
   "metadata": {},
   "source": [
    "# class attributes"
   ]
  },
  {
   "cell_type": "code",
   "execution_count": 8,
   "id": "2e4a0bac",
   "metadata": {},
   "outputs": [],
   "source": [
    "class Mammal:\n",
    "    has_hair = True # class attribute is same for all object of a class"
   ]
  },
  {
   "cell_type": "code",
   "execution_count": 10,
   "id": "c4989c74",
   "metadata": {},
   "outputs": [
    {
     "data": {
      "text/plain": [
       "True"
      ]
     },
     "execution_count": 10,
     "metadata": {},
     "output_type": "execute_result"
    }
   ],
   "source": [
    "human = Mammal()\n",
    "human.has_hair"
   ]
  },
  {
   "cell_type": "code",
   "execution_count": 11,
   "id": "e7843a61",
   "metadata": {},
   "outputs": [
    {
     "data": {
      "text/plain": [
       "True"
      ]
     },
     "execution_count": 11,
     "metadata": {},
     "output_type": "execute_result"
    }
   ],
   "source": [
    "cow = Mammal()\n",
    "cow.has_hair"
   ]
  },
  {
   "cell_type": "markdown",
   "id": "d95395b2",
   "metadata": {},
   "source": [
    "# object attribute"
   ]
  },
  {
   "cell_type": "code",
   "execution_count": 12,
   "id": "f280ce1f",
   "metadata": {},
   "outputs": [],
   "source": [
    "class Mammal:\n",
    "    has_hair = True\n",
    "    \n",
    "    def __init__(self, legs): # object attribute initilizer\n",
    "        self.legs = legs # object attribute"
   ]
  },
  {
   "cell_type": "code",
   "execution_count": 14,
   "id": "d6e79351",
   "metadata": {},
   "outputs": [],
   "source": [
    "human = Mammal(2)"
   ]
  },
  {
   "cell_type": "code",
   "execution_count": 15,
   "id": "11168c25",
   "metadata": {},
   "outputs": [
    {
     "data": {
      "text/plain": [
       "True"
      ]
     },
     "execution_count": 15,
     "metadata": {},
     "output_type": "execute_result"
    }
   ],
   "source": [
    "human.has_hair # class attribute for same is for all objects"
   ]
  },
  {
   "cell_type": "code",
   "execution_count": 16,
   "id": "2c97ced1",
   "metadata": {},
   "outputs": [
    {
     "data": {
      "text/plain": [
       "2"
      ]
     },
     "execution_count": 16,
     "metadata": {},
     "output_type": "execute_result"
    }
   ],
   "source": [
    "human.legs # object attribute is different for all objects"
   ]
  },
  {
   "cell_type": "code",
   "execution_count": 17,
   "id": "4b70ce56",
   "metadata": {},
   "outputs": [],
   "source": [
    "cow = Mammal(4)"
   ]
  },
  {
   "cell_type": "code",
   "execution_count": 18,
   "id": "ac76b6d6",
   "metadata": {},
   "outputs": [
    {
     "data": {
      "text/plain": [
       "True"
      ]
     },
     "execution_count": 18,
     "metadata": {},
     "output_type": "execute_result"
    }
   ],
   "source": [
    "cow.has_hair # class attribute for same is for all objects"
   ]
  },
  {
   "cell_type": "code",
   "execution_count": 19,
   "id": "d8190205",
   "metadata": {},
   "outputs": [
    {
     "data": {
      "text/plain": [
       "4"
      ]
     },
     "execution_count": 19,
     "metadata": {},
     "output_type": "execute_result"
    }
   ],
   "source": [
    "cow.legs # object attribute is different for all objects"
   ]
  },
  {
   "cell_type": "markdown",
   "id": "9f0708be",
   "metadata": {},
   "source": [
    "# what is self?"
   ]
  },
  {
   "cell_type": "code",
   "execution_count": 20,
   "id": "63fe63be",
   "metadata": {},
   "outputs": [],
   "source": [
    "class Mammal:\n",
    "    has_hair = True # class attribute\n",
    "    \n",
    "    def __init__(self, legs): # object attribute initilizer\n",
    "        print(type(self)) # self is an object\n",
    "        self.legs = legs # object attribute"
   ]
  },
  {
   "cell_type": "code",
   "execution_count": 21,
   "id": "20c49ba1",
   "metadata": {},
   "outputs": [
    {
     "name": "stdout",
     "output_type": "stream",
     "text": [
      "<class '__main__.Mammal'>\n"
     ]
    }
   ],
   "source": [
    "cow = Mammal(4)"
   ]
  },
  {
   "cell_type": "markdown",
   "id": "913348a7",
   "metadata": {},
   "source": [
    "# methods in user created class"
   ]
  },
  {
   "cell_type": "code",
   "execution_count": 22,
   "id": "b6026fd4",
   "metadata": {},
   "outputs": [],
   "source": [
    "class Mammal:\n",
    "    has_hair = True\n",
    "    \n",
    "    def __init__(self, legs): # object attribute initilizer\n",
    "        self.legs = legs # object attribute\n",
    "    def display_legs(self):\n",
    "        print(self.legs)"
   ]
  },
  {
   "cell_type": "code",
   "execution_count": 25,
   "id": "939add72",
   "metadata": {},
   "outputs": [
    {
     "name": "stdout",
     "output_type": "stream",
     "text": [
      "4\n"
     ]
    }
   ],
   "source": [
    "cow = Mammal(4)\n",
    "cow.display_legs()"
   ]
  },
  {
   "cell_type": "code",
   "execution_count": 26,
   "id": "002537f6",
   "metadata": {},
   "outputs": [
    {
     "name": "stdout",
     "output_type": "stream",
     "text": [
      "2\n"
     ]
    }
   ],
   "source": [
    "human = Mammal(2)\n",
    "human.display_legs()"
   ]
  },
  {
   "cell_type": "code",
   "execution_count": null,
   "id": "da5ccfcc",
   "metadata": {},
   "outputs": [],
   "source": []
  }
 ],
 "metadata": {
  "kernelspec": {
   "display_name": "Python 3 (ipykernel)",
   "language": "python",
   "name": "python3"
  },
  "language_info": {
   "codemirror_mode": {
    "name": "ipython",
    "version": 3
   },
   "file_extension": ".py",
   "mimetype": "text/x-python",
   "name": "python",
   "nbconvert_exporter": "python",
   "pygments_lexer": "ipython3",
   "version": "3.10.9"
  }
 },
 "nbformat": 4,
 "nbformat_minor": 5
}
