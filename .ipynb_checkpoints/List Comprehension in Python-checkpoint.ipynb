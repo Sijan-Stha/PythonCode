{
 "cells": [
  {
   "cell_type": "markdown",
   "id": "f834ff4b",
   "metadata": {},
   "source": [
    "# wap to find square of each number in a list."
   ]
  },
  {
   "cell_type": "markdown",
   "id": "15de32c9",
   "metadata": {},
   "source": [
    "# 1. [expression for item in iterable]\n",
    "# 2. [expression for item in iterable if True]\n",
    "# 3. [expression if True else expression for item in iterable]"
   ]
  },
  {
   "cell_type": "code",
   "execution_count": 5,
   "id": "0f6ffacf",
   "metadata": {},
   "outputs": [],
   "source": [
    "num = [2, 4, 6, 8, 9]\n",
    "square_of_num = []\n",
    "for i in range(len(num)):\n",
    "    number = num[i]\n",
    "    square_num = number ** 2\n",
    "    square_of_num.append(square_num)"
   ]
  },
  {
   "cell_type": "code",
   "execution_count": 6,
   "id": "ba2f8d6e",
   "metadata": {},
   "outputs": [
    {
     "data": {
      "text/plain": [
       "[4, 16, 36, 64, 81]"
      ]
     },
     "execution_count": 6,
     "metadata": {},
     "output_type": "execute_result"
    }
   ],
   "source": [
    "square_of_num"
   ]
  },
  {
   "cell_type": "code",
   "execution_count": 8,
   "id": "569eb289",
   "metadata": {},
   "outputs": [
    {
     "data": {
      "text/plain": [
       "[4, 16, 36, 64, 81]"
      ]
     },
     "execution_count": 8,
     "metadata": {},
     "output_type": "execute_result"
    }
   ],
   "source": [
    "num = [2, 4, 6, 8, 9]\n",
    "[item ** 2 for item in num]"
   ]
  },
  {
   "cell_type": "code",
   "execution_count": 11,
   "id": "d68e5f54",
   "metadata": {},
   "outputs": [],
   "source": [
    "num = [-1, 4, 5, 53]\n",
    "cube = [item ** 3 for item in num]"
   ]
  },
  {
   "cell_type": "code",
   "execution_count": 12,
   "id": "988c77fd",
   "metadata": {},
   "outputs": [
    {
     "data": {
      "text/plain": [
       "[-1, 64, 125, 148877]"
      ]
     },
     "execution_count": 12,
     "metadata": {},
     "output_type": "execute_result"
    }
   ],
   "source": [
    "cube"
   ]
  },
  {
   "cell_type": "code",
   "execution_count": null,
   "id": "f9ef65bc",
   "metadata": {},
   "outputs": [],
   "source": []
  },
  {
   "cell_type": "code",
   "execution_count": 13,
   "id": "6bb258dd",
   "metadata": {},
   "outputs": [
    {
     "data": {
      "text/plain": [
       "['apple', 'banana', 'mango']"
      ]
     },
     "execution_count": 13,
     "metadata": {},
     "output_type": "execute_result"
    }
   ],
   "source": [
    "fruit = ['APPLE', 'BANANA', 'MANGO']\n",
    "[item.lower() for item in fruit]"
   ]
  },
  {
   "cell_type": "markdown",
   "id": "91600ef1",
   "metadata": {},
   "source": [
    "# list comprehension and if condition"
   ]
  },
  {
   "cell_type": "code",
   "execution_count": 14,
   "id": "eb97a7b9",
   "metadata": {},
   "outputs": [
    {
     "data": {
      "text/plain": [
       "[-5, -4, -3, -2, -1, 0, 1, 2, 3, 4]"
      ]
     },
     "execution_count": 14,
     "metadata": {},
     "output_type": "execute_result"
    }
   ],
   "source": [
    "[item for item in range(-5, 5)]"
   ]
  },
  {
   "cell_type": "code",
   "execution_count": 16,
   "id": "8795dee3",
   "metadata": {},
   "outputs": [
    {
     "data": {
      "text/plain": [
       "[0, 1, 2, 3, 4]"
      ]
     },
     "execution_count": 16,
     "metadata": {},
     "output_type": "execute_result"
    }
   ],
   "source": [
    "[item for item in range(-5, 5) if item >= 0]"
   ]
  },
  {
   "cell_type": "code",
   "execution_count": 18,
   "id": "9d3e3991",
   "metadata": {},
   "outputs": [
    {
     "data": {
      "text/plain": [
       "[2, 4, 6, 8]"
      ]
     },
     "execution_count": 18,
     "metadata": {},
     "output_type": "execute_result"
    }
   ],
   "source": [
    "data = [1, 2, 3, 4, 5, 6, 7, 8, 9]\n",
    "# extract even number only\n",
    "[item for item in data if item % 2 == 0]"
   ]
  },
  {
   "cell_type": "code",
   "execution_count": 19,
   "id": "19c01c51",
   "metadata": {},
   "outputs": [
    {
     "data": {
      "text/plain": [
       "[1, 3, 5, 7, 9]"
      ]
     },
     "execution_count": 19,
     "metadata": {},
     "output_type": "execute_result"
    }
   ],
   "source": [
    "data = [1, 2, 3, 4, 5, 6, 7, 8, 9]\n",
    "# extract odd number only\n",
    "[item for item in data if item % 2 == 1]"
   ]
  },
  {
   "cell_type": "markdown",
   "id": "84302f6c",
   "metadata": {},
   "source": [
    "# list comprehension using if and else"
   ]
  },
  {
   "cell_type": "code",
   "execution_count": 20,
   "id": "aaaf092b",
   "metadata": {},
   "outputs": [
    {
     "data": {
      "text/plain": [
       "[-5, -4, -3, -2, -1, 0, 1, 2, 3, 4]"
      ]
     },
     "execution_count": 20,
     "metadata": {},
     "output_type": "execute_result"
    }
   ],
   "source": [
    "[item for item in range(-5, 5)] "
   ]
  },
  {
   "cell_type": "code",
   "execution_count": 21,
   "id": "5df30f53",
   "metadata": {},
   "outputs": [
    {
     "data": {
      "text/plain": [
       "[0, 0, 0, 0, 0, 0, 1, 2, 3, 4]"
      ]
     },
     "execution_count": 21,
     "metadata": {},
     "output_type": "execute_result"
    }
   ],
   "source": [
    "[0 if item <= 0 else item for item in range(-5, 5)] # relu activation function"
   ]
  },
  {
   "cell_type": "code",
   "execution_count": null,
   "id": "431cf4dc",
   "metadata": {},
   "outputs": [],
   "source": []
  }
 ],
 "metadata": {
  "kernelspec": {
   "display_name": "Python 3 (ipykernel)",
   "language": "python",
   "name": "python3"
  },
  "language_info": {
   "codemirror_mode": {
    "name": "ipython",
    "version": 3
   },
   "file_extension": ".py",
   "mimetype": "text/x-python",
   "name": "python",
   "nbconvert_exporter": "python",
   "pygments_lexer": "ipython3",
   "version": "3.10.9"
  }
 },
 "nbformat": 4,
 "nbformat_minor": 5
}
