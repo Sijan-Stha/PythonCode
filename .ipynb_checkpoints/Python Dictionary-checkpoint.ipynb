{
 "cells": [
  {
   "cell_type": "markdown",
   "id": "289de5f5",
   "metadata": {},
   "source": [
    "# Dictionary:\n",
    "\n",
    "**Syntax:\n",
    "\n",
    "```python\n",
    "{\n",
    "'key': value\n",
    "}\n"
   ]
  },
  {
   "cell_type": "markdown",
   "id": "3feade5c",
   "metadata": {},
   "source": [
    "d = {}"
   ]
  },
  {
   "cell_type": "code",
   "execution_count": 2,
   "id": "ec5b1367",
   "metadata": {},
   "outputs": [
    {
     "data": {
      "text/plain": [
       "dict"
      ]
     },
     "execution_count": 2,
     "metadata": {},
     "output_type": "execute_result"
    }
   ],
   "source": [
    "type(d)"
   ]
  },
  {
   "cell_type": "code",
   "execution_count": 3,
   "id": "652bc386",
   "metadata": {},
   "outputs": [],
   "source": [
    "d = dict()"
   ]
  },
  {
   "cell_type": "code",
   "execution_count": 4,
   "id": "4d94adbb",
   "metadata": {},
   "outputs": [
    {
     "data": {
      "text/plain": [
       "dict"
      ]
     },
     "execution_count": 4,
     "metadata": {},
     "output_type": "execute_result"
    }
   ],
   "source": [
    "type(d)"
   ]
  },
  {
   "cell_type": "code",
   "execution_count": 8,
   "id": "5366026d",
   "metadata": {},
   "outputs": [
    {
     "ename": "TypeError",
     "evalue": "unhashable type: 'list'",
     "output_type": "error",
     "traceback": [
      "\u001b[1;31m---------------------------------------------------------------------------\u001b[0m",
      "\u001b[1;31mTypeError\u001b[0m                                 Traceback (most recent call last)",
      "Cell \u001b[1;32mIn[8], line 2\u001b[0m\n\u001b[0;32m      1\u001b[0m \u001b[38;5;66;03m# list, tuples, sets are not allowed as keys\u001b[39;00m\n\u001b[1;32m----> 2\u001b[0m d \u001b[38;5;241m=\u001b[39m {[\u001b[38;5;241m1\u001b[39m, \u001b[38;5;241m2\u001b[39m] : \u001b[38;5;241m20\u001b[39m} \u001b[38;5;66;03m# not allowed\u001b[39;00m\n",
      "\u001b[1;31mTypeError\u001b[0m: unhashable type: 'list'"
     ]
    }
   ],
   "source": [
    "# list, tuples, sets are not allowed as keys\n",
    "d = {[1, 2] : 20} # not allowed"
   ]
  },
  {
   "cell_type": "code",
   "execution_count": 9,
   "id": "9ab92125",
   "metadata": {},
   "outputs": [
    {
     "data": {
      "text/plain": [
       "{'name': 'sijan', 'age': 22}"
      ]
     },
     "execution_count": 9,
     "metadata": {},
     "output_type": "execute_result"
    }
   ],
   "source": [
    "{\n",
    "    'name' : 'sijan',\n",
    "    'age' : 22\n",
    "}"
   ]
  },
  {
   "cell_type": "markdown",
   "id": "f6152683",
   "metadata": {},
   "source": [
    "# Accessing dictionary items and add key value pair in dictionary"
   ]
  },
  {
   "cell_type": "code",
   "execution_count": 10,
   "id": "476f39e0",
   "metadata": {},
   "outputs": [],
   "source": [
    "info = dict()"
   ]
  },
  {
   "cell_type": "code",
   "execution_count": 11,
   "id": "bd247ec2",
   "metadata": {},
   "outputs": [
    {
     "data": {
      "text/plain": [
       "{}"
      ]
     },
     "execution_count": 11,
     "metadata": {},
     "output_type": "execute_result"
    }
   ],
   "source": [
    "info"
   ]
  },
  {
   "cell_type": "code",
   "execution_count": 12,
   "id": "e43930b9",
   "metadata": {},
   "outputs": [],
   "source": [
    "info['name'] = 'Sijan Shrestha' # Add key value pair in dictionary"
   ]
  },
  {
   "cell_type": "code",
   "execution_count": 13,
   "id": "9da24a6f",
   "metadata": {},
   "outputs": [
    {
     "data": {
      "text/plain": [
       "{'name': 'Sijan Shrestha'}"
      ]
     },
     "execution_count": 13,
     "metadata": {},
     "output_type": "execute_result"
    }
   ],
   "source": [
    "info"
   ]
  },
  {
   "cell_type": "code",
   "execution_count": 14,
   "id": "cc6a597e",
   "metadata": {},
   "outputs": [],
   "source": [
    "info.update({'learns': ['python', 'django', 'data science', 'AI', 'machine learning']})"
   ]
  },
  {
   "cell_type": "code",
   "execution_count": 15,
   "id": "6f83fd8b",
   "metadata": {},
   "outputs": [
    {
     "data": {
      "text/plain": [
       "{'name': 'Sijan Shrestha',\n",
       " 'learns': ['python', 'django', 'data science', 'AI', 'machine learning']}"
      ]
     },
     "execution_count": 15,
     "metadata": {},
     "output_type": "execute_result"
    }
   ],
   "source": [
    "info"
   ]
  },
  {
   "cell_type": "code",
   "execution_count": 18,
   "id": "0969c00f",
   "metadata": {},
   "outputs": [
    {
     "data": {
      "text/plain": [
       "['python', 'django', 'data science', 'AI', 'machine learning']"
      ]
     },
     "execution_count": 18,
     "metadata": {},
     "output_type": "execute_result"
    }
   ],
   "source": [
    "info['learns']"
   ]
  },
  {
   "cell_type": "code",
   "execution_count": 21,
   "id": "ae7c0862",
   "metadata": {},
   "outputs": [],
   "source": [
    "info.update({'name': 'SIJAN SHRESTHA'}) # if key exists then update value"
   ]
  },
  {
   "cell_type": "code",
   "execution_count": 22,
   "id": "419817de",
   "metadata": {},
   "outputs": [
    {
     "data": {
      "text/plain": [
       "{'name': 'SIJAN SHRESTHA',\n",
       " 'learns': ['python', 'django', 'data science', 'AI', 'machine learning']}"
      ]
     },
     "execution_count": 22,
     "metadata": {},
     "output_type": "execute_result"
    }
   ],
   "source": [
    "info"
   ]
  },
  {
   "cell_type": "code",
   "execution_count": 23,
   "id": "945eaca3",
   "metadata": {},
   "outputs": [
    {
     "data": {
      "text/plain": [
       "['python', 'django', 'data science', 'AI', 'machine learning']"
      ]
     },
     "execution_count": 23,
     "metadata": {},
     "output_type": "execute_result"
    }
   ],
   "source": [
    "info['learns'] # access values of key learns"
   ]
  },
  {
   "cell_type": "code",
   "execution_count": 25,
   "id": "5b0b6a5b",
   "metadata": {},
   "outputs": [
    {
     "data": {
      "text/plain": [
       "['python', 'django', 'data science', 'AI', 'machine learning']"
      ]
     },
     "execution_count": 25,
     "metadata": {},
     "output_type": "execute_result"
    }
   ],
   "source": [
    "info.get('learns') # access values of key learns"
   ]
  },
  {
   "cell_type": "code",
   "execution_count": 27,
   "id": "1f94f517",
   "metadata": {},
   "outputs": [],
   "source": [
    "broadway = {\n",
    "    'location': 'Tinkune'\n",
    "}"
   ]
  },
  {
   "cell_type": "code",
   "execution_count": 28,
   "id": "66ee3905",
   "metadata": {},
   "outputs": [
    {
     "data": {
      "text/plain": [
       "{'location': 'Tinkune'}"
      ]
     },
     "execution_count": 28,
     "metadata": {},
     "output_type": "execute_result"
    }
   ],
   "source": [
    "broadway"
   ]
  },
  {
   "cell_type": "code",
   "execution_count": 30,
   "id": "2d91f0f2",
   "metadata": {},
   "outputs": [],
   "source": [
    "broadway.update({'class': 'Python'})"
   ]
  },
  {
   "cell_type": "code",
   "execution_count": 32,
   "id": "fd5a34c9",
   "metadata": {},
   "outputs": [
    {
     "data": {
      "text/plain": [
       "{'location': 'Tinkune', 'class': 'Python'}"
      ]
     },
     "execution_count": 32,
     "metadata": {},
     "output_type": "execute_result"
    }
   ],
   "source": [
    "broadway"
   ]
  },
  {
   "cell_type": "code",
   "execution_count": 33,
   "id": "05deec1f",
   "metadata": {},
   "outputs": [
    {
     "data": {
      "text/plain": [
       "'Tinkune'"
      ]
     },
     "execution_count": 33,
     "metadata": {},
     "output_type": "execute_result"
    }
   ],
   "source": [
    "broadway.get('location')"
   ]
  },
  {
   "cell_type": "markdown",
   "id": "bdecd67b",
   "metadata": {},
   "source": [
    "# .keys() and .values() method in dictionary"
   ]
  },
  {
   "cell_type": "code",
   "execution_count": 36,
   "id": "d181650f",
   "metadata": {},
   "outputs": [],
   "source": [
    "country = {\n",
    "    'Nepal': 'Kathmandu',\n",
    "    'India': 'New Delhi',\n",
    "    'Bangladesh': 'Dhaka',\n",
    "    'Bhutan': 'Thimpu'\n",
    "}"
   ]
  },
  {
   "cell_type": "code",
   "execution_count": 37,
   "id": "50c4319e",
   "metadata": {},
   "outputs": [
    {
     "data": {
      "text/plain": [
       "{'Nepal': 'Kathmandu',\n",
       " 'India': 'New Delhi',\n",
       " 'Bangladesh': 'Dhaka',\n",
       " 'Bhutan': 'Thimpu'}"
      ]
     },
     "execution_count": 37,
     "metadata": {},
     "output_type": "execute_result"
    }
   ],
   "source": [
    "country"
   ]
  },
  {
   "cell_type": "code",
   "execution_count": 38,
   "id": "2b1ce2c3",
   "metadata": {},
   "outputs": [
    {
     "data": {
      "text/plain": [
       "dict_keys(['Nepal', 'India', 'Bangladesh', 'Bhutan'])"
      ]
     },
     "execution_count": 38,
     "metadata": {},
     "output_type": "execute_result"
    }
   ],
   "source": [
    "country.keys()"
   ]
  },
  {
   "cell_type": "code",
   "execution_count": 39,
   "id": "a56511de",
   "metadata": {},
   "outputs": [
    {
     "data": {
      "text/plain": [
       "dict_values(['Kathmandu', 'New Delhi', 'Dhaka', 'Thimpu'])"
      ]
     },
     "execution_count": 39,
     "metadata": {},
     "output_type": "execute_result"
    }
   ],
   "source": [
    "country.values()"
   ]
  },
  {
   "cell_type": "code",
   "execution_count": 40,
   "id": "b9895f2f",
   "metadata": {},
   "outputs": [
    {
     "data": {
      "text/plain": [
       "dict_items([('Nepal', 'Kathmandu'), ('India', 'New Delhi'), ('Bangladesh', 'Dhaka'), ('Bhutan', 'Thimpu')])"
      ]
     },
     "execution_count": 40,
     "metadata": {},
     "output_type": "execute_result"
    }
   ],
   "source": [
    "country.items()"
   ]
  },
  {
   "cell_type": "code",
   "execution_count": 43,
   "id": "667dd6bd",
   "metadata": {},
   "outputs": [
    {
     "data": {
      "text/plain": [
       "('Nepal', 'Kathmandu')"
      ]
     },
     "execution_count": 43,
     "metadata": {},
     "output_type": "execute_result"
    }
   ],
   "source": [
    "list(country.items())[0]"
   ]
  },
  {
   "cell_type": "markdown",
   "id": "145e157b",
   "metadata": {},
   "source": [
    "# looping in dictionary"
   ]
  },
  {
   "cell_type": "code",
   "execution_count": 44,
   "id": "61f01ec8",
   "metadata": {},
   "outputs": [],
   "source": [
    "country = {\n",
    "    'Nepal': 'Kathmandu',\n",
    "    'India': 'New Delhi',\n",
    "    'Bangladesh': 'Dhaka',\n",
    "    'Bhutan': 'Thimpu'\n",
    "}"
   ]
  },
  {
   "cell_type": "code",
   "execution_count": 49,
   "id": "617bbf0f",
   "metadata": {},
   "outputs": [
    {
     "name": "stdout",
     "output_type": "stream",
     "text": [
      "Country = Nepal and Capital = Kathmandu\n",
      "Country = India and Capital = New Delhi\n",
      "Country = Bangladesh and Capital = Dhaka\n",
      "Country = Bhutan and Capital = Thimpu\n"
     ]
    }
   ],
   "source": [
    "for cou, cap in country.items():\n",
    "    print(f\"Country = {cou} and Capital = {cap}\")"
   ]
  },
  {
   "cell_type": "code",
   "execution_count": 50,
   "id": "783ae2c9",
   "metadata": {},
   "outputs": [
    {
     "name": "stdout",
     "output_type": "stream",
     "text": [
      "Nepal = Kathmandu\n",
      "India = New Delhi\n",
      "Bangladesh = Dhaka\n",
      "Bhutan = Thimpu\n"
     ]
    }
   ],
   "source": [
    "for items in country:\n",
    "    print(f\"{items} = {country.get(items)}\")"
   ]
  },
  {
   "cell_type": "code",
   "execution_count": 51,
   "id": "ce911f04",
   "metadata": {},
   "outputs": [],
   "source": [
    "car = {'name': 'Tesla', 'color': 'white', 'category': 'electric'}"
   ]
  },
  {
   "cell_type": "code",
   "execution_count": 52,
   "id": "396ba222",
   "metadata": {},
   "outputs": [
    {
     "data": {
      "text/plain": [
       "{'name': 'Tesla', 'color': 'white', 'category': 'electric'}"
      ]
     },
     "execution_count": 52,
     "metadata": {},
     "output_type": "execute_result"
    }
   ],
   "source": [
    "car"
   ]
  },
  {
   "cell_type": "code",
   "execution_count": 53,
   "id": "dc6b1605",
   "metadata": {},
   "outputs": [
    {
     "name": "stdout",
     "output_type": "stream",
     "text": [
      "Key = name and Value = Tesla\n",
      "Key = color and Value = white\n",
      "Key = category and Value = electric\n"
     ]
    }
   ],
   "source": [
    "for k, v in car.items():\n",
    "    print(f\"Key = {k} and Value = {v}\")"
   ]
  },
  {
   "cell_type": "markdown",
   "id": "f6ee23e7",
   "metadata": {},
   "source": [
    "# .pop()"
   ]
  },
  {
   "cell_type": "code",
   "execution_count": 55,
   "id": "7912e51a",
   "metadata": {},
   "outputs": [
    {
     "data": {
      "text/plain": [
       "'electric'"
      ]
     },
     "execution_count": 55,
     "metadata": {},
     "output_type": "execute_result"
    }
   ],
   "source": [
    "car.pop('category')"
   ]
  },
  {
   "cell_type": "code",
   "execution_count": 56,
   "id": "f3924b1c",
   "metadata": {},
   "outputs": [
    {
     "data": {
      "text/plain": [
       "{'name': 'Tesla', 'color': 'white'}"
      ]
     },
     "execution_count": 56,
     "metadata": {},
     "output_type": "execute_result"
    }
   ],
   "source": [
    "car"
   ]
  },
  {
   "cell_type": "markdown",
   "id": "8a51b886",
   "metadata": {},
   "source": [
    "# Dictionary Comprehension"
   ]
  },
  {
   "cell_type": "code",
   "execution_count": 58,
   "id": "eadab8e0",
   "metadata": {},
   "outputs": [],
   "source": [
    "data = {'one': 1, 'two': 2, 'three': 3}"
   ]
  },
  {
   "cell_type": "code",
   "execution_count": 59,
   "id": "0a7c98ba",
   "metadata": {},
   "outputs": [
    {
     "data": {
      "text/plain": [
       "{'one': 1, 'two': 2, 'three': 3}"
      ]
     },
     "execution_count": 59,
     "metadata": {},
     "output_type": "execute_result"
    }
   ],
   "source": [
    "data"
   ]
  },
  {
   "cell_type": "code",
   "execution_count": 88,
   "id": "c8a93232",
   "metadata": {},
   "outputs": [],
   "source": [
    "data = {val: key for key, val in data.items()}"
   ]
  },
  {
   "cell_type": "code",
   "execution_count": 89,
   "id": "3e53e048",
   "metadata": {},
   "outputs": [
    {
     "data": {
      "text/plain": [
       "{1: 'one', 2: 'two', 3: 'three'}"
      ]
     },
     "execution_count": 89,
     "metadata": {},
     "output_type": "execute_result"
    }
   ],
   "source": [
    "data"
   ]
  },
  {
   "cell_type": "markdown",
   "id": "480aa7ba",
   "metadata": {},
   "source": [
    "# nested dictionary"
   ]
  },
  {
   "cell_type": "code",
   "execution_count": 80,
   "id": "a63958aa",
   "metadata": {},
   "outputs": [],
   "source": [
    "child = {\n",
    "    'child1': {'name': 'hari', 'age': 15, 'gender': 'M'},\n",
    "    'child2': {'name': 'Ram', 'age': 19, 'student': True, 'gender': 'M'}\n",
    "}"
   ]
  },
  {
   "cell_type": "code",
   "execution_count": 81,
   "id": "0ac05104",
   "metadata": {},
   "outputs": [
    {
     "data": {
      "text/plain": [
       "{'child1': {'name': 'hari', 'age': 15, 'gender': 'M'},\n",
       " 'child2': {'name': 'Ram', 'age': 19, 'student': True, 'gender': 'M'}}"
      ]
     },
     "execution_count": 81,
     "metadata": {},
     "output_type": "execute_result"
    }
   ],
   "source": [
    "child"
   ]
  },
  {
   "cell_type": "code",
   "execution_count": 82,
   "id": "05b91fe3",
   "metadata": {},
   "outputs": [
    {
     "data": {
      "text/plain": [
       "{'name': 'Ram', 'age': 19, 'student': True, 'gender': 'M'}"
      ]
     },
     "execution_count": 82,
     "metadata": {},
     "output_type": "execute_result"
    }
   ],
   "source": [
    "child['child2']"
   ]
  },
  {
   "cell_type": "code",
   "execution_count": 83,
   "id": "7947e310",
   "metadata": {},
   "outputs": [
    {
     "data": {
      "text/plain": [
       "'Ram'"
      ]
     },
     "execution_count": 83,
     "metadata": {},
     "output_type": "execute_result"
    }
   ],
   "source": [
    "child['child2']['name']"
   ]
  },
  {
   "cell_type": "code",
   "execution_count": 84,
   "id": "afd762f3",
   "metadata": {},
   "outputs": [
    {
     "data": {
      "text/plain": [
       "'Ram'"
      ]
     },
     "execution_count": 84,
     "metadata": {},
     "output_type": "execute_result"
    }
   ],
   "source": [
    "child.get('child2').get('name')"
   ]
  },
  {
   "cell_type": "code",
   "execution_count": 85,
   "id": "9a363b98",
   "metadata": {},
   "outputs": [
    {
     "data": {
      "text/plain": [
       "True"
      ]
     },
     "execution_count": 85,
     "metadata": {},
     "output_type": "execute_result"
    }
   ],
   "source": [
    "child['child2']['student']"
   ]
  },
  {
   "cell_type": "code",
   "execution_count": null,
   "id": "87a3b1f0",
   "metadata": {},
   "outputs": [],
   "source": []
  }
 ],
 "metadata": {
  "kernelspec": {
   "display_name": "Python 3 (ipykernel)",
   "language": "python",
   "name": "python3"
  },
  "language_info": {
   "codemirror_mode": {
    "name": "ipython",
    "version": 3
   },
   "file_extension": ".py",
   "mimetype": "text/x-python",
   "name": "python",
   "nbconvert_exporter": "python",
   "pygments_lexer": "ipython3",
   "version": "3.10.9"
  }
 },
 "nbformat": 4,
 "nbformat_minor": 5
}
