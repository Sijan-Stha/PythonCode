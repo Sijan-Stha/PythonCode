{
 "cells": [
  {
   "cell_type": "code",
   "execution_count": 14,
   "id": "f703a390",
   "metadata": {},
   "outputs": [
    {
     "name": "stdout",
     "output_type": "stream",
     "text": [
      "please give a number : 5465\n",
      "546\n",
      "i is 1\n",
      "54\n",
      "i is 2\n",
      "5\n",
      "i is 3\n",
      "0\n",
      "i is 4\n",
      "5\n",
      "6\n",
      "4\n",
      "5\n",
      "number is not armstrong\n"
     ]
    }
   ],
   "source": [
    "i = 0\n",
    "result = 0\n",
    "n = int(input(\"please give a number : \"))\n",
    "number1 = n\n",
    "temp = n\n",
    "while n != 0:\n",
    "    n = (n//10)\n",
    "    print(n)\n",
    "    i = i+1;\n",
    "    print(f\"i is {i}\")\n",
    "while number1 != 0:\n",
    "    n = number1 % 10\n",
    "    print(n)\n",
    "    result = result + pow(n,i)\n",
    "    number1 = number1 // 10\n",
    "if temp == result:\n",
    "    print(\"number is armstrong\")\n",
    "else:\n",
    "    print(\"number is not armstrong\") "
   ]
  },
  {
   "cell_type": "code",
   "execution_count": null,
   "id": "7e83ccb1",
   "metadata": {},
   "outputs": [],
   "source": []
  }
 ],
 "metadata": {
  "kernelspec": {
   "display_name": "Python 3 (ipykernel)",
   "language": "python",
   "name": "python3"
  },
  "language_info": {
   "codemirror_mode": {
    "name": "ipython",
    "version": 3
   },
   "file_extension": ".py",
   "mimetype": "text/x-python",
   "name": "python",
   "nbconvert_exporter": "python",
   "pygments_lexer": "ipython3",
   "version": "3.10.9"
  }
 },
 "nbformat": 4,
 "nbformat_minor": 5
}
