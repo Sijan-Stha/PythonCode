{
 "cells": [
  {
   "cell_type": "markdown",
   "id": "64faeed5",
   "metadata": {},
   "source": [
    "# While loop"
   ]
  },
  {
   "cell_type": "markdown",
   "id": "6537534a",
   "metadata": {},
   "source": [
    "# calculate mean of list using while loop"
   ]
  },
  {
   "cell_type": "code",
   "execution_count": 6,
   "id": "a75b49ac",
   "metadata": {},
   "outputs": [],
   "source": [
    "num = [1, 2, 3, 4, 5, 6]"
   ]
  },
  {
   "cell_type": "code",
   "execution_count": 7,
   "id": "e4b69514",
   "metadata": {},
   "outputs": [],
   "source": [
    "index = 0\n",
    "end = len(num)\n",
    "total = 0"
   ]
  },
  {
   "cell_type": "code",
   "execution_count": 9,
   "id": "5925985e",
   "metadata": {},
   "outputs": [],
   "source": [
    "while index < end:\n",
    "    data = num[index]\n",
    "    total = total + data\n",
    "    index = index + 1"
   ]
  },
  {
   "cell_type": "code",
   "execution_count": 10,
   "id": "663e63aa",
   "metadata": {},
   "outputs": [
    {
     "data": {
      "text/plain": [
       "3.5"
      ]
     },
     "execution_count": 10,
     "metadata": {},
     "output_type": "execute_result"
    }
   ],
   "source": [
    "total/len(num)"
   ]
  },
  {
   "cell_type": "markdown",
   "id": "2c9b8906",
   "metadata": {},
   "source": [
    "# calculate a factorial using while loop"
   ]
  },
  {
   "cell_type": "code",
   "execution_count": 18,
   "id": "81aea760",
   "metadata": {},
   "outputs": [
    {
     "name": "stdout",
     "output_type": "stream",
     "text": [
      "enter a number10\n"
     ]
    }
   ],
   "source": [
    "num = int(input(\"enter a number\"))"
   ]
  },
  {
   "cell_type": "code",
   "execution_count": 19,
   "id": "04c69a88",
   "metadata": {},
   "outputs": [],
   "source": [
    "index = 1\n",
    "factorial = 1\n",
    "while index <= num:\n",
    "    factorial = index * factorial\n",
    "    index = index + 1\n"
   ]
  },
  {
   "cell_type": "code",
   "execution_count": 20,
   "id": "bbf562a0",
   "metadata": {},
   "outputs": [
    {
     "data": {
      "text/plain": [
       "3628800"
      ]
     },
     "execution_count": 20,
     "metadata": {},
     "output_type": "execute_result"
    }
   ],
   "source": [
    "factorial"
   ]
  },
  {
   "cell_type": "code",
   "execution_count": null,
   "id": "0a0e0cc9",
   "metadata": {},
   "outputs": [],
   "source": []
  }
 ],
 "metadata": {
  "kernelspec": {
   "display_name": "Python 3 (ipykernel)",
   "language": "python",
   "name": "python3"
  },
  "language_info": {
   "codemirror_mode": {
    "name": "ipython",
    "version": 3
   },
   "file_extension": ".py",
   "mimetype": "text/x-python",
   "name": "python",
   "nbconvert_exporter": "python",
   "pygments_lexer": "ipython3",
   "version": "3.10.9"
  }
 },
 "nbformat": 4,
 "nbformat_minor": 5
}
