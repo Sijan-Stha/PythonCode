{
 "cells": [
  {
   "cell_type": "markdown",
   "id": "134d7fe2",
   "metadata": {},
   "source": [
    "# write a function to check if the given input number is prime or not if prime return true else return false."
   ]
  },
  {
   "cell_type": "code",
   "execution_count": 3,
   "id": "6b39e0df",
   "metadata": {},
   "outputs": [],
   "source": [
    "def check_prime(num):\n",
    "    if num < 2:\n",
    "        return False\n",
    "    else:\n",
    "        for i in range(2, num):\n",
    "            if num % i == 0:\n",
    "                return False\n",
    "        return True\n",
    "        "
   ]
  },
  {
   "cell_type": "code",
   "execution_count": 4,
   "id": "8162d126",
   "metadata": {},
   "outputs": [
    {
     "name": "stdout",
     "output_type": "stream",
     "text": [
      "Enter a number: 5\n"
     ]
    },
    {
     "data": {
      "text/plain": [
       "True"
      ]
     },
     "execution_count": 4,
     "metadata": {},
     "output_type": "execute_result"
    }
   ],
   "source": [
    "num = int(input(\"Enter a number: \"))\n",
    "\n",
    "check_prime(num)"
   ]
  },
  {
   "cell_type": "code",
   "execution_count": null,
   "id": "5a7e2b3d",
   "metadata": {},
   "outputs": [],
   "source": []
  },
  {
   "cell_type": "markdown",
   "id": "c4d48b24",
   "metadata": {},
   "source": [
    "# write a python function to calculate the factorial of a non-negative integer."
   ]
  },
  {
   "cell_type": "code",
   "execution_count": 1,
   "id": "aed2ac26",
   "metadata": {},
   "outputs": [],
   "source": [
    "\n",
    "def calc_factorial(num):\n",
    "    if num > 1:\n",
    "        factorial = num * calc_factorial(num - 1)\n",
    "    else:\n",
    "        factorial = 1\n",
    "    return factorial"
   ]
  },
  {
   "cell_type": "code",
   "execution_count": 2,
   "id": "54d43587",
   "metadata": {},
   "outputs": [
    {
     "name": "stdout",
     "output_type": "stream",
     "text": [
      "Enter a Number: 10\n"
     ]
    },
    {
     "data": {
      "text/plain": [
       "3628800"
      ]
     },
     "execution_count": 2,
     "metadata": {},
     "output_type": "execute_result"
    }
   ],
   "source": [
    "num = int(input(\"Enter a Number: \"))\n",
    "\n",
    "calc_factorial(num)"
   ]
  },
  {
   "cell_type": "code",
   "execution_count": null,
   "id": "439fac35",
   "metadata": {},
   "outputs": [],
   "source": []
  },
  {
   "cell_type": "markdown",
   "id": "8bebb079",
   "metadata": {},
   "source": [
    "# write a python function that takes a list and returns a new list with unique elements of first list."
   ]
  },
  {
   "cell_type": "code",
   "execution_count": 5,
   "id": "ba3b9861",
   "metadata": {},
   "outputs": [
    {
     "data": {
      "text/plain": [
       "['tesla', 'bmw', 'toyota', 'audi', 'kia', 'honda', 'bugati']"
      ]
     },
     "execution_count": 5,
     "metadata": {},
     "output_type": "execute_result"
    }
   ],
   "source": [
    "def return_new_list(car):\n",
    "    new_car = []\n",
    "    for items in car:\n",
    "        if items not in new_car:\n",
    "            new_car.append(items)\n",
    "        \n",
    "    return new_car\n",
    "\n",
    "car = ['tesla', 'bmw', 'toyota', 'audi', 'tesla', 'kia', 'honda', 'bmw', 'bugati', 'toyota']\n",
    "return_new_list(car)"
   ]
  },
  {
   "cell_type": "code",
   "execution_count": null,
   "id": "ae53f9af",
   "metadata": {},
   "outputs": [],
   "source": []
  },
  {
   "cell_type": "markdown",
   "id": "719cf13b",
   "metadata": {},
   "source": [
    "# write a python function that accepts a string and calculate the number of upper case letters and lower case letters."
   ]
  },
  {
   "cell_type": "code",
   "execution_count": 7,
   "id": "b302b91e",
   "metadata": {},
   "outputs": [
    {
     "name": "stdout",
     "output_type": "stream",
     "text": [
      "Enter String: SIjan Shrestha\n",
      "Total Lowercase = 3\n",
      "Total Uppercase = 10\n"
     ]
    }
   ],
   "source": [
    "def calculate_upper_lower(string1):\n",
    "    upper_count = 0\n",
    "    lower_count = 0\n",
    "    for item in string1:\n",
    "        if item.isupper():\n",
    "            upper_count = upper_count + 1\n",
    "        if item.islower():\n",
    "            lower_count = lower_count + 1\n",
    "    \n",
    "    return upper_count, lower_count\n",
    "\n",
    "string1 = input('Enter String: ')\n",
    "\n",
    "lowercase, uppercase = calculate_upper_lower(string1)\n",
    "\n",
    "print(f'Total Lowercase = {lowercase}')\n",
    "print(f'Total Uppercase = {uppercase}')"
   ]
  },
  {
   "cell_type": "code",
   "execution_count": 2,
   "id": "637fef94",
   "metadata": {},
   "outputs": [
    {
     "data": {
      "text/plain": [
       "' '"
      ]
     },
     "execution_count": 2,
     "metadata": {},
     "output_type": "execute_result"
    }
   ],
   "source": []
  },
  {
   "cell_type": "markdown",
   "id": "26d4c6e0",
   "metadata": {},
   "source": [
    "# Write a python program that accepts a hyphen seperated sequence of words as input and prints the word in hyphen seperated sequence after sorting them alphabetically."
   ]
  },
  {
   "cell_type": "code",
   "execution_count": 41,
   "id": "c00573cc",
   "metadata": {},
   "outputs": [],
   "source": [
    "def sort_words(words):\n",
    "    w = words.split(\"-\")\n",
    "    w.sort()\n",
    "    words = '-'.join(w)\n",
    "    \n",
    "    return words"
   ]
  },
  {
   "cell_type": "code",
   "execution_count": 43,
   "id": "e1272204",
   "metadata": {},
   "outputs": [
    {
     "name": "stdout",
     "output_type": "stream",
     "text": [
      "Enter Hyphen-seperated words: purple-orange-red-black-maroon\n",
      "Sorted Hyphen-seperated words: black-maroon-orange-purple-red\n"
     ]
    }
   ],
   "source": [
    "word = input(\"Enter Hyphen-seperated words: \")\n",
    "\n",
    "sorted_words = sort_words(word)\n",
    "print(f\"Sorted Hyphen-seperated words: {sorted_words}\")"
   ]
  },
  {
   "cell_type": "code",
   "execution_count": null,
   "id": "ff6edc00",
   "metadata": {},
   "outputs": [],
   "source": []
  }
 ],
 "metadata": {
  "kernelspec": {
   "display_name": "Python 3 (ipykernel)",
   "language": "python",
   "name": "python3"
  },
  "language_info": {
   "codemirror_mode": {
    "name": "ipython",
    "version": 3
   },
   "file_extension": ".py",
   "mimetype": "text/x-python",
   "name": "python",
   "nbconvert_exporter": "python",
   "pygments_lexer": "ipython3",
   "version": "3.10.9"
  }
 },
 "nbformat": 4,
 "nbformat_minor": 5
}
