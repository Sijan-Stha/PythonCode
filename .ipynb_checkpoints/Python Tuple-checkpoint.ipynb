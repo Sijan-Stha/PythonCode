{
 "cells": [
  {
   "cell_type": "markdown",
   "id": "ab84dbf3",
   "metadata": {},
   "source": [
    "# Tuples items are ordered, unchangeable and allow duplicate values."
   ]
  },
  {
   "cell_type": "code",
   "execution_count": 3,
   "id": "f5702063",
   "metadata": {},
   "outputs": [
    {
     "data": {
      "text/plain": [
       "('audi', 'mercedes', 'bmw', 'audi')"
      ]
     },
     "execution_count": 3,
     "metadata": {},
     "output_type": "execute_result"
    }
   ],
   "source": [
    "car = ('audi', 'mercedes', 'bmw', 'audi')\n",
    "car"
   ]
  },
  {
   "cell_type": "code",
   "execution_count": 2,
   "id": "6dff71ed",
   "metadata": {},
   "outputs": [
    {
     "data": {
      "text/plain": [
       "tuple"
      ]
     },
     "execution_count": 2,
     "metadata": {},
     "output_type": "execute_result"
    }
   ],
   "source": [
    "type(car)"
   ]
  },
  {
   "cell_type": "code",
   "execution_count": 4,
   "id": "29a355c2",
   "metadata": {},
   "outputs": [
    {
     "data": {
      "text/plain": [
       "('audi', 'mercedes', 'bmw', 'audi')"
      ]
     },
     "execution_count": 4,
     "metadata": {},
     "output_type": "execute_result"
    }
   ],
   "source": [
    "car"
   ]
  },
  {
   "cell_type": "code",
   "execution_count": 5,
   "id": "aa722d44",
   "metadata": {},
   "outputs": [
    {
     "data": {
      "text/plain": [
       "'audi'"
      ]
     },
     "execution_count": 5,
     "metadata": {},
     "output_type": "execute_result"
    }
   ],
   "source": [
    "car[-1]"
   ]
  },
  {
   "cell_type": "code",
   "execution_count": 6,
   "id": "cd6c1e8a",
   "metadata": {},
   "outputs": [
    {
     "data": {
      "text/plain": [
       "'audi'"
      ]
     },
     "execution_count": 6,
     "metadata": {},
     "output_type": "execute_result"
    }
   ],
   "source": [
    "car[0]"
   ]
  },
  {
   "cell_type": "code",
   "execution_count": 7,
   "id": "77e1e04b",
   "metadata": {},
   "outputs": [
    {
     "ename": "TypeError",
     "evalue": "'tuple' object does not support item assignment",
     "output_type": "error",
     "traceback": [
      "\u001b[1;31m---------------------------------------------------------------------------\u001b[0m",
      "\u001b[1;31mTypeError\u001b[0m                                 Traceback (most recent call last)",
      "Cell \u001b[1;32mIn[7], line 1\u001b[0m\n\u001b[1;32m----> 1\u001b[0m \u001b[43mcar\u001b[49m\u001b[43m[\u001b[49m\u001b[38;5;241;43m0\u001b[39;49m\u001b[43m]\u001b[49m \u001b[38;5;241m=\u001b[39m \u001b[38;5;124m'\u001b[39m\u001b[38;5;124mtesla\u001b[39m\u001b[38;5;124m'\u001b[39m\n",
      "\u001b[1;31mTypeError\u001b[0m: 'tuple' object does not support item assignment"
     ]
    }
   ],
   "source": [
    "car[0] = 'tesla' # unchangeable or immutable."
   ]
  },
  {
   "cell_type": "markdown",
   "id": "da0167e7",
   "metadata": {},
   "source": [
    "# Tuples are unchangeable, meaning that we cannot change, add or remove items after the tuple has been created. "
   ]
  },
  {
   "cell_type": "code",
   "execution_count": 8,
   "id": "1b771370",
   "metadata": {},
   "outputs": [
    {
     "data": {
      "text/plain": [
       "('audi', 'mercedes', 'bmw', 'audi')"
      ]
     },
     "execution_count": 8,
     "metadata": {},
     "output_type": "execute_result"
    }
   ],
   "source": [
    "car"
   ]
  },
  {
   "cell_type": "code",
   "execution_count": 10,
   "id": "4451120d",
   "metadata": {},
   "outputs": [
    {
     "ename": "AttributeError",
     "evalue": "'tuple' object has no attribute 'append'",
     "output_type": "error",
     "traceback": [
      "\u001b[1;31m---------------------------------------------------------------------------\u001b[0m",
      "\u001b[1;31mAttributeError\u001b[0m                            Traceback (most recent call last)",
      "Cell \u001b[1;32mIn[10], line 1\u001b[0m\n\u001b[1;32m----> 1\u001b[0m \u001b[43mcar\u001b[49m\u001b[38;5;241;43m.\u001b[39;49m\u001b[43mappend\u001b[49m(\u001b[38;5;124m'\u001b[39m\u001b[38;5;124mtesla\u001b[39m\u001b[38;5;124m'\u001b[39m)\n",
      "\u001b[1;31mAttributeError\u001b[0m: 'tuple' object has no attribute 'append'"
     ]
    }
   ],
   "source": [
    "car.append('tesla')"
   ]
  },
  {
   "cell_type": "markdown",
   "id": "def1ff98",
   "metadata": {},
   "source": [
    "# we cannot change, add or remove items after the tuple has been created but type conversion to list can make it happen."
   ]
  },
  {
   "cell_type": "code",
   "execution_count": 16,
   "id": "ccd3e8b9",
   "metadata": {},
   "outputs": [
    {
     "data": {
      "text/plain": [
       "tuple"
      ]
     },
     "execution_count": 16,
     "metadata": {},
     "output_type": "execute_result"
    }
   ],
   "source": [
    "car = ('audi', 'mercedes', 'bmw', 'audi')\n",
    "type(car)"
   ]
  },
  {
   "cell_type": "code",
   "execution_count": 17,
   "id": "8d1fed0c",
   "metadata": {},
   "outputs": [],
   "source": [
    "car = list(car)"
   ]
  },
  {
   "cell_type": "code",
   "execution_count": 18,
   "id": "34fe9aa4",
   "metadata": {},
   "outputs": [
    {
     "data": {
      "text/plain": [
       "list"
      ]
     },
     "execution_count": 18,
     "metadata": {},
     "output_type": "execute_result"
    }
   ],
   "source": [
    "type(car)"
   ]
  },
  {
   "cell_type": "code",
   "execution_count": 19,
   "id": "a03f9a63",
   "metadata": {},
   "outputs": [],
   "source": [
    "car.append('tesla')"
   ]
  },
  {
   "cell_type": "code",
   "execution_count": 21,
   "id": "052460d5",
   "metadata": {},
   "outputs": [],
   "source": [
    "car = tuple(car)"
   ]
  },
  {
   "cell_type": "code",
   "execution_count": 22,
   "id": "0c866da6",
   "metadata": {},
   "outputs": [
    {
     "data": {
      "text/plain": [
       "('audi', 'mercedes', 'bmw', 'audi', 'tesla')"
      ]
     },
     "execution_count": 22,
     "metadata": {},
     "output_type": "execute_result"
    }
   ],
   "source": [
    "car"
   ]
  },
  {
   "cell_type": "markdown",
   "id": "0cb2d771",
   "metadata": {},
   "source": [
    "# using loop in tuple"
   ]
  },
  {
   "cell_type": "code",
   "execution_count": 23,
   "id": "f37479f5",
   "metadata": {},
   "outputs": [
    {
     "name": "stdout",
     "output_type": "stream",
     "text": [
      "audi\n",
      "mercedes\n",
      "bmw\n",
      "audi\n"
     ]
    }
   ],
   "source": [
    "car = ('audi', 'mercedes', 'bmw', 'audi')\n",
    "for item in range(len(car)):\n",
    "    car_name = car[item]\n",
    "    print(car_name)"
   ]
  },
  {
   "cell_type": "code",
   "execution_count": 31,
   "id": "064489b4",
   "metadata": {},
   "outputs": [
    {
     "name": "stdout",
     "output_type": "stream",
     "text": [
      "(0, 'audi')\n",
      "(1, 'mercedes')\n",
      "(2, 'bmw')\n",
      "(3, 'audi')\n"
     ]
    }
   ],
   "source": [
    "for item in enumerate(car): #inumerate\n",
    "    print(item)"
   ]
  },
  {
   "cell_type": "code",
   "execution_count": null,
   "id": "8e66c0ea",
   "metadata": {},
   "outputs": [],
   "source": []
  }
 ],
 "metadata": {
  "kernelspec": {
   "display_name": "Python 3 (ipykernel)",
   "language": "python",
   "name": "python3"
  },
  "language_info": {
   "codemirror_mode": {
    "name": "ipython",
    "version": 3
   },
   "file_extension": ".py",
   "mimetype": "text/x-python",
   "name": "python",
   "nbconvert_exporter": "python",
   "pygments_lexer": "ipython3",
   "version": "3.10.9"
  }
 },
 "nbformat": 4,
 "nbformat_minor": 5
}
