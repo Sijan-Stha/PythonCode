{
 "cells": [
  {
   "cell_type": "code",
   "execution_count": 3,
   "id": "6ffcdc80",
   "metadata": {},
   "outputs": [
    {
     "name": "stdout",
     "output_type": "stream",
     "text": [
      "Enter your weight:45\n",
      "Enter your height in centimeter:185\n",
      "You are Under Weight.\n"
     ]
    }
   ],
   "source": [
    "weight = int(input(\"Enter your weight:\"))\n",
    "height = int(input(\"Enter your height in centimeter:\"))\n",
    "\n",
    "height_m = height/100\n",
    "\n",
    "BMI = weight/(height_m ** 2)\n",
    "\n",
    "if BMI < 18.5:\n",
    "    print(\"You are Under Weight.\")\n",
    "    \n",
    "elif BMI >= 18.5 and BMI <= 24.9:\n",
    "    print(\"Normal Weight.\")\n",
    "    \n",
    "elif BMI >= 25 and BMI <= 29.9:\n",
    "    print(\"Over Weight\")\n",
    "    \n",
    "elif BMI == 30 or BMI > 30:\n",
    "    print(\"Obese\")"
   ]
  },
  {
   "cell_type": "markdown",
   "id": "98e73501",
   "metadata": {},
   "source": [
    "# Logical Operators in Python.\n",
    "* and\n",
    "* or\n",
    "* not"
   ]
  },
  {
   "cell_type": "code",
   "execution_count": null,
   "id": "bf5035d5",
   "metadata": {},
   "outputs": [],
   "source": []
  }
 ],
 "metadata": {
  "kernelspec": {
   "display_name": "Python 3 (ipykernel)",
   "language": "python",
   "name": "python3"
  },
  "language_info": {
   "codemirror_mode": {
    "name": "ipython",
    "version": 3
   },
   "file_extension": ".py",
   "mimetype": "text/x-python",
   "name": "python",
   "nbconvert_exporter": "python",
   "pygments_lexer": "ipython3",
   "version": "3.10.8"
  }
 },
 "nbformat": 4,
 "nbformat_minor": 5
}
