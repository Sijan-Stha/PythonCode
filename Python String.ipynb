{
 "cells": [
  {
   "cell_type": "markdown",
   "id": "61b7b938",
   "metadata": {},
   "source": [
    "# Python String"
   ]
  },
  {
   "cell_type": "code",
   "execution_count": 1,
   "id": "be330fac",
   "metadata": {},
   "outputs": [
    {
     "name": "stdout",
     "output_type": "stream",
     "text": [
      "Enter Your Name: sijan\n"
     ]
    }
   ],
   "source": [
    "user_input = input(\"Enter Your Name: \")"
   ]
  },
  {
   "cell_type": "code",
   "execution_count": 3,
   "id": "737ff306",
   "metadata": {},
   "outputs": [
    {
     "data": {
      "text/plain": [
       "str"
      ]
     },
     "execution_count": 3,
     "metadata": {},
     "output_type": "execute_result"
    }
   ],
   "source": [
    "type(user_input)"
   ]
  },
  {
   "cell_type": "code",
   "execution_count": 5,
   "id": "9acfe642",
   "metadata": {},
   "outputs": [
    {
     "name": "stdout",
     "output_type": "stream",
     "text": [
      "sijan\n"
     ]
    }
   ],
   "source": [
    "print(type(user_input) #object of string class"
   ]
  },
  {
   "cell_type": "code",
   "execution_count": 6,
   "id": "e57d107f",
   "metadata": {},
   "outputs": [
    {
     "data": {
      "text/plain": [
       "'sijan'"
      ]
     },
     "execution_count": 6,
     "metadata": {},
     "output_type": "execute_result"
    }
   ],
   "source": [
    "user_input"
   ]
  },
  {
   "cell_type": "code",
   "execution_count": 15,
   "id": "ed3d7814",
   "metadata": {},
   "outputs": [],
   "source": [
    "txt1 = \"Hi my name is sijan.\"\n",
    "txt2 = 'Hi my name is sijan.'"
   ]
  },
  {
   "cell_type": "code",
   "execution_count": 16,
   "id": "5dc9ed65",
   "metadata": {},
   "outputs": [
    {
     "data": {
      "text/plain": [
       "True"
      ]
     },
     "execution_count": 16,
     "metadata": {},
     "output_type": "execute_result"
    }
   ],
   "source": [
    "txt1 == txt2"
   ]
  },
  {
   "cell_type": "code",
   "execution_count": 18,
   "id": "0dcbe9be",
   "metadata": {},
   "outputs": [
    {
     "ename": "SyntaxError",
     "evalue": "unterminated string literal (detected at line 1) (3257257609.py, line 1)",
     "output_type": "error",
     "traceback": [
      "\u001b[1;36m  Cell \u001b[1;32mIn[18], line 1\u001b[1;36m\u001b[0m\n\u001b[1;33m    msg = 'I don't like it' # You cannot use single quote inside single quote.\u001b[0m\n\u001b[1;37m                          ^\u001b[0m\n\u001b[1;31mSyntaxError\u001b[0m\u001b[1;31m:\u001b[0m unterminated string literal (detected at line 1)\n"
     ]
    }
   ],
   "source": [
    "msg = 'I don't like it' # You cannot use single quote inside single quote."
   ]
  },
  {
   "cell_type": "code",
   "execution_count": 19,
   "id": "cb4feadf",
   "metadata": {},
   "outputs": [],
   "source": [
    "msg = \"I don't like it.\""
   ]
  },
  {
   "cell_type": "code",
   "execution_count": 20,
   "id": "ba9a7742",
   "metadata": {},
   "outputs": [
    {
     "data": {
      "text/plain": [
       "\"I don't like it.\""
      ]
     },
     "execution_count": 20,
     "metadata": {},
     "output_type": "execute_result"
    }
   ],
   "source": [
    "msg"
   ]
  },
  {
   "cell_type": "markdown",
   "id": "19b104bf",
   "metadata": {},
   "source": [
    "# Single line and Multi-line string"
   ]
  },
  {
   "cell_type": "code",
   "execution_count": 23,
   "id": "aa6e61c9",
   "metadata": {},
   "outputs": [
    {
     "ename": "SyntaxError",
     "evalue": "unterminated string literal (detected at line 2) (1835443146.py, line 2)",
     "output_type": "error",
     "traceback": [
      "\u001b[1;36m  Cell \u001b[1;32mIn[23], line 2\u001b[1;36m\u001b[0m\n\u001b[1;33m    txt = \"Hi my\u001b[0m\n\u001b[1;37m          ^\u001b[0m\n\u001b[1;31mSyntaxError\u001b[0m\u001b[1;31m:\u001b[0m unterminated string literal (detected at line 2)\n"
     ]
    }
   ],
   "source": [
    "# You cannot use quote to write multi-line string.\n",
    "txt = \"Hi my\n",
    "name is\n",
    "Sijan.\n",
    "\""
   ]
  },
  {
   "cell_type": "markdown",
   "id": "0242f8ec",
   "metadata": {},
   "source": [
    "# use triple quotes to write multi line string"
   ]
  },
  {
   "cell_type": "code",
   "execution_count": 24,
   "id": "e7efcda1",
   "metadata": {},
   "outputs": [],
   "source": [
    "msg = \"\"\"\n",
    "Hi\n",
    "my name is\n",
    "Sijan.\n",
    "\"\"\""
   ]
  },
  {
   "cell_type": "code",
   "execution_count": 25,
   "id": "df755d26",
   "metadata": {},
   "outputs": [
    {
     "data": {
      "text/plain": [
       "'\\nHi\\nmy name is\\nSijan.\\n'"
      ]
     },
     "execution_count": 25,
     "metadata": {},
     "output_type": "execute_result"
    }
   ],
   "source": [
    "msg"
   ]
  },
  {
   "cell_type": "code",
   "execution_count": 26,
   "id": "8265685a",
   "metadata": {},
   "outputs": [
    {
     "name": "stdout",
     "output_type": "stream",
     "text": [
      "\n",
      "Hi\n",
      "my name is\n",
      "Sijan.\n",
      "\n"
     ]
    }
   ],
   "source": [
    "print(msg)"
   ]
  },
  {
   "cell_type": "code",
   "execution_count": 27,
   "id": "b75b44df",
   "metadata": {},
   "outputs": [],
   "source": [
    "greet = '''\n",
    "Hello,\n",
    "Good Morning.\n",
    "'''"
   ]
  },
  {
   "cell_type": "code",
   "execution_count": 28,
   "id": "a1929a83",
   "metadata": {},
   "outputs": [
    {
     "data": {
      "text/plain": [
       "'\\nHello,\\nGood Morning.\\n'"
      ]
     },
     "execution_count": 28,
     "metadata": {},
     "output_type": "execute_result"
    }
   ],
   "source": [
    "greet"
   ]
  },
  {
   "cell_type": "code",
   "execution_count": 29,
   "id": "39d416df",
   "metadata": {},
   "outputs": [
    {
     "name": "stdout",
     "output_type": "stream",
     "text": [
      "\n",
      "Hello,\n",
      "Good Morning.\n",
      "\n"
     ]
    }
   ],
   "source": [
    "print(greet)"
   ]
  },
  {
   "cell_type": "markdown",
   "id": "0ec7bfec",
   "metadata": {},
   "source": [
    "# Assert"
   ]
  },
  {
   "cell_type": "code",
   "execution_count": null,
   "id": "315f9101",
   "metadata": {},
   "outputs": [],
   "source": [
    "assert \"nepal\" == 'nepal' # assert is used in debugging."
   ]
  },
  {
   "cell_type": "code",
   "execution_count": 31,
   "id": "8f8fbfc6",
   "metadata": {},
   "outputs": [
    {
     "ename": "AssertionError",
     "evalue": "",
     "output_type": "error",
     "traceback": [
      "\u001b[1;31m---------------------------------------------------------------------------\u001b[0m",
      "\u001b[1;31mAssertionError\u001b[0m                            Traceback (most recent call last)",
      "Cell \u001b[1;32mIn[31], line 1\u001b[0m\n\u001b[1;32m----> 1\u001b[0m \u001b[38;5;28;01massert\u001b[39;00m \u001b[38;5;124m\"\u001b[39m\u001b[38;5;124mNepal\u001b[39m\u001b[38;5;124m\"\u001b[39m \u001b[38;5;241m==\u001b[39m \u001b[38;5;124m'\u001b[39m\u001b[38;5;124mnepal\u001b[39m\u001b[38;5;124m'\u001b[39m\n",
      "\u001b[1;31mAssertionError\u001b[0m: "
     ]
    }
   ],
   "source": [
    "assert \"Nepal\" == 'nepal'"
   ]
  },
  {
   "cell_type": "markdown",
   "id": "f8d1e46b",
   "metadata": {},
   "source": [
    "# Indexing and slicing of string."
   ]
  },
  {
   "cell_type": "code",
   "execution_count": 32,
   "id": "656ec822",
   "metadata": {},
   "outputs": [],
   "source": [
    "s = \"Hello World\""
   ]
  },
  {
   "cell_type": "code",
   "execution_count": 34,
   "id": "9d07c3e6",
   "metadata": {},
   "outputs": [
    {
     "data": {
      "text/plain": [
       "'H'"
      ]
     },
     "execution_count": 34,
     "metadata": {},
     "output_type": "execute_result"
    }
   ],
   "source": [
    "s[1]"
   ]
  },
  {
   "cell_type": "code",
   "execution_count": 35,
   "id": "40773dd1",
   "metadata": {},
   "outputs": [
    {
     "data": {
      "text/plain": [
       "'H'"
      ]
     },
     "execution_count": 35,
     "metadata": {},
     "output_type": "execute_result"
    }
   ],
   "source": [
    "s[0] # index always starts with 0"
   ]
  },
  {
   "cell_type": "code",
   "execution_count": 36,
   "id": "ecc3caee",
   "metadata": {},
   "outputs": [
    {
     "data": {
      "text/plain": [
       "'e'"
      ]
     },
     "execution_count": 36,
     "metadata": {},
     "output_type": "execute_result"
    }
   ],
   "source": [
    "s[1]"
   ]
  },
  {
   "cell_type": "code",
   "execution_count": 37,
   "id": "86117a85",
   "metadata": {},
   "outputs": [
    {
     "data": {
      "text/plain": [
       "'l'"
      ]
     },
     "execution_count": 37,
     "metadata": {},
     "output_type": "execute_result"
    }
   ],
   "source": [
    "s[2]"
   ]
  },
  {
   "cell_type": "code",
   "execution_count": 38,
   "id": "d4e62858",
   "metadata": {},
   "outputs": [
    {
     "data": {
      "text/plain": [
       "'l'"
      ]
     },
     "execution_count": 38,
     "metadata": {},
     "output_type": "execute_result"
    }
   ],
   "source": [
    "s[3]"
   ]
  },
  {
   "cell_type": "code",
   "execution_count": 39,
   "id": "e1571361",
   "metadata": {},
   "outputs": [
    {
     "data": {
      "text/plain": [
       "'o'"
      ]
     },
     "execution_count": 39,
     "metadata": {},
     "output_type": "execute_result"
    }
   ],
   "source": [
    "s[4]"
   ]
  },
  {
   "cell_type": "code",
   "execution_count": 40,
   "id": "60601226",
   "metadata": {},
   "outputs": [
    {
     "data": {
      "text/plain": [
       "' '"
      ]
     },
     "execution_count": 40,
     "metadata": {},
     "output_type": "execute_result"
    }
   ],
   "source": [
    "s[5]"
   ]
  },
  {
   "cell_type": "code",
   "execution_count": 41,
   "id": "1b9308b6",
   "metadata": {},
   "outputs": [
    {
     "data": {
      "text/plain": [
       "'W'"
      ]
     },
     "execution_count": 41,
     "metadata": {},
     "output_type": "execute_result"
    }
   ],
   "source": [
    "s[6]"
   ]
  },
  {
   "cell_type": "code",
   "execution_count": 42,
   "id": "ddc3e335",
   "metadata": {},
   "outputs": [
    {
     "data": {
      "text/plain": [
       "'o'"
      ]
     },
     "execution_count": 42,
     "metadata": {},
     "output_type": "execute_result"
    }
   ],
   "source": [
    "s[7]"
   ]
  },
  {
   "cell_type": "code",
   "execution_count": 43,
   "id": "0c9e43ed",
   "metadata": {},
   "outputs": [
    {
     "data": {
      "text/plain": [
       "'r'"
      ]
     },
     "execution_count": 43,
     "metadata": {},
     "output_type": "execute_result"
    }
   ],
   "source": [
    "s[8]"
   ]
  },
  {
   "cell_type": "code",
   "execution_count": 44,
   "id": "481088b7",
   "metadata": {},
   "outputs": [
    {
     "data": {
      "text/plain": [
       "'l'"
      ]
     },
     "execution_count": 44,
     "metadata": {},
     "output_type": "execute_result"
    }
   ],
   "source": [
    "s[9]"
   ]
  },
  {
   "cell_type": "code",
   "execution_count": 45,
   "id": "0b53003f",
   "metadata": {},
   "outputs": [
    {
     "data": {
      "text/plain": [
       "'d'"
      ]
     },
     "execution_count": 45,
     "metadata": {},
     "output_type": "execute_result"
    }
   ],
   "source": [
    "s[10]"
   ]
  },
  {
   "cell_type": "code",
   "execution_count": 46,
   "id": "a12ba73c",
   "metadata": {},
   "outputs": [
    {
     "ename": "IndexError",
     "evalue": "string index out of range",
     "output_type": "error",
     "traceback": [
      "\u001b[1;31m---------------------------------------------------------------------------\u001b[0m",
      "\u001b[1;31mIndexError\u001b[0m                                Traceback (most recent call last)",
      "Cell \u001b[1;32mIn[46], line 1\u001b[0m\n\u001b[1;32m----> 1\u001b[0m \u001b[43ms\u001b[49m\u001b[43m[\u001b[49m\u001b[38;5;241;43m11\u001b[39;49m\u001b[43m]\u001b[49m\n",
      "\u001b[1;31mIndexError\u001b[0m: string index out of range"
     ]
    }
   ],
   "source": [
    "s[11]"
   ]
  },
  {
   "cell_type": "code",
   "execution_count": 47,
   "id": "542646cb",
   "metadata": {},
   "outputs": [
    {
     "data": {
      "text/plain": [
       "11"
      ]
     },
     "execution_count": 47,
     "metadata": {},
     "output_type": "execute_result"
    }
   ],
   "source": [
    "len(s)"
   ]
  },
  {
   "cell_type": "code",
   "execution_count": 55,
   "id": "ce6a7019",
   "metadata": {},
   "outputs": [
    {
     "name": "stdout",
     "output_type": "stream",
     "text": [
      "H\n",
      "e\n",
      "l\n",
      "l\n",
      "o\n",
      " \n",
      "W\n",
      "o\n",
      "r\n",
      "l\n",
      "d\n"
     ]
    }
   ],
   "source": [
    "for i in range(0, len(s), 1): # range(start, stop, step)\n",
    "    print(s[i])"
   ]
  },
  {
   "cell_type": "code",
   "execution_count": 56,
   "id": "447af5d8",
   "metadata": {},
   "outputs": [],
   "source": [
    "s = \"hello world\""
   ]
  },
  {
   "cell_type": "code",
   "execution_count": 57,
   "id": "9df9bd2c",
   "metadata": {},
   "outputs": [],
   "source": [
    "length = len(s)"
   ]
  },
  {
   "cell_type": "code",
   "execution_count": 58,
   "id": "a75c312c",
   "metadata": {},
   "outputs": [
    {
     "data": {
      "text/plain": [
       "11"
      ]
     },
     "execution_count": 58,
     "metadata": {},
     "output_type": "execute_result"
    }
   ],
   "source": [
    "length"
   ]
  },
  {
   "cell_type": "code",
   "execution_count": 59,
   "id": "df50cdaa",
   "metadata": {},
   "outputs": [
    {
     "data": {
      "text/plain": [
       "range(0, 11)"
      ]
     },
     "execution_count": 59,
     "metadata": {},
     "output_type": "execute_result"
    }
   ],
   "source": [
    "range(0, length, 1)"
   ]
  },
  {
   "cell_type": "code",
   "execution_count": 60,
   "id": "d79a82fe",
   "metadata": {},
   "outputs": [
    {
     "data": {
      "text/plain": [
       "[0, 1, 2, 3, 4, 5, 6, 7, 8, 9, 10]"
      ]
     },
     "execution_count": 60,
     "metadata": {},
     "output_type": "execute_result"
    }
   ],
   "source": [
    "list(range(0, length, 1))"
   ]
  },
  {
   "cell_type": "markdown",
   "id": "90d981aa",
   "metadata": {},
   "source": [
    "# Print String in Reverse order."
   ]
  },
  {
   "cell_type": "code",
   "execution_count": 81,
   "id": "edcc5966",
   "metadata": {},
   "outputs": [
    {
     "name": "stdout",
     "output_type": "stream",
     "text": [
      "d\n",
      "l\n",
      "r\n",
      "o\n",
      "w\n",
      " \n",
      "o\n",
      "l\n",
      "l\n",
      "e\n",
      "h\n"
     ]
    }
   ],
   "source": [
    "length = len(s)\n",
    "for i in range(length - 1, -1, -1):\n",
    "    print(s[i])"
   ]
  },
  {
   "cell_type": "markdown",
   "id": "e3eded0b",
   "metadata": {},
   "source": [
    "# Slicing of String"
   ]
  },
  {
   "cell_type": "code",
   "execution_count": 82,
   "id": "bf236700",
   "metadata": {},
   "outputs": [
    {
     "data": {
      "text/plain": [
       "'I love'"
      ]
     },
     "execution_count": 82,
     "metadata": {},
     "output_type": "execute_result"
    }
   ],
   "source": [
    "s = \"I love python.\"\n",
    "s[0:6]"
   ]
  },
  {
   "cell_type": "code",
   "execution_count": 83,
   "id": "d1be7354",
   "metadata": {},
   "outputs": [
    {
     "data": {
      "text/plain": [
       "'py'"
      ]
     },
     "execution_count": 83,
     "metadata": {},
     "output_type": "execute_result"
    }
   ],
   "source": [
    "s[7:9]"
   ]
  },
  {
   "cell_type": "code",
   "execution_count": 84,
   "id": "ce14cd53",
   "metadata": {},
   "outputs": [
    {
     "data": {
      "text/plain": [
       "'python.'"
      ]
     },
     "execution_count": 84,
     "metadata": {},
     "output_type": "execute_result"
    }
   ],
   "source": [
    "s[7:len(s)]"
   ]
  },
  {
   "cell_type": "code",
   "execution_count": null,
   "id": "be43ef51",
   "metadata": {},
   "outputs": [],
   "source": []
  }
 ],
 "metadata": {
  "kernelspec": {
   "display_name": "Python 3 (ipykernel)",
   "language": "python",
   "name": "python3"
  },
  "language_info": {
   "codemirror_mode": {
    "name": "ipython",
    "version": 3
   },
   "file_extension": ".py",
   "mimetype": "text/x-python",
   "name": "python",
   "nbconvert_exporter": "python",
   "pygments_lexer": "ipython3",
   "version": "3.10.8"
  }
 },
 "nbformat": 4,
 "nbformat_minor": 5
}
