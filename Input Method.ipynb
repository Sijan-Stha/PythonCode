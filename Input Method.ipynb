{
 "cells": [
  {
   "cell_type": "code",
   "execution_count": 9,
   "id": "e4c6b1c8",
   "metadata": {},
   "outputs": [
    {
     "name": "stdout",
     "output_type": "stream",
     "text": [
      "Enter first number:5\n",
      "Enter Second number:6\n",
      "The sum is: 11\n"
     ]
    }
   ],
   "source": [
    "num1 = input(\"Enter first number:\")\n",
    "num2 = input(\"Enter Second number:\")\n",
    "\n",
    "addition = int(num1) + int(num2)\n",
    "print(f\"The sum is: {addition}\")"
   ]
  },
  {
   "cell_type": "markdown",
   "id": "371b9384",
   "metadata": {},
   "source": [
    "# Type Casting -- explicit"
   ]
  },
  {
   "cell_type": "code",
   "execution_count": 11,
   "id": "171f01b0",
   "metadata": {},
   "outputs": [
    {
     "data": {
      "text/plain": [
       "55"
      ]
     },
     "execution_count": 11,
     "metadata": {},
     "output_type": "execute_result"
    }
   ],
   "source": [
    "a = \"55\"\n",
    "int(a)"
   ]
  },
  {
   "cell_type": "code",
   "execution_count": 12,
   "id": "ad2f21b8",
   "metadata": {},
   "outputs": [
    {
     "name": "stdout",
     "output_type": "stream",
     "text": [
      "Enter First Number: 55\n",
      "Enter Second Number: 2\n",
      "53\n"
     ]
    }
   ],
   "source": [
    "num1 = int(input(\"Enter First Number: \"))\n",
    "num2 = int(input(\"Enter Second Number: \"))\n",
    "substraction = num1-num2\n",
    "\n",
    "print(substraction)"
   ]
  },
  {
   "cell_type": "code",
   "execution_count": null,
   "id": "71a87ad3",
   "metadata": {},
   "outputs": [],
   "source": []
  }
 ],
 "metadata": {
  "kernelspec": {
   "display_name": "Python 3 (ipykernel)",
   "language": "python",
   "name": "python3"
  },
  "language_info": {
   "codemirror_mode": {
    "name": "ipython",
    "version": 3
   },
   "file_extension": ".py",
   "mimetype": "text/x-python",
   "name": "python",
   "nbconvert_exporter": "python",
   "pygments_lexer": "ipython3",
   "version": "3.10.8"
  }
 },
 "nbformat": 4,
 "nbformat_minor": 5
}
