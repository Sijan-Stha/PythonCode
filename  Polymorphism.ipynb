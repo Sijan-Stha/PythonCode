{
 "cells": [
  {
   "cell_type": "markdown",
   "id": "0df7518d",
   "metadata": {},
   "source": [
    "# Polymorphism : Operator Overloading and Function Overriding"
   ]
  },
  {
   "cell_type": "code",
   "execution_count": 3,
   "id": "8c175fda",
   "metadata": {},
   "outputs": [
    {
     "name": "stdout",
     "output_type": "stream",
     "text": [
      "6\n"
     ]
    }
   ],
   "source": [
    "# example of operator overloading. \n",
    "a = 2\n",
    "b = 4\n",
    "print(a + b)"
   ]
  },
  {
   "cell_type": "code",
   "execution_count": 4,
   "id": "f0232d4a",
   "metadata": {},
   "outputs": [
    {
     "data": {
      "text/plain": [
       "'hi'"
      ]
     },
     "execution_count": 4,
     "metadata": {},
     "output_type": "execute_result"
    }
   ],
   "source": [
    "\"h\" + \"i\""
   ]
  },
  {
   "cell_type": "code",
   "execution_count": 6,
   "id": "95157e3b",
   "metadata": {},
   "outputs": [
    {
     "data": {
      "text/plain": [
       "[1, 2, 3, 6, 8]"
      ]
     },
     "execution_count": 6,
     "metadata": {},
     "output_type": "execute_result"
    }
   ],
   "source": [
    "[1, 2, 3] + [6, 8]"
   ]
  },
  {
   "cell_type": "markdown",
   "id": "7f063276",
   "metadata": {},
   "source": [
    "# User defined operator overloading"
   ]
  },
  {
   "cell_type": "code",
   "execution_count": 8,
   "id": "6dcbb1ed",
   "metadata": {},
   "outputs": [],
   "source": [
    "class Account:\n",
    "    def __init__(self, name, bal):\n",
    "        self.name = name\n",
    "        self.bal = bal"
   ]
  },
  {
   "cell_type": "code",
   "execution_count": 9,
   "id": "bf944c2e",
   "metadata": {},
   "outputs": [],
   "source": [
    "ac1 = Account(\"Ram\", 15000)"
   ]
  },
  {
   "cell_type": "code",
   "execution_count": 10,
   "id": "500e1f0a",
   "metadata": {},
   "outputs": [],
   "source": [
    "ac2 = Account(\"Hari\", 55856)"
   ]
  },
  {
   "cell_type": "code",
   "execution_count": 11,
   "id": "11fdf743",
   "metadata": {},
   "outputs": [
    {
     "ename": "TypeError",
     "evalue": "unsupported operand type(s) for +: 'Account' and 'Account'",
     "output_type": "error",
     "traceback": [
      "\u001b[1;31m---------------------------------------------------------------------------\u001b[0m",
      "\u001b[1;31mTypeError\u001b[0m                                 Traceback (most recent call last)",
      "Cell \u001b[1;32mIn[11], line 1\u001b[0m\n\u001b[1;32m----> 1\u001b[0m \u001b[43mac1\u001b[49m\u001b[43m \u001b[49m\u001b[38;5;241;43m+\u001b[39;49m\u001b[43m \u001b[49m\u001b[43mac1\u001b[49m\n",
      "\u001b[1;31mTypeError\u001b[0m: unsupported operand type(s) for +: 'Account' and 'Account'"
     ]
    }
   ],
   "source": [
    "ac1 + ac1"
   ]
  },
  {
   "cell_type": "markdown",
   "id": "c8481337",
   "metadata": {},
   "source": [
    "# + dosenot know how to add two Account object since Account is user defined class.\n",
    "\n",
    "# However we need to overload the + operator. This can happen using dunders for add that operator is  \"__add__()\""
   ]
  },
  {
   "cell_type": "code",
   "execution_count": 14,
   "id": "062216f2",
   "metadata": {},
   "outputs": [],
   "source": [
    "class Account:\n",
    "    def __init__(self, name, bal):\n",
    "        self.name = name\n",
    "        self.bal = bal\n",
    "    def __add__(self, otherobj):\n",
    "        return self. bal + otherobj.bal"
   ]
  },
  {
   "cell_type": "code",
   "execution_count": 17,
   "id": "1c209bd9",
   "metadata": {},
   "outputs": [],
   "source": [
    "ac1 = Account(\"Ram\", 15000)\n",
    "ac2 = Account(\"Hari\", 55856)"
   ]
  },
  {
   "cell_type": "code",
   "execution_count": 19,
   "id": "78ffa8eb",
   "metadata": {},
   "outputs": [
    {
     "data": {
      "text/plain": [
       "70856"
      ]
     },
     "execution_count": 19,
     "metadata": {},
     "output_type": "execute_result"
    }
   ],
   "source": [
    "ac1 + ac2"
   ]
  },
  {
   "cell_type": "markdown",
   "id": "822967ec",
   "metadata": {},
   "source": [
    "* Dunders means double underscore before and after. dunders is also called magic method (__init__, __add__, __len__, etc are dunders). These are used for operator overloading."
   ]
  },
  {
   "cell_type": "markdown",
   "id": "4a31a2c9",
   "metadata": {},
   "source": [
    "# Function Overriding\n",
    "# Polymorphism can occur in inheritence by overriding the parent class method or function on child class"
   ]
  },
  {
   "cell_type": "code",
   "execution_count": 24,
   "id": "889f855a",
   "metadata": {},
   "outputs": [],
   "source": [
    "class A:\n",
    "    def display(self):\n",
    "        print(\"This is A's Display.\")\n",
    "\n",
    "class B(A):\n",
    "    def __init__(self):\n",
    "        super().__init__()\n",
    "    \n",
    "    def display(self):\n",
    "        print(\"This is B's Display\")"
   ]
  },
  {
   "cell_type": "code",
   "execution_count": 25,
   "id": "c241cba7",
   "metadata": {},
   "outputs": [],
   "source": [
    "obj = B()"
   ]
  },
  {
   "cell_type": "code",
   "execution_count": 26,
   "id": "d6ae854b",
   "metadata": {},
   "outputs": [
    {
     "name": "stdout",
     "output_type": "stream",
     "text": [
      "This is B's Display\n"
     ]
    }
   ],
   "source": [
    "obj.display()"
   ]
  },
  {
   "cell_type": "markdown",
   "id": "5ea3f758",
   "metadata": {},
   "source": [
    "# Assignment: Study the difference between overloading and overriding in python"
   ]
  },
  {
   "cell_type": "markdown",
   "id": "029071c2",
   "metadata": {},
   "source": [
    "# Assignment: Abstraction and Encapsulation"
   ]
  },
  {
   "cell_type": "code",
   "execution_count": null,
   "id": "3a2b70e0",
   "metadata": {},
   "outputs": [],
   "source": []
  }
 ],
 "metadata": {
  "kernelspec": {
   "display_name": "Python 3 (ipykernel)",
   "language": "python",
   "name": "python3"
  },
  "language_info": {
   "codemirror_mode": {
    "name": "ipython",
    "version": 3
   },
   "file_extension": ".py",
   "mimetype": "text/x-python",
   "name": "python",
   "nbconvert_exporter": "python",
   "pygments_lexer": "ipython3",
   "version": "3.10.9"
  }
 },
 "nbformat": 4,
 "nbformat_minor": 5
}
