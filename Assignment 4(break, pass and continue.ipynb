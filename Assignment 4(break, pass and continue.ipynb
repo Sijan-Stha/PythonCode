{
 "cells": [
  {
   "cell_type": "markdown",
   "id": "a446612d",
   "metadata": {},
   "source": [
    "# WAP to count vowel and consonants on the given string."
   ]
  },
  {
   "cell_type": "code",
   "execution_count": 6,
   "id": "31cccfe0",
   "metadata": {},
   "outputs": [
    {
     "name": "stdout",
     "output_type": "stream",
     "text": [
      "Enter String: hello my name is sijan.\n"
     ]
    }
   ],
   "source": [
    "s = input(\"Enter String: \").upper()"
   ]
  },
  {
   "cell_type": "code",
   "execution_count": 9,
   "id": "a69c99ec",
   "metadata": {},
   "outputs": [
    {
     "name": "stdout",
     "output_type": "stream",
     "text": [
      "There are 7 vowel in the given string.\n",
      "There are 11 vowel in the given string.\n"
     ]
    }
   ],
   "source": [
    "vowel = 0\n",
    "consonant = 0\n",
    "other = 0\n",
    "for i in range(len(s)):\n",
    "    letter = s[i]\n",
    "    if letter == \"A\" or letter == \"E\" or  letter == \"I\" or letter == \"O\" or letter == \"U\":\n",
    "        vowel = vowel + 1\n",
    "    elif letter == \" \" or letter == \".\":\n",
    "        continue\n",
    "    else:\n",
    "        consonant = consonant + 1\n",
    "print(f\"There are {vowel} vowel in the given string.\")\n",
    "print(f\"There are {consonant} vowel in the given string.\")"
   ]
  },
  {
   "cell_type": "markdown",
   "id": "ea62fc8f",
   "metadata": {},
   "source": [
    "# continue continues to the next iteration in loop"
   ]
  },
  {
   "cell_type": "markdown",
   "id": "05481535",
   "metadata": {},
   "source": [
    "# break breaks the program out of the loop"
   ]
  },
  {
   "cell_type": "code",
   "execution_count": 10,
   "id": "3836af1f",
   "metadata": {},
   "outputs": [],
   "source": [
    "for i in range(5):\n",
    "    pass # pass is a place holder to write a future code."
   ]
  },
  {
   "cell_type": "code",
   "execution_count": null,
   "id": "2dff0133",
   "metadata": {},
   "outputs": [],
   "source": []
  }
 ],
 "metadata": {
  "kernelspec": {
   "display_name": "Python 3 (ipykernel)",
   "language": "python",
   "name": "python3"
  },
  "language_info": {
   "codemirror_mode": {
    "name": "ipython",
    "version": 3
   },
   "file_extension": ".py",
   "mimetype": "text/x-python",
   "name": "python",
   "nbconvert_exporter": "python",
   "pygments_lexer": "ipython3",
   "version": "3.10.9"
  }
 },
 "nbformat": 4,
 "nbformat_minor": 5
}
