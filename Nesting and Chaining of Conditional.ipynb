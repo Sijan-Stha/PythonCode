{
 "cells": [
  {
   "cell_type": "code",
   "execution_count": 1,
   "id": "78ad1629",
   "metadata": {},
   "outputs": [
    {
     "name": "stdout",
     "output_type": "stream",
     "text": [
      "zero\n"
     ]
    }
   ],
   "source": [
    "num = 0\n",
    "if num == 0:\n",
    "    print(\"zero\")\n",
    "    \n",
    "if num > 0:\n",
    "    print(\"positive\")\n",
    "    \n",
    "if num < 0:\n",
    "    print(\"negative\")"
   ]
  },
  {
   "cell_type": "markdown",
   "id": "92c70aaf",
   "metadata": {},
   "source": [
    "# Nesting of conditional"
   ]
  },
  {
   "cell_type": "code",
   "execution_count": 2,
   "id": "7f7c5d64",
   "metadata": {},
   "outputs": [
    {
     "name": "stdout",
     "output_type": "stream",
     "text": [
      "zero\n"
     ]
    }
   ],
   "source": [
    "num = 0\n",
    "\n",
    "if num < 0:\n",
    "    print(\"negative\")\n",
    "    \n",
    "else:\n",
    "    if num == 0:\n",
    "        print(\"zero\")\n",
    "    \n",
    "    else:\n",
    "        print(\"positive\")\n",
    "    "
   ]
  },
  {
   "cell_type": "markdown",
   "id": "7c59dec4",
   "metadata": {},
   "source": [
    "# Chaining of conditional: if......elif......else"
   ]
  },
  {
   "cell_type": "code",
   "execution_count": 6,
   "id": "5f196309",
   "metadata": {},
   "outputs": [
    {
     "name": "stdout",
     "output_type": "stream",
     "text": [
      "Enter a number: -89\n",
      "negative\n"
     ]
    }
   ],
   "source": [
    "num = int(input(\"Enter a number: \"))\n",
    "\n",
    "if num < 0:\n",
    "    print(\"negative\")\n",
    "    \n",
    "elif num == 0:\n",
    "    print(\"zero\")\n",
    "\n",
    "else:\n",
    "    print(\"positive\")"
   ]
  },
  {
   "cell_type": "code",
   "execution_count": null,
   "id": "4eab5d65",
   "metadata": {},
   "outputs": [],
   "source": []
  }
 ],
 "metadata": {
  "kernelspec": {
   "display_name": "Python 3 (ipykernel)",
   "language": "python",
   "name": "python3"
  },
  "language_info": {
   "codemirror_mode": {
    "name": "ipython",
    "version": 3
   },
   "file_extension": ".py",
   "mimetype": "text/x-python",
   "name": "python",
   "nbconvert_exporter": "python",
   "pygments_lexer": "ipython3",
   "version": "3.10.8"
  }
 },
 "nbformat": 4,
 "nbformat_minor": 5
}
