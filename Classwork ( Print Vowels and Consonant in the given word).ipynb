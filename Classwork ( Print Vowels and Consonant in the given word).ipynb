{
 "cells": [
  {
   "cell_type": "markdown",
   "id": "08264e05",
   "metadata": {},
   "source": [
    "# WAP to print vowels and consonant in given word."
   ]
  },
  {
   "cell_type": "code",
   "execution_count": 1,
   "id": "d78eeb51",
   "metadata": {},
   "outputs": [],
   "source": [
    "s = \"aeyi\""
   ]
  },
  {
   "cell_type": "code",
   "execution_count": 2,
   "id": "452f11bc",
   "metadata": {},
   "outputs": [],
   "source": [
    "length = len(s)"
   ]
  },
  {
   "cell_type": "code",
   "execution_count": 8,
   "id": "e62f6555",
   "metadata": {},
   "outputs": [
    {
     "name": "stdout",
     "output_type": "stream",
     "text": [
      "Vowel = a\n",
      "Vowel = e\n",
      "Consonant = y\n",
      "Vowel = i\n"
     ]
    }
   ],
   "source": [
    "for i in range(0, length, 1):\n",
    "    letter = s[i]\n",
    "    if letter == \"a\" or letter == \"e\" or letter == \"i\" or letter == \"o\" or letter == \"u\":\n",
    "        print(f\"Vowel = {letter}\")\n",
    "    else:\n",
    "        print(f\"Consonant = {letter}\")\n",
    "    "
   ]
  },
  {
   "cell_type": "code",
   "execution_count": null,
   "id": "3a31635d",
   "metadata": {},
   "outputs": [],
   "source": []
  }
 ],
 "metadata": {
  "kernelspec": {
   "display_name": "Python 3 (ipykernel)",
   "language": "python",
   "name": "python3"
  },
  "language_info": {
   "codemirror_mode": {
    "name": "ipython",
    "version": 3
   },
   "file_extension": ".py",
   "mimetype": "text/x-python",
   "name": "python",
   "nbconvert_exporter": "python",
   "pygments_lexer": "ipython3",
   "version": "3.10.8"
  }
 },
 "nbformat": 4,
 "nbformat_minor": 5
}
