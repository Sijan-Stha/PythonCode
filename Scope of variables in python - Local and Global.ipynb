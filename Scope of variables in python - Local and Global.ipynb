{
 "cells": [
  {
   "cell_type": "markdown",
   "id": "adc95826",
   "metadata": {},
   "source": [
    "# Scope of variables in python functions: global and local"
   ]
  },
  {
   "cell_type": "code",
   "execution_count": 8,
   "id": "d782b1f5",
   "metadata": {},
   "outputs": [],
   "source": [
    "x = 'awesome'\n",
    "\n",
    "def display(x):\n",
    "    x = 'fantastic'\n",
    "    print(f'python is {x}')"
   ]
  },
  {
   "cell_type": "code",
   "execution_count": 4,
   "id": "cf7b240f",
   "metadata": {},
   "outputs": [
    {
     "data": {
      "text/plain": [
       "'awesome'"
      ]
     },
     "execution_count": 4,
     "metadata": {},
     "output_type": "execute_result"
    }
   ],
   "source": [
    "x # global variable (outside a function)"
   ]
  },
  {
   "cell_type": "code",
   "execution_count": 5,
   "id": "667a5c50",
   "metadata": {},
   "outputs": [
    {
     "ename": "NameError",
     "evalue": "name 'z' is not defined",
     "output_type": "error",
     "traceback": [
      "\u001b[1;31m---------------------------------------------------------------------------\u001b[0m",
      "\u001b[1;31mNameError\u001b[0m                                 Traceback (most recent call last)",
      "Cell \u001b[1;32mIn[5], line 1\u001b[0m\n\u001b[1;32m----> 1\u001b[0m \u001b[43mz\u001b[49m\n",
      "\u001b[1;31mNameError\u001b[0m: name 'z' is not defined"
     ]
    }
   ],
   "source": [
    "z # local variable ( inside a function)"
   ]
  },
  {
   "cell_type": "code",
   "execution_count": 9,
   "id": "da2bb541",
   "metadata": {},
   "outputs": [
    {
     "name": "stdout",
     "output_type": "stream",
     "text": [
      "python is fantastic\n"
     ]
    }
   ],
   "source": [
    "display(x)"
   ]
  },
  {
   "cell_type": "code",
   "execution_count": 4,
   "id": "61043bee",
   "metadata": {},
   "outputs": [],
   "source": [
    "\n",
    "def display():\n",
    "    global x\n",
    "    global z\n",
    "    x = 'fantastic'\n",
    "    z = 'python is'\n",
    "    print(f'{z} {x}')"
   ]
  },
  {
   "cell_type": "code",
   "execution_count": 5,
   "id": "48619ecb",
   "metadata": {},
   "outputs": [
    {
     "name": "stdout",
     "output_type": "stream",
     "text": [
      "python is fantastic\n"
     ]
    }
   ],
   "source": [
    "display()"
   ]
  },
  {
   "cell_type": "code",
   "execution_count": 6,
   "id": "25085be5",
   "metadata": {},
   "outputs": [
    {
     "data": {
      "text/plain": [
       "'python is'"
      ]
     },
     "execution_count": 6,
     "metadata": {},
     "output_type": "execute_result"
    }
   ],
   "source": [
    "z"
   ]
  },
  {
   "cell_type": "code",
   "execution_count": null,
   "id": "7561f304",
   "metadata": {},
   "outputs": [],
   "source": []
  }
 ],
 "metadata": {
  "kernelspec": {
   "display_name": "Python 3 (ipykernel)",
   "language": "python",
   "name": "python3"
  },
  "language_info": {
   "codemirror_mode": {
    "name": "ipython",
    "version": 3
   },
   "file_extension": ".py",
   "mimetype": "text/x-python",
   "name": "python",
   "nbconvert_exporter": "python",
   "pygments_lexer": "ipython3",
   "version": "3.10.9"
  }
 },
 "nbformat": 4,
 "nbformat_minor": 5
}
