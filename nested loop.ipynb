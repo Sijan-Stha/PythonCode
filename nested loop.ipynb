{
 "cells": [
  {
   "cell_type": "code",
   "execution_count": 2,
   "id": "653bf867",
   "metadata": {},
   "outputs": [
    {
     "name": "stdout",
     "output_type": "stream",
     "text": [
      "........\n",
      "i = 0\n",
      ".........\n",
      "j = 0\n",
      "j = 1\n",
      "j = 2\n",
      "........\n",
      "i = 1\n",
      ".........\n",
      "j = 0\n",
      "j = 1\n",
      "j = 2\n",
      "........\n",
      "i = 2\n",
      ".........\n",
      "j = 0\n",
      "j = 1\n",
      "j = 2\n",
      "........\n",
      "i = 3\n",
      ".........\n",
      "j = 0\n",
      "j = 1\n",
      "j = 2\n",
      "........\n",
      "i = 4\n",
      ".........\n",
      "j = 0\n",
      "j = 1\n",
      "j = 2\n"
     ]
    }
   ],
   "source": [
    "for i in range(5):\n",
    "    print(\"........\")\n",
    "    print(f\"i = {i}\")\n",
    "    print(\".........\")\n",
    "    for j in range(3):\n",
    "        print(f\"j = {j}\")\n",
    "        "
   ]
  },
  {
   "cell_type": "code",
   "execution_count": 3,
   "id": "d04d4e57",
   "metadata": {},
   "outputs": [],
   "source": [
    "num = [[1, 3, 6], [4, 6, 9, 9], [2, 5]]"
   ]
  },
  {
   "cell_type": "code",
   "execution_count": 4,
   "id": "bccf5954",
   "metadata": {},
   "outputs": [
    {
     "name": "stdout",
     "output_type": "stream",
     "text": [
      "[1, 3, 6]\n",
      "[4, 6, 9, 9]\n",
      "[2, 5]\n"
     ]
    }
   ],
   "source": [
    "for item in num:\n",
    "    print(item)"
   ]
  },
  {
   "cell_type": "code",
   "execution_count": 7,
   "id": "c911a8b2",
   "metadata": {},
   "outputs": [
    {
     "name": "stdout",
     "output_type": "stream",
     "text": [
      "[1, 3, 6]\n",
      "3.3333333333333335\n",
      "[4, 6, 9, 9]\n",
      "7.0\n",
      "[2, 5]\n",
      "3.5\n",
      "[3.3333333333333335, 7.0, 3.5]\n"
     ]
    }
   ],
   "source": [
    "mean_values = []\n",
    "for item in num:\n",
    "    print(item)\n",
    "    total = 0\n",
    "    for tokens in item:\n",
    "        total = total + tokens\n",
    "    mean = total/len(item)\n",
    "    print(mean)\n",
    "    mean_values.append(mean)\n",
    "print(mean_values)"
   ]
  },
  {
   "cell_type": "code",
   "execution_count": null,
   "id": "5a156f27",
   "metadata": {},
   "outputs": [],
   "source": []
  }
 ],
 "metadata": {
  "kernelspec": {
   "display_name": "Python 3 (ipykernel)",
   "language": "python",
   "name": "python3"
  },
  "language_info": {
   "codemirror_mode": {
    "name": "ipython",
    "version": 3
   },
   "file_extension": ".py",
   "mimetype": "text/x-python",
   "name": "python",
   "nbconvert_exporter": "python",
   "pygments_lexer": "ipython3",
   "version": "3.10.9"
  }
 },
 "nbformat": 4,
 "nbformat_minor": 5
}
