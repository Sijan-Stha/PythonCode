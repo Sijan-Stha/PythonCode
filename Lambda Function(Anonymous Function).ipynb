{
 "cells": [
  {
   "cell_type": "markdown",
   "id": "0fef8348",
   "metadata": {},
   "source": [
    "```python\n",
    "lambda argument: Expression\n",
    "```"
   ]
  },
  {
   "cell_type": "code",
   "execution_count": 2,
   "id": "014f5d0b",
   "metadata": {},
   "outputs": [],
   "source": [
    "sq = lambda x: x**2"
   ]
  },
  {
   "cell_type": "code",
   "execution_count": 3,
   "id": "29c0117f",
   "metadata": {},
   "outputs": [
    {
     "data": {
      "text/plain": [
       "25"
      ]
     },
     "execution_count": 3,
     "metadata": {},
     "output_type": "execute_result"
    }
   ],
   "source": [
    "sq(5)"
   ]
  },
  {
   "cell_type": "markdown",
   "id": "2abcc5eb",
   "metadata": {},
   "source": [
    "# filter() and map() using lambda function"
   ]
  },
  {
   "cell_type": "code",
   "execution_count": 7,
   "id": "57f6757a",
   "metadata": {},
   "outputs": [
    {
     "data": {
      "text/plain": [
       "<filter at 0x23be57b6290>"
      ]
     },
     "execution_count": 7,
     "metadata": {},
     "output_type": "execute_result"
    }
   ],
   "source": [
    "filter(lambda x: x % 2 == 0, [1, 2, 3, 4, 5, 6])"
   ]
  },
  {
   "cell_type": "code",
   "execution_count": 8,
   "id": "4fac854d",
   "metadata": {},
   "outputs": [
    {
     "data": {
      "text/plain": [
       "[2, 4, 6]"
      ]
     },
     "execution_count": 8,
     "metadata": {},
     "output_type": "execute_result"
    }
   ],
   "source": [
    "list(filter(lambda x: x % 2 == 0, [1, 2, 3, 4, 5, 6]))"
   ]
  },
  {
   "cell_type": "code",
   "execution_count": 9,
   "id": "9db95a24",
   "metadata": {},
   "outputs": [
    {
     "data": {
      "text/plain": [
       "[1, 3, 5]"
      ]
     },
     "execution_count": 9,
     "metadata": {},
     "output_type": "execute_result"
    }
   ],
   "source": [
    "list(filter(lambda x: x % 2 != 0, [1, 2, 3, 4, 5, 6]))"
   ]
  },
  {
   "cell_type": "code",
   "execution_count": 10,
   "id": "37578934",
   "metadata": {},
   "outputs": [],
   "source": [
    "corpus = ['he is a good person.', 'he is a football player']"
   ]
  },
  {
   "cell_type": "code",
   "execution_count": 18,
   "id": "fe7e98f6",
   "metadata": {},
   "outputs": [
    {
     "data": {
      "text/plain": [
       "['she is a good person.', 'she is a football player']"
      ]
     },
     "execution_count": 18,
     "metadata": {},
     "output_type": "execute_result"
    }
   ],
   "source": [
    "list(map(lambda x: x.replace('he', 'she'), corpus))"
   ]
  },
  {
   "cell_type": "code",
   "execution_count": null,
   "id": "769675d0",
   "metadata": {},
   "outputs": [],
   "source": []
  }
 ],
 "metadata": {
  "kernelspec": {
   "display_name": "Python 3 (ipykernel)",
   "language": "python",
   "name": "python3"
  },
  "language_info": {
   "codemirror_mode": {
    "name": "ipython",
    "version": 3
   },
   "file_extension": ".py",
   "mimetype": "text/x-python",
   "name": "python",
   "nbconvert_exporter": "python",
   "pygments_lexer": "ipython3",
   "version": "3.10.9"
  }
 },
 "nbformat": 4,
 "nbformat_minor": 5
}
