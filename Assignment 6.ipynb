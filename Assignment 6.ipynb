{
 "cells": [
  {
   "cell_type": "markdown",
   "id": "89842850",
   "metadata": {},
   "source": [
    "# Suppose we have two strings\n",
    "* string1 = \"NEPALINDIACHINA\"\n",
    "* string2 = \"indiachinanepal\"\n",
    "\n",
    "**suppose i shifted string by 5 position right(circular), I will get string 2. This phenomenon is called rotation of string. This means string2 is the rotation string of string1.\n",
    "\n",
    "# write a program to check if string2 is the rotation of string1 or not.\n"
   ]
  },
  {
   "cell_type": "code",
   "execution_count": 19,
   "id": "a7ed8dd6",
   "metadata": {},
   "outputs": [],
   "source": [
    "string1 = \"NEPALINDIACHINA\"\n",
    "string2 = \"indiachinanepal\"\n",
    "\n",
    "string1 = string1.lower()\n",
    "string2 = string2.lower()"
   ]
  },
  {
   "cell_type": "code",
   "execution_count": 20,
   "id": "f914891c",
   "metadata": {},
   "outputs": [
    {
     "name": "stdout",
     "output_type": "stream",
     "text": [
      "nepalindiachina\n",
      "nepalindiachina\n",
      "nepalindiachina\n",
      "nepalindiachina\n",
      "nepalindiachina\n",
      "nepalindiachina\n",
      "nepalindiachina\n",
      "nepalindiachina\n",
      "nepalindiachina\n",
      "nepalindiachina\n",
      "nepalindiachina\n",
      "nepalindiachina\n",
      "nepalindiachina\n",
      "nepalindiachina\n",
      "nepalindiachina\n"
     ]
    }
   ],
   "source": [
    "if len(string1) == len(string2):\n",
    "    for i in range(len(string1)):\n",
    "        first = string1[0 : len(string1)-i]\n",
    "        second = string1[len(string1)-i : ]\n",
    "        rotation_string = Rfirst + Rsecond\n",
    "        print(rotation_string)\n",
    "else:\n",
    "    print(\"String2 is not the rotation of String1.\")"
   ]
  },
  {
   "cell_type": "code",
   "execution_count": 14,
   "id": "465d62ba",
   "metadata": {},
   "outputs": [
    {
     "data": {
      "text/plain": [
       "'nepalindia'"
      ]
     },
     "execution_count": 14,
     "metadata": {},
     "output_type": "execute_result"
    }
   ],
   "source": [
    "Rfirst"
   ]
  },
  {
   "cell_type": "code",
   "execution_count": 15,
   "id": "954a5251",
   "metadata": {},
   "outputs": [
    {
     "data": {
      "text/plain": [
       "'china'"
      ]
     },
     "execution_count": 15,
     "metadata": {},
     "output_type": "execute_result"
    }
   ],
   "source": [
    "Rsecond"
   ]
  },
  {
   "cell_type": "code",
   "execution_count": null,
   "id": "8d8d259e",
   "metadata": {},
   "outputs": [],
   "source": []
  }
 ],
 "metadata": {
  "kernelspec": {
   "display_name": "Python 3 (ipykernel)",
   "language": "python",
   "name": "python3"
  },
  "language_info": {
   "codemirror_mode": {
    "name": "ipython",
    "version": 3
   },
   "file_extension": ".py",
   "mimetype": "text/x-python",
   "name": "python",
   "nbconvert_exporter": "python",
   "pygments_lexer": "ipython3",
   "version": "3.10.9"
  }
 },
 "nbformat": 4,
 "nbformat_minor": 5
}
