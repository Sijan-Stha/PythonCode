{
 "cells": [
  {
   "cell_type": "code",
   "execution_count": 3,
   "id": "918f983e",
   "metadata": {},
   "outputs": [],
   "source": [
    "def greet(name, msg):\n",
    "    print(f\"Hello, {name} {msg}\")"
   ]
  },
  {
   "cell_type": "code",
   "execution_count": 5,
   "id": "4733ca82",
   "metadata": {},
   "outputs": [
    {
     "name": "stdout",
     "output_type": "stream",
     "text": [
      "Hello, sijan good morning\n"
     ]
    }
   ],
   "source": [
    "greet(\"sijan\", \"good morning\")"
   ]
  },
  {
   "cell_type": "code",
   "execution_count": 6,
   "id": "123f2c15",
   "metadata": {},
   "outputs": [
    {
     "name": "stdout",
     "output_type": "stream",
     "text": [
      "Hello, ram Good Morning\n"
     ]
    }
   ],
   "source": [
    "greet('ram', 'Good Morning')"
   ]
  },
  {
   "cell_type": "code",
   "execution_count": 7,
   "id": "33b37111",
   "metadata": {},
   "outputs": [
    {
     "name": "stdout",
     "output_type": "stream",
     "text": [
      "Hello, sam good morning\n"
     ]
    }
   ],
   "source": [
    "greet('sam', 'good morning')"
   ]
  },
  {
   "cell_type": "markdown",
   "id": "83637952",
   "metadata": {},
   "source": [
    "# Default Argument"
   ]
  },
  {
   "cell_type": "code",
   "execution_count": 11,
   "id": "4ecf1581",
   "metadata": {},
   "outputs": [],
   "source": [
    "def greet(name, msg = 'Good Morning'): # msg is a default argument\n",
    "    print(f\"Hello, {name} {msg}\")"
   ]
  },
  {
   "cell_type": "code",
   "execution_count": 12,
   "id": "156b89e9",
   "metadata": {},
   "outputs": [
    {
     "name": "stdout",
     "output_type": "stream",
     "text": [
      "Hello, sijan Good Morning\n"
     ]
    }
   ],
   "source": [
    "greet('sijan')"
   ]
  },
  {
   "cell_type": "code",
   "execution_count": 13,
   "id": "3753d553",
   "metadata": {},
   "outputs": [
    {
     "name": "stdout",
     "output_type": "stream",
     "text": [
      "Hello, sam Good Morning\n"
     ]
    }
   ],
   "source": [
    "greet('sam')"
   ]
  },
  {
   "cell_type": "code",
   "execution_count": 15,
   "id": "90b77200",
   "metadata": {},
   "outputs": [
    {
     "name": "stdout",
     "output_type": "stream",
     "text": [
      "Hello, sijan good afternoon\n"
     ]
    }
   ],
   "source": [
    "# 'good afternoon' overwrites default argument msg value.\n",
    "greet('sijan', 'good afternoon')"
   ]
  },
  {
   "cell_type": "markdown",
   "id": "ac728fe6",
   "metadata": {},
   "source": [
    "# default vs non-default argument"
   ]
  },
  {
   "cell_type": "code",
   "execution_count": 18,
   "id": "dee896d8",
   "metadata": {},
   "outputs": [
    {
     "ename": "SyntaxError",
     "evalue": "non-default argument follows default argument (4199797384.py, line 1)",
     "output_type": "error",
     "traceback": [
      "\u001b[1;36m  Cell \u001b[1;32mIn[18], line 1\u001b[1;36m\u001b[0m\n\u001b[1;33m    def greet(msg = 'Good Morning', name): # msg is a default argument and name is a non-default argument\u001b[0m\n\u001b[1;37m                                    ^\u001b[0m\n\u001b[1;31mSyntaxError\u001b[0m\u001b[1;31m:\u001b[0m non-default argument follows default argument\n"
     ]
    }
   ],
   "source": [
    "def greet(msg = 'Good Morning', name): # msg is a default argument and name is a non-default argument\n",
    "    print(f\"Hello, {name} {msg}\")"
   ]
  },
  {
   "cell_type": "code",
   "execution_count": null,
   "id": "658122b1",
   "metadata": {},
   "outputs": [],
   "source": []
  }
 ],
 "metadata": {
  "kernelspec": {
   "display_name": "Python 3 (ipykernel)",
   "language": "python",
   "name": "python3"
  },
  "language_info": {
   "codemirror_mode": {
    "name": "ipython",
    "version": 3
   },
   "file_extension": ".py",
   "mimetype": "text/x-python",
   "name": "python",
   "nbconvert_exporter": "python",
   "pygments_lexer": "ipython3",
   "version": "3.10.9"
  }
 },
 "nbformat": 4,
 "nbformat_minor": 5
}
