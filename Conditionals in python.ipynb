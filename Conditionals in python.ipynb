{
 "cells": [
  {
   "cell_type": "markdown",
   "id": "53c5ab14",
   "metadata": {},
   "source": [
    "# Find if the user input is odd or even"
   ]
  },
  {
   "cell_type": "code",
   "execution_count": 4,
   "id": "2e3458d7",
   "metadata": {},
   "outputs": [
    {
     "name": "stdout",
     "output_type": "stream",
     "text": [
      "Enter a Number: 548\n",
      "Num1 is an Even number.\n"
     ]
    }
   ],
   "source": [
    "num1 = int(input(\"Enter a Number: \"))\n",
    "\n",
    "rem = num1 % 2\n",
    "\n",
    "if rem == 0:\n",
    "    print(f\"Num1 is an Even number.\")\n",
    "\n",
    "else:\n",
    "    print(f\"Num1 is an Odd number.\")"
   ]
  },
  {
   "cell_type": "code",
   "execution_count": 8,
   "id": "1729b93b",
   "metadata": {},
   "outputs": [
    {
     "name": "stdout",
     "output_type": "stream",
     "text": [
      "Enter a Number: 0\n",
      "Num1 is a positive number.\n"
     ]
    }
   ],
   "source": [
    "num1 = int(input(\"Enter a Number: \"))\n",
    "\n",
    "if num1 >= 0:\n",
    "    print(f\"Num1 is a positive number.\")\n",
    "\n",
    "else:\n",
    "    print(f\"Num1 is an negative number.\")"
   ]
  },
  {
   "cell_type": "code",
   "execution_count": null,
   "id": "3bde6813",
   "metadata": {},
   "outputs": [],
   "source": []
  }
 ],
 "metadata": {
  "kernelspec": {
   "display_name": "Python 3 (ipykernel)",
   "language": "python",
   "name": "python3"
  },
  "language_info": {
   "codemirror_mode": {
    "name": "ipython",
    "version": 3
   },
   "file_extension": ".py",
   "mimetype": "text/x-python",
   "name": "python",
   "nbconvert_exporter": "python",
   "pygments_lexer": "ipython3",
   "version": "3.10.8"
  }
 },
 "nbformat": 4,
 "nbformat_minor": 5
}
